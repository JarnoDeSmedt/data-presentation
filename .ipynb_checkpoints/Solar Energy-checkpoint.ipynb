{
 "cells": [
  {
   "cell_type": "markdown",
   "id": "b289e248",
   "metadata": {},
   "source": [
    "# Data Presentation: Zonne-energie op basis van het weer\n",
    "In dit datavisualisatie project wordt de correlatie tussen de productie van elektriciteit met zonnepanelen en het weer op dat moment onderzocht. Op het einde wordt er een conclusie getrokken waarin dit zal worden aangetoond of weerlegd. Er wordt met Spark (PySpark) gewerkt in een Jupyter Notebook omgeving om de data te preprocessen en te analyseren.\n",
    "\n",
    "De data is beperkt tot Calgary, Canada gezien ik geen andere kwalitatieve data kon vinden waar ook kwalitatieve historische weerdata voor te vinden was.\n",
    "\n",
    "De datasets zijn terug te vinden op onderstaande links.\n",
    "- solar production: https://www.kaggle.com/datasets/ivnlee/solar-energy-production\n",
    "\n",
    "- weer data: https://calgary.weatherstats.ca/download.html\n",
    "\n",
    "Onderstaande kaart geeft inzicht over waar de data vandaan komt en zoals we zien zit er 27,59 kilometer tussen de 2 databronnen"
   ]
  },
  {
   "cell_type": "code",
   "execution_count": 1,
   "id": "a4c633b3",
   "metadata": {
    "scrolled": false
   },
   "outputs": [
    {
     "data": {
      "text/html": [
       "<div style=\"width:100%;\"><div style=\"position:relative;width:100%;height:0;padding-bottom:60%;\"><span style=\"color:#565656\">Make this Notebook Trusted to load map: File -> Trust Notebook</span><iframe srcdoc=\"&lt;!DOCTYPE html&gt;\n",
       "&lt;html&gt;\n",
       "&lt;head&gt;\n",
       "    \n",
       "    &lt;meta http-equiv=&quot;content-type&quot; content=&quot;text/html; charset=UTF-8&quot; /&gt;\n",
       "    \n",
       "        &lt;script&gt;\n",
       "            L_NO_TOUCH = false;\n",
       "            L_DISABLE_3D = false;\n",
       "        &lt;/script&gt;\n",
       "    \n",
       "    &lt;style&gt;html, body {width: 100%;height: 100%;margin: 0;padding: 0;}&lt;/style&gt;\n",
       "    &lt;style&gt;#map {position:absolute;top:0;bottom:0;right:0;left:0;}&lt;/style&gt;\n",
       "    &lt;script src=&quot;https://cdn.jsdelivr.net/npm/leaflet@1.9.3/dist/leaflet.js&quot;&gt;&lt;/script&gt;\n",
       "    &lt;script src=&quot;https://code.jquery.com/jquery-3.7.1.min.js&quot;&gt;&lt;/script&gt;\n",
       "    &lt;script src=&quot;https://cdn.jsdelivr.net/npm/bootstrap@5.2.2/dist/js/bootstrap.bundle.min.js&quot;&gt;&lt;/script&gt;\n",
       "    &lt;script src=&quot;https://cdnjs.cloudflare.com/ajax/libs/Leaflet.awesome-markers/2.0.2/leaflet.awesome-markers.js&quot;&gt;&lt;/script&gt;\n",
       "    &lt;link rel=&quot;stylesheet&quot; href=&quot;https://cdn.jsdelivr.net/npm/leaflet@1.9.3/dist/leaflet.css&quot;/&gt;\n",
       "    &lt;link rel=&quot;stylesheet&quot; href=&quot;https://cdn.jsdelivr.net/npm/bootstrap@5.2.2/dist/css/bootstrap.min.css&quot;/&gt;\n",
       "    &lt;link rel=&quot;stylesheet&quot; href=&quot;https://netdna.bootstrapcdn.com/bootstrap/3.0.0/css/bootstrap.min.css&quot;/&gt;\n",
       "    &lt;link rel=&quot;stylesheet&quot; href=&quot;https://cdn.jsdelivr.net/npm/@fortawesome/fontawesome-free@6.2.0/css/all.min.css&quot;/&gt;\n",
       "    &lt;link rel=&quot;stylesheet&quot; href=&quot;https://cdnjs.cloudflare.com/ajax/libs/Leaflet.awesome-markers/2.0.2/leaflet.awesome-markers.css&quot;/&gt;\n",
       "    &lt;link rel=&quot;stylesheet&quot; href=&quot;https://cdn.jsdelivr.net/gh/python-visualization/folium/folium/templates/leaflet.awesome.rotate.min.css&quot;/&gt;\n",
       "    \n",
       "            &lt;meta name=&quot;viewport&quot; content=&quot;width=device-width,\n",
       "                initial-scale=1.0, maximum-scale=1.0, user-scalable=no&quot; /&gt;\n",
       "            &lt;style&gt;\n",
       "                #map_af746384b818658c51a5c24c0470b996 {\n",
       "                    position: relative;\n",
       "                    width: 100.0%;\n",
       "                    height: 100.0%;\n",
       "                    left: 0.0%;\n",
       "                    top: 0.0%;\n",
       "                }\n",
       "                .leaflet-container { font-size: 1rem; }\n",
       "            &lt;/style&gt;\n",
       "        \n",
       "&lt;/head&gt;\n",
       "&lt;body&gt;\n",
       "    \n",
       "    \n",
       "            &lt;div class=&quot;folium-map&quot; id=&quot;map_af746384b818658c51a5c24c0470b996&quot; &gt;&lt;/div&gt;\n",
       "        \n",
       "&lt;/body&gt;\n",
       "&lt;script&gt;\n",
       "    \n",
       "    \n",
       "            var map_af746384b818658c51a5c24c0470b996 = L.map(\n",
       "                &quot;map_af746384b818658c51a5c24c0470b996&quot;,\n",
       "                {\n",
       "                    center: [51.1, -114.0],\n",
       "                    crs: L.CRS.EPSG3857,\n",
       "                    zoom: 10,\n",
       "                    zoomControl: true,\n",
       "                    preferCanvas: false,\n",
       "                }\n",
       "            );\n",
       "\n",
       "            \n",
       "\n",
       "        \n",
       "    \n",
       "            var tile_layer_8aed146eaf2cef2fb6f7024d4ff51684 = L.tileLayer(\n",
       "                &quot;https://tile.openstreetmap.org/{z}/{x}/{y}.png&quot;,\n",
       "                {&quot;attribution&quot;: &quot;\\u0026copy; \\u003ca href=\\&quot;https://www.openstreetmap.org/copyright\\&quot;\\u003eOpenStreetMap\\u003c/a\\u003e contributors&quot;, &quot;detectRetina&quot;: false, &quot;maxNativeZoom&quot;: 19, &quot;maxZoom&quot;: 19, &quot;minZoom&quot;: 0, &quot;noWrap&quot;: false, &quot;opacity&quot;: 1, &quot;subdomains&quot;: &quot;abc&quot;, &quot;tms&quot;: false}\n",
       "            );\n",
       "        \n",
       "    \n",
       "            tile_layer_8aed146eaf2cef2fb6f7024d4ff51684.addTo(map_af746384b818658c51a5c24c0470b996);\n",
       "        \n",
       "    \n",
       "            var marker_4a6a55b40192ee2b01a2677798f2c341 = L.marker(\n",
       "                [51.157807, -114.213362],\n",
       "                {}\n",
       "            ).addTo(map_af746384b818658c51a5c24c0470b996);\n",
       "        \n",
       "    \n",
       "            var icon_0437707035839b46e67097bffd68fb5a = L.AwesomeMarkers.icon(\n",
       "                {&quot;extraClasses&quot;: &quot;fa-rotate-180&quot;, &quot;icon&quot;: &quot;bolt&quot;, &quot;iconColor&quot;: &quot;white&quot;, &quot;markerColor&quot;: &quot;green&quot;, &quot;prefix&quot;: &quot;fa&quot;}\n",
       "            );\n",
       "            marker_4a6a55b40192ee2b01a2677798f2c341.setIcon(icon_0437707035839b46e67097bffd68fb5a);\n",
       "        \n",
       "    \n",
       "        var popup_d2163da4e49026e3d00c47c003359bcb = L.popup({&quot;maxWidth&quot;: &quot;100%&quot;});\n",
       "\n",
       "        \n",
       "            \n",
       "                var html_175ab0c987553e1cad2e394fff43acce = $(`&lt;div id=&quot;html_175ab0c987553e1cad2e394fff43acce&quot; style=&quot;width: 100.0%; height: 100.0%;&quot;&gt;Calgary Solar Station&lt;/div&gt;`)[0];\n",
       "                popup_d2163da4e49026e3d00c47c003359bcb.setContent(html_175ab0c987553e1cad2e394fff43acce);\n",
       "            \n",
       "        \n",
       "\n",
       "        marker_4a6a55b40192ee2b01a2677798f2c341.bindPopup(popup_d2163da4e49026e3d00c47c003359bcb)\n",
       "        ;\n",
       "\n",
       "        \n",
       "    \n",
       "    \n",
       "            marker_4a6a55b40192ee2b01a2677798f2c341.bindTooltip(\n",
       "                `&lt;div&gt;\n",
       "                     Click me!\n",
       "                 &lt;/div&gt;`,\n",
       "                {&quot;sticky&quot;: true}\n",
       "            );\n",
       "        \n",
       "    \n",
       "            var marker_8618020f116a5961c9bc1d14db6bdeb3 = L.marker(\n",
       "                [50.95636, -113.983902],\n",
       "                {}\n",
       "            ).addTo(map_af746384b818658c51a5c24c0470b996);\n",
       "        \n",
       "    \n",
       "            var icon_ee996aaddb4fb32f963cf4a8dfb78eae = L.AwesomeMarkers.icon(\n",
       "                {&quot;extraClasses&quot;: &quot;fa-rotate-180&quot;, &quot;icon&quot;: &quot;sun&quot;, &quot;iconColor&quot;: &quot;white&quot;, &quot;markerColor&quot;: &quot;orange&quot;, &quot;prefix&quot;: &quot;fa&quot;}\n",
       "            );\n",
       "            marker_8618020f116a5961c9bc1d14db6bdeb3.setIcon(icon_ee996aaddb4fb32f963cf4a8dfb78eae);\n",
       "        \n",
       "    \n",
       "        var popup_799f63536395317348cfbd6cd478aead = L.popup({&quot;maxWidth&quot;: &quot;100%&quot;});\n",
       "\n",
       "        \n",
       "            \n",
       "                var html_c48e47cc7879ebe0e8091f21e0a63ae6 = $(`&lt;div id=&quot;html_c48e47cc7879ebe0e8091f21e0a63ae6&quot; style=&quot;width: 100.0%; height: 100.0%;&quot;&gt;Calgary Weather Station&lt;/div&gt;`)[0];\n",
       "                popup_799f63536395317348cfbd6cd478aead.setContent(html_c48e47cc7879ebe0e8091f21e0a63ae6);\n",
       "            \n",
       "        \n",
       "\n",
       "        marker_8618020f116a5961c9bc1d14db6bdeb3.bindPopup(popup_799f63536395317348cfbd6cd478aead)\n",
       "        ;\n",
       "\n",
       "        \n",
       "    \n",
       "    \n",
       "            marker_8618020f116a5961c9bc1d14db6bdeb3.bindTooltip(\n",
       "                `&lt;div&gt;\n",
       "                     Click me!\n",
       "                 &lt;/div&gt;`,\n",
       "                {&quot;sticky&quot;: true}\n",
       "            );\n",
       "        \n",
       "    \n",
       "            var poly_line_49a1fbb27dbbf4a4bb8bdd84601b6b17 = L.polyline(\n",
       "                [[50.95636, -113.983902], [51.157807, -114.213362]],\n",
       "                {&quot;bubblingMouseEvents&quot;: true, &quot;color&quot;: &quot;green&quot;, &quot;dashArray&quot;: null, &quot;dashOffset&quot;: null, &quot;fill&quot;: false, &quot;fillColor&quot;: &quot;green&quot;, &quot;fillOpacity&quot;: 0.2, &quot;fillRule&quot;: &quot;evenodd&quot;, &quot;lineCap&quot;: &quot;round&quot;, &quot;lineJoin&quot;: &quot;round&quot;, &quot;noClip&quot;: false, &quot;opacity&quot;: 1.0, &quot;smoothFactor&quot;: 1.0, &quot;stroke&quot;: true, &quot;weight&quot;: 5}\n",
       "            ).addTo(map_af746384b818658c51a5c24c0470b996);\n",
       "        \n",
       "    \n",
       "            poly_line_49a1fbb27dbbf4a4bb8bdd84601b6b17.bindTooltip(\n",
       "                `&lt;div&gt;\n",
       "                     27.59 KM\n",
       "                 &lt;/div&gt;`,\n",
       "                {&quot;sticky&quot;: true}\n",
       "            );\n",
       "        \n",
       "&lt;/script&gt;\n",
       "&lt;/html&gt;\" style=\"position:absolute;width:100%;height:100%;left:0;top:0;border:none !important;\" allowfullscreen webkitallowfullscreen mozallowfullscreen></iframe></div></div>"
      ],
      "text/plain": [
       "<folium.folium.Map at 0x2d290a69160>"
      ]
     },
     "execution_count": 1,
     "metadata": {},
     "output_type": "execute_result"
    }
   ],
   "source": [
    "import folium \n",
    "import geopy.distance\n",
    "import numpy as np\n",
    "\n",
    "lat_calgary_station = 51.157807\n",
    "lon_calgary_station = -114.213362\n",
    "lat_solar_park = 50.956360\n",
    "lon_solar_park = -113.983902\n",
    "\n",
    "solar_loc = (lat_solar_park,lon_solar_park)\n",
    "weather_loc = (lat_calgary_station,lon_calgary_station)\n",
    "\n",
    "m = folium.Map([51.1, -114.0], zoom_start=10)\n",
    "\n",
    "solar = {\"prefix\": \"fa\", \"color\": \"green\", \"icon\": \"bolt\"}\n",
    "weather = {\"prefix\": \"fa\", \"color\": \"orange\", \"icon\": \"sun\"}\n",
    "\n",
    "angle = 180\n",
    "folium.Marker(\n",
    "    location=[lat_calgary_station, lon_calgary_station],\n",
    "    tooltip=\"Click me!\",\n",
    "    popup=\"Calgary Solar Station\",\n",
    "    icon=folium.Icon(angle=angle, **solar),\n",
    ").add_to(m)\n",
    "\n",
    "folium.Marker(\n",
    "    location=[lat_solar_park, lon_solar_park],\n",
    "    tooltip=\"Click me!\",\n",
    "    popup=\"Calgary Weather Station\",\n",
    "    icon=folium.Icon(angle=angle, **weather),\n",
    ").add_to(m)\n",
    "\n",
    "# vogelvlucht\n",
    "folium.PolyLine(\n",
    "    locations=[solar_loc, weather_loc],\n",
    "    color='green',\n",
    "    weight=5,\n",
    "    tooltip=str(np.round(geopy.distance.geodesic(solar_loc, weather_loc).km, 2)) + \" KM\"\n",
    ").add_to(m)\n",
    "\n",
    "m\n"
   ]
  },
  {
   "cell_type": "markdown",
   "id": "7c71baf8",
   "metadata": {},
   "source": [
    "## Imports en Spark innitialiseren"
   ]
  },
  {
   "cell_type": "code",
   "execution_count": 2,
   "id": "7dc6808e",
   "metadata": {},
   "outputs": [],
   "source": [
    "from pyspark.sql import SparkSession, SQLContext\n",
    "from pyspark.sql.types import StructType, StructField, IntegerType, StringType\n",
    "from pyspark.sql.functions import col, unix_timestamp, from_unixtime, to_date, year, month, expr, when\n",
    "import matplotlib.pyplot as plt\n",
    "import seaborn as sns\n",
    "import ipywidgets as widgets\n",
    "from IPython.display import display, clear_output\n",
    "from IPython.display import Javascript, display\n",
    "from datetime import datetime\n",
    "import time\n",
    "from pyspark.ml.feature import VectorAssembler\n",
    "from pyspark.ml.regression import RandomForestRegressor\n",
    "from pyspark.ml import Pipeline\n",
    "from pyspark.sql import Window\n",
    "from pyspark.sql.functions import lag"
   ]
  },
  {
   "cell_type": "code",
   "execution_count": 3,
   "id": "29735408",
   "metadata": {},
   "outputs": [],
   "source": [
    "spark = SparkSession.builder.master(\"local\").appName(\"DataPresentationTaak\").getOrCreate()"
   ]
  },
  {
   "cell_type": "code",
   "execution_count": 4,
   "id": "4a7c554b",
   "metadata": {},
   "outputs": [
    {
     "data": {
      "text/html": [
       "\n",
       "            <div>\n",
       "                <p><b>SparkSession - in-memory</b></p>\n",
       "                \n",
       "        <div>\n",
       "            <p><b>SparkContext</b></p>\n",
       "\n",
       "            <p><a href=\"http://localhost:4040\">Spark UI</a></p>\n",
       "\n",
       "            <dl>\n",
       "              <dt>Version</dt>\n",
       "                <dd><code>v3.5.0</code></dd>\n",
       "              <dt>Master</dt>\n",
       "                <dd><code>local</code></dd>\n",
       "              <dt>AppName</dt>\n",
       "                <dd><code>DataPresentationTaak</code></dd>\n",
       "            </dl>\n",
       "        </div>\n",
       "        \n",
       "            </div>\n",
       "        "
      ],
      "text/plain": [
       "<pyspark.sql.session.SparkSession at 0x2d296f85430>"
      ]
     },
     "execution_count": 4,
     "metadata": {},
     "output_type": "execute_result"
    }
   ],
   "source": [
    "spark"
   ]
  },
  {
   "cell_type": "markdown",
   "id": "95d52f9a",
   "metadata": {},
   "source": [
    "## 1 Data inladen"
   ]
  },
  {
   "cell_type": "code",
   "execution_count": 5,
   "id": "e70a7907",
   "metadata": {},
   "outputs": [],
   "source": [
    "data_energy = \"../SolarEnergyData/Solar_Energy_Production.csv\"\n",
    "data_weather = \"../SolarEnergyData/weatherstats_calgary_dailySince2015.csv\"\n",
    "\n",
    "df_energy = spark.read.format(\"csv\").option(\"header\",\"true\").option(\"inferSchema\",\"true\").option(\"mode\",\"failfast\").load(data_energy)\n",
    "df_weather = spark.read.format(\"csv\").option(\"header\",\"true\").option(\"inferSchema\",\"true\").option(\"mode\",\"failfast\").load(data_weather)"
   ]
  },
  {
   "cell_type": "markdown",
   "id": "ad98625c",
   "metadata": {},
   "source": [
    "## 2 Data exploratory "
   ]
  },
  {
   "cell_type": "code",
   "execution_count": 6,
   "id": "c0bcbf5f",
   "metadata": {},
   "outputs": [
    {
     "name": "stdout",
     "output_type": "stream",
     "text": [
      "root\n",
      " |-- name: string (nullable = true)\n",
      " |-- id: integer (nullable = true)\n",
      " |-- address: string (nullable = true)\n",
      " |-- date: string (nullable = true)\n",
      " |-- kWh: double (nullable = true)\n",
      " |-- public_url: string (nullable = true)\n",
      " |-- installationDate: string (nullable = true)\n",
      " |-- uid: string (nullable = true)\n",
      "\n"
     ]
    }
   ],
   "source": [
    "#df_energy.show()\n",
    "df_energy.printSchema()"
   ]
  },
  {
   "cell_type": "code",
   "execution_count": 7,
   "id": "f83f99d8",
   "metadata": {},
   "outputs": [
    {
     "name": "stdout",
     "output_type": "stream",
     "text": [
      "root\n",
      " |-- date: date (nullable = true)\n",
      " |-- max_temperature: double (nullable = true)\n",
      " |-- avg_hourly_temperature: double (nullable = true)\n",
      " |-- avg_temperature: double (nullable = true)\n",
      " |-- min_temperature: double (nullable = true)\n",
      " |-- max_humidex: integer (nullable = true)\n",
      " |-- min_windchill: integer (nullable = true)\n",
      " |-- max_relative_humidity: integer (nullable = true)\n",
      " |-- avg_hourly_relative_humidity: double (nullable = true)\n",
      " |-- avg_relative_humidity: double (nullable = true)\n",
      " |-- min_relative_humidity: integer (nullable = true)\n",
      " |-- max_dew_point: double (nullable = true)\n",
      " |-- avg_hourly_dew_point: double (nullable = true)\n",
      " |-- avg_dew_point: double (nullable = true)\n",
      " |-- min_dew_point: double (nullable = true)\n",
      " |-- max_wind_speed: integer (nullable = true)\n",
      " |-- avg_hourly_wind_speed: double (nullable = true)\n",
      " |-- avg_wind_speed: double (nullable = true)\n",
      " |-- min_wind_speed: integer (nullable = true)\n",
      " |-- max_wind_gust: integer (nullable = true)\n",
      " |-- wind_gust_dir_10s: integer (nullable = true)\n",
      " |-- max_pressure_sea: double (nullable = true)\n",
      " |-- avg_hourly_pressure_sea: double (nullable = true)\n",
      " |-- avg_pressure_sea: double (nullable = true)\n",
      " |-- min_pressure_sea: double (nullable = true)\n",
      " |-- max_pressure_station: double (nullable = true)\n",
      " |-- avg_hourly_pressure_station: double (nullable = true)\n",
      " |-- avg_pressure_station: double (nullable = true)\n",
      " |-- min_pressure_station: double (nullable = true)\n",
      " |-- max_visibility: integer (nullable = true)\n",
      " |-- avg_hourly_visibility: double (nullable = true)\n",
      " |-- avg_visibility: integer (nullable = true)\n",
      " |-- min_visibility: integer (nullable = true)\n",
      " |-- max_health_index: double (nullable = true)\n",
      " |-- avg_hourly_health_index: double (nullable = true)\n",
      " |-- avg_health_index: double (nullable = true)\n",
      " |-- min_health_index: double (nullable = true)\n",
      " |-- heatdegdays: double (nullable = true)\n",
      " |-- cooldegdays: double (nullable = true)\n",
      " |-- growdegdays_5: double (nullable = true)\n",
      " |-- growdegdays_7: double (nullable = true)\n",
      " |-- growdegdays_10: double (nullable = true)\n",
      " |-- precipitation: double (nullable = true)\n",
      " |-- rain: double (nullable = true)\n",
      " |-- snow: double (nullable = true)\n",
      " |-- snow_on_ground: integer (nullable = true)\n",
      " |-- sunrise_hhmm: timestamp (nullable = true)\n",
      " |-- sunrise_unixtime: integer (nullable = true)\n",
      " |-- sunrise_f: double (nullable = true)\n",
      " |-- sunset_hhmm: timestamp (nullable = true)\n",
      " |-- sunset_unixtime: integer (nullable = true)\n",
      " |-- sunset_f: double (nullable = true)\n",
      " |-- daylight: double (nullable = true)\n",
      " |-- min_uv_forecast: integer (nullable = true)\n",
      " |-- max_uv_forecast: integer (nullable = true)\n",
      " |-- min_high_temperature_forecast: integer (nullable = true)\n",
      " |-- max_high_temperature_forecast: integer (nullable = true)\n",
      " |-- min_low_temperature_forecast: integer (nullable = true)\n",
      " |-- max_low_temperature_forecast: integer (nullable = true)\n",
      " |-- solar_radiation: integer (nullable = true)\n",
      " |-- max_cloud_cover_4: string (nullable = true)\n",
      " |-- avg_hourly_cloud_cover_4: string (nullable = true)\n",
      " |-- avg_cloud_cover_4: string (nullable = true)\n",
      " |-- min_cloud_cover_4: string (nullable = true)\n",
      " |-- max_cloud_cover_8: integer (nullable = true)\n",
      " |-- avg_hourly_cloud_cover_8: double (nullable = true)\n",
      " |-- avg_cloud_cover_8: double (nullable = true)\n",
      " |-- min_cloud_cover_8: integer (nullable = true)\n",
      " |-- max_cloud_cover_10: string (nullable = true)\n",
      " |-- avg_hourly_cloud_cover_10: string (nullable = true)\n",
      " |-- avg_cloud_cover_10: string (nullable = true)\n",
      " |-- min_cloud_cover_10: string (nullable = true)\n",
      "\n"
     ]
    }
   ],
   "source": [
    "#df_weather.show()\n",
    "df_weather.printSchema()"
   ]
  },
  {
   "cell_type": "code",
   "execution_count": 8,
   "id": "8174adce",
   "metadata": {},
   "outputs": [
    {
     "data": {
      "text/plain": [
       "258423"
      ]
     },
     "execution_count": 8,
     "metadata": {},
     "output_type": "execute_result"
    }
   ],
   "source": [
    "df_energy.count()"
   ]
  },
  {
   "cell_type": "code",
   "execution_count": 9,
   "id": "b52d8ffc",
   "metadata": {},
   "outputs": [
    {
     "data": {
      "text/plain": [
       "10000"
      ]
     },
     "execution_count": 9,
     "metadata": {},
     "output_type": "execute_result"
    }
   ],
   "source": [
    "df_weather.count()"
   ]
  },
  {
   "cell_type": "markdown",
   "id": "06df050f",
   "metadata": {},
   "source": [
    "De energie-productie (df_energy) dataset bevat 258423 records en de weer-dataset (df_weather) bevat er 10000. Bij 'df_energy' gaan we algemener kijken en groeperen per dag, omdat er helaas geen data per uur terug te vinden was over deze periode. Bij 'df_weather' vallen er nog een heel deel records af die buiten het bereik van 'df_energy' liggen. Zie Cleaning stap 3."
   ]
  },
  {
   "cell_type": "markdown",
   "id": "dad174ea",
   "metadata": {},
   "source": [
    "### checken op nullwaardes (missing data)"
   ]
  },
  {
   "cell_type": "code",
   "execution_count": 10,
   "id": "bd6c5458",
   "metadata": {},
   "outputs": [
    {
     "name": "stdout",
     "output_type": "stream",
     "text": [
      "Energy dataset bevat geen kolommen met nullwaardes!\n"
     ]
    }
   ],
   "source": [
    "null_columns_e = []\n",
    "\n",
    "for column in df_energy.columns:\n",
    "    if df_energy.filter(col(column).isNull()).count() > 0:\n",
    "        null_columns_e.append(column)\n",
    "\n",
    "if len(null_columns_e) == 0:\n",
    "    print(\"Energy dataset bevat geen kolommen met nullwaardes!\")\n",
    "else:\n",
    "    print(\"Energy dataset bevat kolommen met nullwaardes, namelijk de kolommen:\\n\")\n",
    "    for column_name in null_columns:\n",
    "        print(column_name)"
   ]
  },
  {
   "cell_type": "code",
   "execution_count": 11,
   "id": "bd34c758",
   "metadata": {},
   "outputs": [
    {
     "name": "stdout",
     "output_type": "stream",
     "text": [
      "Weather dataset bevat kolommen met nullwaardes, namelijk de kolommen:\n",
      "\n",
      "max_humidex\n",
      "min_windchill\n",
      "max_wind_gust\n",
      "wind_gust_dir_10s\n",
      "max_health_index\n",
      "avg_hourly_health_index\n",
      "avg_health_index\n",
      "min_health_index\n",
      "precipitation\n",
      "rain\n",
      "snow\n",
      "snow_on_ground\n",
      "sunrise_hhmm\n",
      "sunrise_unixtime\n",
      "sunrise_f\n",
      "sunset_hhmm\n",
      "sunset_unixtime\n",
      "sunset_f\n",
      "daylight\n",
      "min_uv_forecast\n",
      "max_uv_forecast\n",
      "min_high_temperature_forecast\n",
      "max_high_temperature_forecast\n",
      "min_low_temperature_forecast\n",
      "max_low_temperature_forecast\n",
      "solar_radiation\n",
      "max_cloud_cover_4\n",
      "avg_hourly_cloud_cover_4\n",
      "avg_cloud_cover_4\n",
      "min_cloud_cover_4\n",
      "max_cloud_cover_8\n",
      "avg_hourly_cloud_cover_8\n",
      "avg_cloud_cover_8\n",
      "min_cloud_cover_8\n",
      "max_cloud_cover_10\n",
      "avg_hourly_cloud_cover_10\n",
      "avg_cloud_cover_10\n",
      "min_cloud_cover_10\n"
     ]
    }
   ],
   "source": [
    "null_columns_w = []\n",
    "\n",
    "for column in df_weather.columns:\n",
    "    if df_weather.filter(col(column).isNull()).count() > 0:\n",
    "        null_columns_w.append(column)\n",
    "        \n",
    "if len(null_columns_w) == 0:\n",
    "    print(\"Weather dataset bevat geen kolommen met nullwaardes!\")\n",
    "else:\n",
    "    print(\"Weather dataset bevat kolommen met nullwaardes, namelijk de kolommen:\\n\")\n",
    "    for column_name in null_columns_w:\n",
    "          print(column_name)"
   ]
  },
  {
   "cell_type": "markdown",
   "id": "37fb6146",
   "metadata": {},
   "source": [
    "Gelukkig zijn dit geen kolommen die we later nodig hebben dus vormt het niet meteen een probleem. Er moet dus niet aan `imputation` gedaan worden, d.w.z nullwaardes opvullen met:\n",
    "\n",
    "1. Voor numerieke data:\n",
    "- Mean imputation: het gemiddelde van de kolom\n",
    "- Median imputation: de mediaan van de kolom \n",
    "- Mode imputation: de mode van de kolom\n",
    "\n",
    "2. Voor categorische data:\n",
    "- Frequent category imputation: de waarde die het meest voorkomt in de kolom"
   ]
  },
  {
   "cell_type": "markdown",
   "id": "3d68a7ae",
   "metadata": {},
   "source": [
    "### checken op outliers"
   ]
  },
  {
   "cell_type": "code",
   "execution_count": 12,
   "id": "14efc8f3",
   "metadata": {},
   "outputs": [
    {
     "data": {
      "image/png": "[encoded data removed]",
      "text/plain": [
       "<Figure size 864x576 with 2 Axes>"
      ]
     },
     "metadata": {
      "needs_background": "light"
     },
     "output_type": "display_data"
    }
   ],
   "source": [
    "df_weather_bp = df_weather.select(\"avg_temperature\").toPandas()\n",
    "df_energy_bp = df_energy.select(\"kWh\").toPandas()\n",
    "\n",
    "plt.figure(figsize=(12, 8))\n",
    "\n",
    "plt.subplot(2, 1, 1)\n",
    "sns.boxplot(x=df_weather_bp[\"avg_temperature\"]).set_title(\"Box Plot voor avg_temperature uit de weather dataframe\")\n",
    "\n",
    "plt.subplot(3, 1, 3)\n",
    "sns.boxplot(x=df_energy_bp[\"kWh\"]).set_title(\"Box Plot voor kWh uit de energy dataframe\")\n",
    "\n",
    "plt.show()\n",
    "\n",
    "\n"
   ]
  },
  {
   "cell_type": "markdown",
   "id": "04454577",
   "metadata": {},
   "source": [
    "Uit bovenstaande boxplots kan je afleiden dat er dus wel wat outliers zijn voor beide kolommen. Er zijn heel wat outliers aan de negatieve kant, waarschijnlijk door strenge winterperiodes typisch voor Canada. De boxplot voor het opwekken van stroom lijkt zeer realistisch te zijn gezien er elke dag wel (een beetje) stroom opgewekt wordt en je niet onder 0 kan gaan met opwekken. Wel heb je hier meer outliers op waarschijnlijk heel zonnige dagen waar er heel veel meer wordt opgewekt."
   ]
  },
  {
   "cell_type": "markdown",
   "id": "d64acd3d",
   "metadata": {},
   "source": [
    "### verdeling temperatuur"
   ]
  },
  {
   "cell_type": "code",
   "execution_count": 13,
   "id": "fa3d3e21",
   "metadata": {},
   "outputs": [
    {
     "data": {
      "text/plain": [
       "\"\\ncolumn_data = df_weather.select('avg_temperature').rdd.flatMap(lambda x: x).collect()\\n\\n# Plotting the histogram\\nplt.figure(figsize=(10, 6))\\nplt.hist(column_data, bins=20, color='blue', edgecolor='black', alpha=0.7)\\n\\n# Formatting\\nplt.title('Histogram of Column Name')\\nplt.xlabel('Values')\\nplt.ylabel('Frequency')\\nplt.grid(True)\\nplt.show()\\n\\n\\n#----\\n\\n\\nfrom pyspark_dist_explore import hist\\nimport matplotlib.pyplot as plt\\n\\nfig, ax = plt.subplots()\\nhist(ax, df_weather.select('avg_temperature'), bins = 20, color=['red'])\\n\""
      ]
     },
     "execution_count": 13,
     "metadata": {},
     "output_type": "execute_result"
    }
   ],
   "source": [
    "# ik heb het uiteindelijkj met .ToPandas() gedaan om te plotten want ik kreeg een \"python mismatching 3.9 3.11\" error \n",
    "# bij df_weather.select('avg_temperature').rdd.flatMap(lambda x: x).collect() \n",
    "\n",
    "\"\"\"\n",
    "column_data = df_weather.select('avg_temperature').rdd.flatMap(lambda x: x).collect()\n",
    "\n",
    "# Plotting the histogram\n",
    "plt.figure(figsize=(10, 6))\n",
    "plt.hist(column_data, bins=20, color='blue', edgecolor='black', alpha=0.7)\n",
    "\n",
    "# Formatting\n",
    "plt.title('Histogram of Column Name')\n",
    "plt.xlabel('Values')\n",
    "plt.ylabel('Frequency')\n",
    "plt.grid(True)\n",
    "plt.show()\n",
    "\n",
    "\n",
    "#----\n",
    "\n",
    "\n",
    "from pyspark_dist_explore import hist\n",
    "import matplotlib.pyplot as plt\n",
    "\n",
    "fig, ax = plt.subplots()\n",
    "hist(ax, df_weather.select('avg_temperature'), bins = 20, color=['red'])\n",
    "\"\"\"\n",
    "\n",
    "# error Python in worker has different version (3, 11) than that in driver 3.9, PySpark cannot run with different minor versions.\n",
    "# Please check environment variables PYSPARK_PYTHON and PYSPARK_DRIVER_PYTHON are correctly set."
   ]
  },
  {
   "cell_type": "code",
   "execution_count": 14,
   "id": "1965dd7d",
   "metadata": {},
   "outputs": [
    {
     "data": {
      "image/png": "[encoded data removed]",
      "text/plain": [
       "<Figure size 720x432 with 1 Axes>"
      ]
     },
     "metadata": {
      "needs_background": "light"
     },
     "output_type": "display_data"
    }
   ],
   "source": [
    "column_data = df_weather.select('avg_temperature').toPandas()\n",
    "\n",
    "\n",
    "plt.figure(figsize=(10, 6))\n",
    "plt.hist(column_data['avg_temperature'], bins=20, color=\"blue\", edgecolor='black', alpha=0.7)\n",
    "\n",
    "plt.title('Histogram van de gemiddelde temperatuur')\n",
    "plt.xlabel('Waardes')\n",
    "plt.ylabel('Frequency')\n",
    "plt.grid(True)\n",
    "plt.show()"
   ]
  },
  {
   "cell_type": "markdown",
   "id": "f12e108c",
   "metadata": {},
   "source": [
    "De meeste metingen zitten dus tussen de 0 en 20°C. Het lijkt erop dat de data \"bimodaal\" verdeeld is."
   ]
  },
  {
   "cell_type": "markdown",
   "id": "b6deb69b",
   "metadata": {},
   "source": [
    "### verdeling opwekking zonne-energie"
   ]
  },
  {
   "cell_type": "code",
   "execution_count": 15,
   "id": "dfae0865",
   "metadata": {},
   "outputs": [
    {
     "data": {
      "image/png": "[encoded data removed]",
      "text/plain": [
       "<Figure size 720x432 with 1 Axes>"
      ]
     },
     "metadata": {
      "needs_background": "light"
     },
     "output_type": "display_data"
    }
   ],
   "source": [
    "column_data = df_energy.select('kWh').toPandas()\n",
    "\n",
    "plt.figure(figsize=(10, 6))\n",
    "plt.hist(column_data['kWh'], bins=20, color='blue', edgecolor='black', alpha=0.7)\n",
    "\n",
    "plt.title('Histogram van kWh')\n",
    "plt.xlabel('Waardes')\n",
    "plt.ylabel('Frequency')\n",
    "plt.grid(True)\n",
    "plt.show()"
   ]
  },
  {
   "cell_type": "markdown",
   "id": "563749f4",
   "metadata": {},
   "source": [
    "Er zijn meer metingen waarbij er maar weinig stroom wordt opgewekt. De data is dus 'left-skewed'"
   ]
  },
  {
   "cell_type": "markdown",
   "id": "17afdd3f",
   "metadata": {},
   "source": [
    "## 3 cleaning & preprocessing"
   ]
  },
  {
   "cell_type": "markdown",
   "id": "749ae122",
   "metadata": {},
   "source": [
    "### date kolom aanpassen"
   ]
  },
  {
   "cell_type": "code",
   "execution_count": 16,
   "id": "c16a79ca",
   "metadata": {},
   "outputs": [
    {
     "name": "stdout",
     "output_type": "stream",
     "text": [
      "+--------------------+\n",
      "|                date|\n",
      "+--------------------+\n",
      "|2015/09/01 02:30:...|\n",
      "|2015/09/01 03:30:...|\n",
      "|2015/09/01 04:30:...|\n",
      "|2015/09/01 05:30:...|\n",
      "|2015/09/01 06:30:...|\n",
      "|2015/09/01 07:30:...|\n",
      "|2015/09/01 08:30:...|\n",
      "|2015/09/01 09:30:...|\n",
      "|2015/09/01 10:30:...|\n",
      "|2015/09/01 11:30:...|\n",
      "|2015/09/02 01:30:...|\n",
      "|2015/09/02 01:30:...|\n",
      "|2015/09/02 02:30:...|\n",
      "|2015/09/02 02:30:...|\n",
      "|2015/09/02 03:30:...|\n",
      "|2015/09/02 04:30:...|\n",
      "|2015/09/02 05:30:...|\n",
      "|2015/09/02 06:30:...|\n",
      "|2015/09/02 06:30:...|\n",
      "|2015/09/02 07:30:...|\n",
      "+--------------------+\n",
      "only showing top 20 rows\n",
      "\n"
     ]
    }
   ],
   "source": [
    "df_energy.select(\"date\").orderBy(\"date\").show()"
   ]
  },
  {
   "cell_type": "markdown",
   "id": "8e0dc2d9",
   "metadata": {},
   "source": [
    "df_energy datums nog omzetten (casten) naar een date want deze kolom staat oorspronkelijk in het unixtime formaat met `yyyy/MM/dd hh:mm:ss a`en er moet iets van het type date `yyyy/MM/dd` bekomen worden zoals we in de df_weather hebben. Zo kan de data later worden samengevoegd op basis van gelijke datums."
   ]
  },
  {
   "cell_type": "code",
   "execution_count": 17,
   "id": "8356b775",
   "metadata": {},
   "outputs": [
    {
     "name": "stdout",
     "output_type": "stream",
     "text": [
      "+----------+\n",
      "|     date2|\n",
      "+----------+\n",
      "|2017-09-11|\n",
      "|2017-09-11|\n",
      "|2017-09-11|\n",
      "|2017-09-11|\n",
      "|2017-09-11|\n",
      "|2017-09-11|\n",
      "|2017-09-11|\n",
      "|2017-09-11|\n",
      "|2017-09-11|\n",
      "|2017-09-11|\n",
      "|2017-09-11|\n",
      "|2017-09-11|\n",
      "|2017-09-12|\n",
      "|2017-09-12|\n",
      "|2017-09-12|\n",
      "|2017-09-12|\n",
      "|2017-09-12|\n",
      "|2017-09-12|\n",
      "|2017-09-12|\n",
      "|2017-09-12|\n",
      "+----------+\n",
      "only showing top 20 rows\n",
      "\n"
     ]
    }
   ],
   "source": [
    "df_energy = df_energy.withColumn(\"date2\", from_unixtime(unix_timestamp(col(\"date\"), 'yyyy/MM/dd hh:mm:ss a')).cast(\"date\"))\n",
    "\n",
    "df_energy.select(\"date2\").show()"
   ]
  },
  {
   "cell_type": "markdown",
   "id": "adf180a0",
   "metadata": {},
   "source": [
    "### data uit df_energy groeperen per dag\n",
    "Er wordt verder gerekend met de gemiddelde kWh per dag in df_energy, gezien we niet van elk uur weerdata ter beschikking hebben.\n",
    "Zoals we ook al bij het inladen konden zien bevat df_energy 258423 rijen (omdat er meerdere metingen zijn per dag) en df_weather 10000 rijen, per dag 1 record."
   ]
  },
  {
   "cell_type": "code",
   "execution_count": 18,
   "id": "b392902c",
   "metadata": {},
   "outputs": [
    {
     "name": "stdout",
     "output_type": "stream",
     "text": [
      "+----------+------------------+\n",
      "|     date2|          avg(kWh)|\n",
      "+----------+------------------+\n",
      "|2015-09-01|28.601300000000002|\n",
      "|2015-09-02| 32.45933333333333|\n",
      "|2015-09-03|30.852666666666657|\n",
      "|2015-09-04|            5.1224|\n",
      "|2015-09-05|4.9174736842105276|\n",
      "|2015-09-06|           18.3813|\n",
      "|2015-09-07|30.262947368421052|\n",
      "|2015-09-08|           24.4907|\n",
      "|2015-09-09|           36.6001|\n",
      "|2015-09-10|  33.0881052631579|\n",
      "|2015-09-11| 45.54736842105263|\n",
      "|2015-09-12| 44.59063157894737|\n",
      "|2015-09-13|13.285210526315788|\n",
      "|2015-09-14|  5.36278947368421|\n",
      "|2015-09-15| 32.56542105263158|\n",
      "|2015-09-16| 35.77613333333333|\n",
      "|2015-09-17| 50.94357142857143|\n",
      "|2015-09-18| 50.00066666666666|\n",
      "|2015-09-21| 45.08325000000001|\n",
      "|2015-09-22|60.640538461538455|\n",
      "+----------+------------------+\n",
      "only showing top 20 rows\n",
      "\n"
     ]
    }
   ],
   "source": [
    "df_energy = df_energy.withColumn(\"date2\", from_unixtime(unix_timestamp(col(\"date\"), 'yyyy/MM/dd hh:mm:ss a')).cast(\"date\"))\n",
    "# groepeer per dag en bereken average temperature per dag\n",
    "df_energy_day = df_energy.groupBy(\"date2\").agg({\"kWh\": \"avg\"}).orderBy(\"date2\")#.show() returnt een NoneType, hierdoor kan er later nioet mee gewerkt worden! \n",
    "\n",
    "df_energy_day.show()"
   ]
  },
  {
   "cell_type": "code",
   "execution_count": 19,
   "id": "ed7fad1b",
   "metadata": {},
   "outputs": [
    {
     "data": {
      "text/plain": [
       "2716"
      ]
     },
     "execution_count": 19,
     "metadata": {},
     "output_type": "execute_result"
    }
   ],
   "source": [
    "df_energy_day.count()"
   ]
  },
  {
   "cell_type": "markdown",
   "id": "c371129c",
   "metadata": {},
   "source": [
    "### data buiten bereik filteren\n",
    "Dagen uit df_weather verwijderen die buiten het bereik van df_energy vallen.\n"
   ]
  },
  {
   "cell_type": "code",
   "execution_count": 20,
   "id": "72b955ef",
   "metadata": {},
   "outputs": [
    {
     "name": "stdout",
     "output_type": "stream",
     "text": [
      "Minimum datum uit df_weather is: 1996-07-13\n",
      "Maximum datum uit df_weather is: 2023-11-28\n",
      "Minimum datum uit df_energy_day is: 2015-09-01\n",
      "Maximum datum uit df_energy_day is: 2023-03-16\n",
      "\n",
      "Aantal overgebleven records uit df_energy na groepering per dag is: 2716\n",
      "Aantal records uit df_weather is: 10000\n"
     ]
    }
   ],
   "source": [
    "# temp table\n",
    "df_weather.createOrReplaceTempView(\"weather_table\")\n",
    "df_energy_day.createOrReplaceTempView(\"energy_table\")\n",
    "\n",
    "#SQL queries\n",
    "query_w = \"\"\"\n",
    "    SELECT\n",
    "        MIN(CAST(date AS DATE)) AS min_date,\n",
    "        MAX(CAST(date AS DATE)) AS max_date\n",
    "    FROM\n",
    "        weather_table\n",
    "\"\"\"\n",
    "\n",
    "query_e = \"\"\"\n",
    "    SELECT\n",
    "        MIN(CAST(date2 AS DATE)) AS min_date,\n",
    "        MAX(CAST(date2 AS DATE)) AS max_date\n",
    "    FROM\n",
    "        energy_table\n",
    "\"\"\"\n",
    "\n",
    "# Execute SQL\n",
    "date_min_max_w = spark.sql(query_w).first()\n",
    "date_min_max_e = spark.sql(query_e).first()\n",
    "\n",
    "min_date_w = date_min_max_w.min_date\n",
    "max_date_w = date_min_max_w.max_date\n",
    "min_date_e = date_min_max_e.min_date\n",
    "max_date_e = date_min_max_e.max_date\n",
    "\n",
    "records_df_energy = df_energy_day.count()\n",
    "records_df_weather = df_weather.count()\n",
    "\n",
    "print(f\"Minimum datum uit df_weather is: {min_date_w}\")\n",
    "print(f\"Maximum datum uit df_weather is: {max_date_w}\")\n",
    "print(f\"Minimum datum uit df_energy_day is: {min_date_e}\")\n",
    "print(f\"Maximum datum uit df_energy_day is: {max_date_e}\")\n",
    "print(f\"\\nAantal overgebleven records uit df_energy na groepering per dag is: {records_df_energy}\")\n",
    "print(f\"Aantal records uit df_weather is: {records_df_weather}\")"
   ]
  },
  {
   "cell_type": "markdown",
   "id": "96dd7b3a",
   "metadata": {},
   "source": [
    "Nu zijn er meer 'weather' records dan 'energy' records en moet de data buiten het bereik van van de dagen waarvoor er energie-data is, uitgefilterd worden.\n",
    "\n",
    "Er hoeft niet speciaal nog een drop operatie gedaan worden om de data te verwijderen die niet matcht aangezien er later nog gejoind zal worden en de data die overeenkomt automatisch overblijft."
   ]
  },
  {
   "cell_type": "markdown",
   "id": "0cc893d6",
   "metadata": {},
   "source": [
    "### niet-relevante kolommen uitfilteren"
   ]
  },
  {
   "cell_type": "markdown",
   "id": "68988c60",
   "metadata": {},
   "source": [
    "Voor dit project zijn we enkel geinteresseerd in de `avg_temperature` kolom uit `df_weather`. Natuurlijk zijn er heel wat andere kolommen die ook invloed hebben op de energieproductie van zonnepanelen maar we willen juist de correlatie bespreken tussen een warme dag of een koude dag en de daarbij horende hoeveelheid energie die opgewekt wordt.\n",
    "\n",
    "er zijn een paar kolommen kandidaat, zoals:\n",
    "- avg_cloud_cover\n",
    "- avg_visibility\n",
    "- solar_radiation\n",
    "- ..."
   ]
  },
  {
   "cell_type": "code",
   "execution_count": 21,
   "id": "a416a312",
   "metadata": {},
   "outputs": [
    {
     "data": {
      "text/plain": [
       "DataFrame[summary: string, max_temperature: string, avg_hourly_temperature: string, avg_temperature: string, min_temperature: string, max_humidex: string, min_windchill: string, max_relative_humidity: string, avg_hourly_relative_humidity: string, avg_relative_humidity: string, min_relative_humidity: string, max_dew_point: string, avg_hourly_dew_point: string, avg_dew_point: string, min_dew_point: string, max_wind_speed: string, avg_hourly_wind_speed: string, avg_wind_speed: string, min_wind_speed: string, max_wind_gust: string, wind_gust_dir_10s: string, max_pressure_sea: string, avg_hourly_pressure_sea: string, avg_pressure_sea: string, min_pressure_sea: string, max_pressure_station: string, avg_hourly_pressure_station: string, avg_pressure_station: string, min_pressure_station: string, max_visibility: string, avg_hourly_visibility: string, avg_visibility: string, min_visibility: string, max_health_index: string, avg_hourly_health_index: string, avg_health_index: string, min_health_index: string, heatdegdays: string, cooldegdays: string, growdegdays_5: string, growdegdays_7: string, growdegdays_10: string, precipitation: string, rain: string, snow: string, snow_on_ground: string, sunrise_unixtime: string, sunrise_f: string, sunset_unixtime: string, sunset_f: string, daylight: string, min_uv_forecast: string, max_uv_forecast: string, min_high_temperature_forecast: string, max_high_temperature_forecast: string, min_low_temperature_forecast: string, max_low_temperature_forecast: string, solar_radiation: string, max_cloud_cover_4: string, avg_hourly_cloud_cover_4: string, avg_cloud_cover_4: string, min_cloud_cover_4: string, max_cloud_cover_8: string, avg_hourly_cloud_cover_8: string, avg_cloud_cover_8: string, min_cloud_cover_8: string, max_cloud_cover_10: string, avg_hourly_cloud_cover_10: string, avg_cloud_cover_10: string, min_cloud_cover_10: string]"
      ]
     },
     "execution_count": 21,
     "metadata": {},
     "output_type": "execute_result"
    }
   ],
   "source": [
    "df_weather.describe()"
   ]
  },
  {
   "cell_type": "code",
   "execution_count": 22,
   "id": "02df118b",
   "metadata": {},
   "outputs": [],
   "source": [
    "#kolommen die we niet nodig hebben uitfilteren\n",
    "df_weather_selected_col = df_weather.select(\"date\", \"avg_temperature\")"
   ]
  },
  {
   "cell_type": "markdown",
   "id": "ef4b351d",
   "metadata": {},
   "source": [
    "### joinen op basis van datum"
   ]
  },
  {
   "cell_type": "code",
   "execution_count": 23,
   "id": "3443c06d",
   "metadata": {},
   "outputs": [
    {
     "name": "stdout",
     "output_type": "stream",
     "text": [
      "+----------+------------------+---------------+\n",
      "|     date2|          avg(kWh)|avg_temperature|\n",
      "+----------+------------------+---------------+\n",
      "|2015-09-01|28.601300000000002|          14.64|\n",
      "|2015-09-02| 32.45933333333333|          15.45|\n",
      "|2015-09-03|30.852666666666657|           9.19|\n",
      "|2015-09-04|            5.1224|           5.69|\n",
      "|2015-09-05|4.9174736842105276|            3.7|\n",
      "|2015-09-06|           18.3813|            5.0|\n",
      "|2015-09-07|30.262947368421052|           9.94|\n",
      "|2015-09-08|           24.4907|           10.8|\n",
      "|2015-09-09|           36.6001|           13.3|\n",
      "|2015-09-10|  33.0881052631579|           12.1|\n",
      "|2015-09-11| 45.54736842105263|           16.8|\n",
      "|2015-09-12| 44.59063157894737|          19.14|\n",
      "|2015-09-13|13.285210526315788|          10.15|\n",
      "|2015-09-14|  5.36278947368421|            5.9|\n",
      "|2015-09-15| 32.56542105263158|           8.55|\n",
      "|2015-09-16| 35.77613333333333|            7.0|\n",
      "|2015-09-17| 50.94357142857143|           8.15|\n",
      "|2015-09-18| 50.00066666666666|          11.35|\n",
      "|2015-09-21| 45.08325000000001|            5.3|\n",
      "|2015-09-22|60.640538461538455|          11.05|\n",
      "+----------+------------------+---------------+\n",
      "only showing top 20 rows\n",
      "\n"
     ]
    }
   ],
   "source": [
    "energy = df_energy_day.alias(\"df_energy_day\")\n",
    "weer = df_weather_selected_col.alias(\"df_weather\")\n",
    "\n",
    "# inner join on 'date' kolom\n",
    "joined_df = energy.join(weer, energy['date2'] == weer['Date'], 'left')\n",
    "\n",
    "joined_df.select(energy['date2'], energy['avg(kWh)'], weer['avg_temperature']).orderBy(\"date2\").show()"
   ]
  },
  {
   "cell_type": "code",
   "execution_count": 24,
   "id": "1fd546ab",
   "metadata": {},
   "outputs": [],
   "source": [
    "# we hebben nu 2 datum kolommen dus 1tje mag verwijderd worden\n",
    "joined_df = joined_df.drop(col(\"date2\"))"
   ]
  },
  {
   "cell_type": "code",
   "execution_count": 25,
   "id": "be96605f",
   "metadata": {},
   "outputs": [
    {
     "name": "stdout",
     "output_type": "stream",
     "text": [
      "+-------+------------------+-----------------+\n",
      "|summary|          avg(kWh)|  avg_temperature|\n",
      "+-------+------------------+-----------------+\n",
      "|  count|              2716|             2716|\n",
      "|   mean| 32.60636546059805|4.664900589101617|\n",
      "| stddev|21.998459233839053|11.01423654777967|\n",
      "|    min|               0.0|           -30.45|\n",
      "|    max|  84.8148034188034|            27.29|\n",
      "+-------+------------------+-----------------+\n",
      "\n"
     ]
    }
   ],
   "source": [
    "#joined_df.show()\n",
    "joined_df.describe().show()"
   ]
  },
  {
   "cell_type": "markdown",
   "id": "0b1a92da",
   "metadata": {},
   "source": [
    "### datatypes toekennen"
   ]
  },
  {
   "cell_type": "code",
   "execution_count": 26,
   "id": "4c59e5df",
   "metadata": {},
   "outputs": [
    {
     "name": "stdout",
     "output_type": "stream",
     "text": [
      "Kolom: avg(kWh), Data Type: double\n",
      "Kolom: date, Data Type: date\n",
      "Kolom: avg_temperature, Data Type: double\n"
     ]
    }
   ],
   "source": [
    "column_data_types = joined_df.dtypes\n",
    "\n",
    "for column, data_type in column_data_types:\n",
    "    print(f\"Kolom: {column}, Data Type: {data_type}\")"
   ]
  },
  {
   "cell_type": "markdown",
   "id": "2e2dc133",
   "metadata": {},
   "source": [
    "Zo te zien bevat deze dataframe al automatisch de juiste datatypes om mee aan de slag te gaan. "
   ]
  },
  {
   "cell_type": "markdown",
   "id": "06cdd14c",
   "metadata": {},
   "source": [
    "### kolommen toevoegen"
   ]
  },
  {
   "cell_type": "code",
   "execution_count": 27,
   "id": "8b21ac9d",
   "metadata": {},
   "outputs": [
    {
     "name": "stdout",
     "output_type": "stream",
     "text": [
      "+------------------+----------+---------------+-----+-------+\n",
      "|          avg(kWh)|      date|avg_temperature|month|seizoen|\n",
      "+------------------+----------+---------------+-----+-------+\n",
      "|34.126020833333335|2017-09-11|          18.64|    9| herfst|\n",
      "| 61.16932075471698|2017-08-11|           18.7|    8|  zomer|\n",
      "| 42.58591666666667|2016-03-01|          -0.59|    3|  lente|\n",
      "|61.045993464052316|2019-06-04|           16.0|    6|  zomer|\n",
      "|           66.2803|2018-05-28|           20.0|    5|  lente|\n",
      "| 54.34225641025642|2018-08-10|          26.15|    8|  zomer|\n",
      "| 53.71429411764706|2021-06-22|           21.6|    6|  zomer|\n",
      "| 48.74009210526314|2019-05-08|           7.25|    5|  lente|\n",
      "|37.910468468468466|2021-10-11|           0.95|   10| herfst|\n",
      "|62.834886666666655|2020-08-24|          20.25|    8|  zomer|\n",
      "|1.8028571428571432|2021-12-18|          -9.19|   12| winter|\n",
      "| 23.22218681318681|2021-11-13|           3.45|   11| herfst|\n",
      "| 3.548602564102563|2021-01-27|          -13.2|    1| winter|\n",
      "|  32.0981971830986|2021-08-27|          15.45|    8|  zomer|\n",
      "| 34.12024615384616|2022-03-28|           0.59|    3|  lente|\n",
      "|53.465215277777766|2022-07-31|          21.65|    7|  zomer|\n",
      "|14.803142857142856|2016-04-25|            3.8|    4|  lente|\n",
      "|27.433728260869565|2019-11-18|           5.15|   11| herfst|\n",
      "| 52.27623148148149|2019-11-01|           0.75|   11| herfst|\n",
      "|20.049341666666667|2018-03-17|           -1.1|    3|  lente|\n",
      "+------------------+----------+---------------+-----+-------+\n",
      "only showing top 20 rows\n",
      "\n"
     ]
    }
   ],
   "source": [
    "df_with_season = joined_df.withColumn(\"month\", expr(\"month(date)\"))\n",
    "\n",
    "spring_condition = (col(\"month\") >= 3) & (col(\"month\") <= 5)\n",
    "summer_condition = (col(\"month\") >= 6) & (col(\"month\") <= 8)\n",
    "autumn_condition = (col(\"month\") >= 9) & (col(\"month\") <= 11)\n",
    "\n",
    "joined_df = df_with_season.withColumn(\"seizoen\", \n",
    "    when(spring_condition, \"lente\")\n",
    "    .when(summer_condition, \"zomer\")\n",
    "    .when(autumn_condition, \"herfst\")\n",
    "    .otherwise(\"winter\")\n",
    ")\n",
    "\n",
    "joined_df.show()      "
   ]
  },
  {
   "cell_type": "markdown",
   "id": "85c646d9",
   "metadata": {},
   "source": [
    "## 4 Visualisatie"
   ]
  },
  {
   "cell_type": "code",
   "execution_count": 28,
   "id": "912c9589",
   "metadata": {},
   "outputs": [
    {
     "name": "stdout",
     "output_type": "stream",
     "text": [
      "Alle waarden in kolom 'date' zijn uniek.\n"
     ]
    }
   ],
   "source": [
    "# checken of dagen uniek zijn (controle voor de plot)\n",
    "column_name = \"date\"\n",
    "\n",
    "unique_count = joined_df.select(column_name).distinct().count()\n",
    "total_count = joined_df.select(column_name).count()\n",
    "\n",
    "if unique_count == total_count:\n",
    "    print(f\"Alle waarden in kolom '{column_name}' zijn uniek.\")\n",
    "else:\n",
    "    print(f\"Niet alle waarden in kolom '{column_name}' zijn uniek.\")"
   ]
  },
  {
   "cell_type": "code",
   "execution_count": 29,
   "id": "e53a93ec",
   "metadata": {},
   "outputs": [
    {
     "data": {
      "image/png": "[encoded data removed]",
      "text/plain": [
       "<Figure size 432x288 with 1 Axes>"
      ]
     },
     "metadata": {},
     "output_type": "display_data"
    }
   ],
   "source": [
    "avg_kwh_per_season = joined_df.groupBy(\"seizoen\").agg({\"avg(kWh)\": \"avg\"}).toPandas()\n",
    "\n",
    "# pie chart\n",
    "plt.pie(avg_kwh_per_season[\"avg(avg(kWh))\"], labels=avg_kwh_per_season[\"seizoen\"], autopct='%1.1f%%')\n",
    "plt.title('Gemiddelde kWh per Seizoen')\n",
    "plt.show()"
   ]
  },
  {
   "cell_type": "markdown",
   "id": "223c60ed",
   "metadata": {},
   "source": [
    "Je ziet duidelijk dat er meer stroom opgewekt wordt tijdens de zomer en lente dan in de winter en herfst periode."
   ]
  },
  {
   "cell_type": "code",
   "execution_count": 30,
   "id": "4e7d8f3f",
   "metadata": {},
   "outputs": [
    {
     "data": {
      "image/png": "[encoded data removed]",
      "text/plain": [
       "<Figure size 1440x432 with 1 Axes>"
      ]
     },
     "metadata": {
      "needs_background": "light"
     },
     "output_type": "display_data"
    }
   ],
   "source": [
    "# Groepeer data per jaar en maand om gemiddelde te berekenen\n",
    "df_plot = joined_df.groupBy(year('date').alias('year'), month('date').alias('month')).agg({'avg(kWh)': 'avg', 'avg_temperature': 'avg'})\n",
    "\n",
    "# Extract data\n",
    "dates = [datetime(row.year, row.month, 1) for row in df_plot.collect()]  \n",
    "avg_kWh_values = [row['avg(avg(kWh))'] for row in df_plot.collect()]\n",
    "avg_temperature_values = [row['avg(avg_temperature)'] for row in df_plot.collect()]\n",
    "\n",
    "# Sorteren\n",
    "sorted_dates, sorted_avg_kWh, sorted_avg_temperature = zip(*sorted(zip(dates, avg_kWh_values, avg_temperature_values)))\n",
    "\n",
    "plt.figure(figsize=(20, 6))\n",
    "plt.plot(sorted_dates, sorted_avg_kWh, label='Gemiddelde kWh', marker='o')\n",
    "plt.plot(sorted_dates, sorted_avg_temperature, label='Gemiddelde Temperatuur', marker='o')\n",
    "\n",
    "plt.title('Gemiddelde kWh en Temperatuur per tijd')\n",
    "plt.xlabel('Datum')\n",
    "plt.ylabel('Waarde')\n",
    "plt.legend()\n",
    "plt.grid(True)\n",
    "plt.show()\n"
   ]
  },
  {
   "cell_type": "markdown",
   "id": "42079f85",
   "metadata": {},
   "source": [
    "opm: Je ziet hier duidelijk een steeds terugkomend patroon in de data. Zowel voor de gemiddelde opwekking van zonne-energie als uiteraard ook de temperatuur (denk aan zomer- en wintertemperaturen). We kunnen dus zeggen dat er dus zeer waarschijnlijk onrechtstreeks ook een correlatie zal bestaan tussen de tijd (de seizoenen) en de hoeveelheid zonne-energie die wordt opgewekt. Natuurlijk is dit omwille van de temperatuur (en andere zaken zoals lichtsterkte, bewolking, uren zonlicht,...) in deze seizoenen. "
   ]
  },
  {
   "cell_type": "code",
   "execution_count": 31,
   "id": "0c4dc5e0",
   "metadata": {},
   "outputs": [
    {
     "data": {
      "application/vnd.jupyter.widget-view+json": {
       "model_id": "4411e90aa6e6466bb695a88bdbda90d3",
       "version_major": 2,
       "version_minor": 0
      },
      "text/plain": [
       "interactive(children=(IntRangeSlider(value=(2015, 2023), continuous_update=False, description='Selecteer inter…"
      ]
     },
     "metadata": {},
     "output_type": "display_data"
    },
    {
     "data": {
      "application/vnd.jupyter.widget-view+json": {
       "model_id": "bf3cd43fae5c41a5b401b34775eb7c3c",
       "version_major": 2,
       "version_minor": 0
      },
      "text/plain": [
       "Output()"
      ]
     },
     "metadata": {},
     "output_type": "display_data"
    }
   ],
   "source": [
    "# min en max jaar voor widget\n",
    "distinct_years = joined_df.select(year('date').alias('year')).distinct().toPandas()['year'].tolist()\n",
    "min_year, max_year = min(distinct_years), max(distinct_years)\n",
    "\n",
    "year_range_slider = widgets.IntRangeSlider(\n",
    "    min=min_year,\n",
    "    max=max_year,\n",
    "    value=[min_year, max_year],\n",
    "    step=1,\n",
    "    description='Selecteer interval: ',\n",
    "    continuous_update=False\n",
    ")\n",
    "\n",
    "# Output widget voor de plot weer te geven\n",
    "output = widgets.Output()\n",
    "\n",
    "progress_bar = widgets.IntProgress(\n",
    "    value=0,\n",
    "    min=0,\n",
    "    max=9,\n",
    "    step=1,\n",
    "    description='Loading: ',\n",
    "    bar_style='info',\n",
    "    orientation='horizontal'\n",
    ")\n",
    "\n",
    "# update functie wanneer year_range_slider wordt aangepast\n",
    "def update_plot(year_range):\n",
    "    with output:\n",
    "        clear_output(wait=True)\n",
    "        \n",
    "        filtered_df = joined_df.filter((year(joined_df['date']) >= year_range[0]) & (year(joined_df['date']) <= year_range[1]))\n",
    "\n",
    "        # Groepeer data per jaar en maand om gemiddelde te berekenen\n",
    "        df_plot = filtered_df.groupBy(year('date').alias('year'), month('date').alias('month')).agg({'avg(kWh)': 'avg', 'avg_temperature': 'avg'})\n",
    "\n",
    "        # Sorteren\n",
    "        df_plot = df_plot.orderBy('year', 'month')\n",
    "\n",
    "        # Extract data\n",
    "        dates = [f\"{row.year}-{row.month:02d}\" for row in df_plot.collect()]\n",
    "        avg_kWh_values = [row['avg(avg(kWh))'] for row in df_plot.collect()]\n",
    "        avg_temperature_values = [row['avg(avg_temperature)'] for row in df_plot.collect()]\n",
    "        \n",
    "        display(progress_bar)\n",
    "        \n",
    "        # Automatisch naar 9\n",
    "        for i in range(10):\n",
    "            progress_bar.value = i\n",
    "            time.sleep(0.5)  # Aan te passen\n",
    "\n",
    "        plt.figure(figsize=(20, 6))\n",
    "        plt.plot(dates, avg_kWh_values, label='Gemiddelde kWh', marker='o')\n",
    "        plt.plot(dates, avg_temperature_values, label='Gemiddelde temperatuur', marker='o')\n",
    "\n",
    "        plt.title('Gemiddelde kWh en Temperatuur per tijd')\n",
    "        plt.xlabel('Datum')\n",
    "        plt.ylabel('Waardes')\n",
    "        plt.legend()\n",
    "        plt.xticks(rotation=45)\n",
    "        plt.grid(True)\n",
    "        plt.show()\n",
    "        \n",
    "        progress_bar.value = 9\n",
    "\n",
    "# Connect the function to the widget's value\n",
    "widgets.interact(update_plot, year_range=year_range_slider)\n",
    "\n",
    "display(output)\n"
   ]
  },
  {
   "cell_type": "markdown",
   "id": "2ee6b061",
   "metadata": {},
   "source": [
    "## 5 Correlatie\n"
   ]
  },
  {
   "cell_type": "code",
   "execution_count": 32,
   "id": "a42293f9",
   "metadata": {},
   "outputs": [
    {
     "name": "stdout",
     "output_type": "stream",
     "text": [
      "Correlatie tussen average Kwh en de temperatuur is: 0.6772647080391323\n"
     ]
    }
   ],
   "source": [
    "correlation_value = joined_df.stat.corr(\"avg(kWh)\", \"avg_temperature\")\n",
    "\n",
    "print(f\"Correlatie tussen average Kwh en de temperatuur is: {correlation_value}\")"
   ]
  },
  {
   "cell_type": "markdown",
   "id": "5b4c1e61",
   "metadata": {},
   "source": [
    "Men kan hier dus spreken van een redelijk sterke correlatie tussen de temperatuur en de hoeveelheid energie die opgewekt wordt. Als de temperatuur verhoogt, verhoogt dus ook de hoeveelheid kWh die opgewekt wordt."
   ]
  },
  {
   "cell_type": "code",
   "execution_count": 33,
   "id": "76bfb281",
   "metadata": {},
   "outputs": [
    {
     "data": {
      "text/plain": [
       "'\\ncorrelation_matrix = joined_df.stat.corr(\"avg(kWh)\", \"\",\"\",\"\", \"avg_temperature\")\\n\\nprint(\"Correlation Matrix:\")\\ncorrelation_matrix.show()\\n'"
      ]
     },
     "execution_count": 33,
     "metadata": {},
     "output_type": "execute_result"
    }
   ],
   "source": [
    "### kan alleen matrix printen als er meerder kolommen zijn (dat je een dataframe terug krijgt, met 2 kolommen krijg je gwn een float terug)\n",
    "\"\"\"\n",
    "correlation_matrix = joined_df.stat.corr(\"avg(kWh)\", \"\",\"\",\"\", \"avg_temperature\")\n",
    "\n",
    "print(\"Correlation Matrix:\")\n",
    "correlation_matrix.show()\n",
    "\"\"\""
   ]
  },
  {
   "cell_type": "markdown",
   "id": "dda7f6cb",
   "metadata": {},
   "source": [
    "## ML"
   ]
  },
  {
   "cell_type": "code",
   "execution_count": 34,
   "id": "33e996c4",
   "metadata": {},
   "outputs": [
    {
     "ename": "NameError",
     "evalue": "name 'Window' is not defined",
     "output_type": "error",
     "traceback": [
      "\u001b[1;31m---------------------------------------------------------------------------\u001b[0m",
      "\u001b[1;31mNameError\u001b[0m                                 Traceback (most recent call last)",
      "Input \u001b[1;32mIn [34]\u001b[0m, in \u001b[0;36m<cell line: 2>\u001b[1;34m()\u001b[0m\n\u001b[0;32m      1\u001b[0m \u001b[38;5;66;03m# Lag the 'avg(kWh)' column to capture temporal patterns\u001b[39;00m\n\u001b[1;32m----> 2\u001b[0m window \u001b[38;5;241m=\u001b[39m \u001b[43mWindow\u001b[49m()\u001b[38;5;241m.\u001b[39morderBy(\u001b[38;5;124m\"\u001b[39m\u001b[38;5;124mdate\u001b[39m\u001b[38;5;124m\"\u001b[39m)\n\u001b[0;32m      3\u001b[0m lagged_df \u001b[38;5;241m=\u001b[39m joined_df\u001b[38;5;241m.\u001b[39mwithColumn(\u001b[38;5;124m\"\u001b[39m\u001b[38;5;124mlagged_kWh\u001b[39m\u001b[38;5;124m\"\u001b[39m, lag(\u001b[38;5;124m\"\u001b[39m\u001b[38;5;124mavg(kWh)\u001b[39m\u001b[38;5;124m\"\u001b[39m)\u001b[38;5;241m.\u001b[39mover(window))\n\u001b[0;32m      5\u001b[0m lagged_df \u001b[38;5;241m=\u001b[39m lagged_df\u001b[38;5;241m.\u001b[39mna\u001b[38;5;241m.\u001b[39mdrop()\n",
      "\u001b[1;31mNameError\u001b[0m: name 'Window' is not defined"
     ]
    }
   ],
   "source": [
    "# Lag the 'avg(kWh)' column to capture temporal patterns\n",
    "window = Window().orderBy(\"date\")\n",
    "lagged_df = joined_df.withColumn(\"lagged_kWh\", lag(\"avg(kWh)\").over(window))\n",
    "\n",
    "lagged_df = lagged_df.na.drop()\n",
    "\n",
    "# Assemble features\n",
    "feature_cols = [\"lagged_kWh\", \"avg_temperature\"]\n",
    "vector_assembler = VectorAssembler(inputCols=feature_cols, outputCol=\"features\")\n",
    "\n",
    "# Initialize RandomForestRegressor\n",
    "rf_model = RandomForestRegressor(featuresCol=\"features\", labelCol=\"avg(kWh)\")\n",
    "\n",
    "# Create a pipeline\n",
    "pipeline = Pipeline(stages=[vector_assembler, rf_model])\n",
    "\n",
    "train_data, test_data = lagged_df.randomSplit([0.8, 0.2], seed=42)\n",
    "\n",
    "model = pipeline.fit(train_data)\n",
    "\n",
    "predictions = model.transform(test_data)\n",
    "\n",
    "predictions.select(\"date\", \"avg(kWh)\", \"prediction\").show()\n"
   ]
  },
  {
   "cell_type": "code",
   "execution_count": null,
   "id": "bc8197c2",
   "metadata": {},
   "outputs": [],
   "source": [
    "predictions_pd = predictions.select(\"date\", \"avg(kWh)\", \"prediction\").toPandas()\n",
    "\n",
    "# Sorteer per date\n",
    "predictions_pd = predictions_pd.sort_values('date')\n",
    "\n",
    "plt.figure(figsize=(12, 6))\n",
    "\n",
    "plt.plot(predictions_pd['date'], predictions_pd['avg(kWh)'], label='Actual Avg kWh', marker='o')\n",
    "plt.plot(predictions_pd['date'], predictions_pd['prediction'], label='Predicted Avg kWh', marker='o')\n",
    "\n",
    "plt.title('Actual vs Predicted Avg kWh Over Time')\n",
    "plt.xlabel('Date')\n",
    "plt.ylabel('Avg kWh')\n",
    "plt.legend()\n",
    "plt.grid(True)\n",
    "plt.xticks(rotation=45)\n",
    "plt.tight_layout()\n",
    "plt.show()\n"
   ]
  },
  {
   "cell_type": "code",
   "execution_count": null,
   "id": "26b89391",
   "metadata": {},
   "outputs": [],
   "source": [
    "predictions_pd"
   ]
  },
  {
   "cell_type": "code",
   "execution_count": null,
   "id": "fc1aef85",
   "metadata": {},
   "outputs": [],
   "source": [
    "from pyspark.ml.evaluation import RegressionEvaluator\n",
    "\n",
    "# Evaluate the model using RMSE\n",
    "evaluator = RegressionEvaluator(labelCol=\"avg(kWh)\", predictionCol=\"prediction\", metricName=\"rmse\")\n",
    "rmse = evaluator.evaluate(predictions)\n",
    "\n",
    "print(f\"Root Mean Squared Error (RMSE) bedraagt: {rmse}\")"
   ]
  },
  {
   "cell_type": "markdown",
   "id": "070861aa",
   "metadata": {},
   "source": [
    "Dit wil zeggen dat gemiddeld genomen een voorspelling 13,9 units afwijkt van de werkelijke waarde. "
   ]
  },
  {
   "cell_type": "markdown",
   "id": "9d6e7f3e",
   "metadata": {},
   "source": [
    "## Conclusie"
   ]
  },
  {
   "cell_type": "markdown",
   "id": "6c720b9d",
   "metadata": {},
   "source": [
    "Dat de temperatuur een sterke correlatie heeft met de seizoenen weten we allemaal wel. Het was in dit  project interessant te zien dat dat dan ook een sterk effect heeft op de productie van zonne-energie. Dit was ergens ook wel te verwachten en in de grafieken is dit duidelijk te zien. Zoals eerder besproken zijn er nog andere kolommen waarvan de gemiddelde energie-productie zeker afhanklijk is, zoals: \n",
    "\n",
    "- max visibility\n",
    "- preciptation/rain/snow en vooral snow_on_ground omdat hier een grote kans is dat de panelen helemaal of gedeeltelijk afgedekt zijn.\n",
    "- solar_radiation\n",
    "- sunrise-sunset\n",
    "- daylight\n",
    "\n",
    "Eventueel zou er in een uitbreiding van dit project kunnen gezocht worden naar welke factor(en) hierbij het meest bepalend zijn.\n",
    "\n",
    "Er werd op het einde ook een voorspelling gedaan voor de gemiddelde kWh die opgewekt wordt. Hierbij is de RMSE van 13,9 nog redelijk hoog maar toch acceptabel. Waarschijnlijk zou er een betere score kunnen behaald worden als er ook nog andere features (kolommen) worden meegenomen in het model. \n",
    "\n",
    "Het project ging voornamelijk over het al dan niet aantonen van een mogelijk verband tussen de temperatuur en de hoeveelheid energie die wordt opgewekt door zonnepanelen. We kunnen dus concluderen dat er weldegelijk een redelijk sterke correlatie bestaat met een correlatiecoëfficient van 0,68. Dit wil zeggen dat er een positieve lineaire relatie is tussen de twee variabelen. Als de ene variabele toeneemt, is er een tendens dat de andere variabele ook toeneemt. Het getal 0,68 geeft de sterkte van de correlatie aan, maar het vertelt niet hoeveel de ene variabele zal veranderen als de andere met een bepaalde hoeveelheid verandert."
   ]
  },
  {
   "cell_type": "markdown",
   "id": "bfca3cf1",
   "metadata": {},
   "source": [
    "## Lessons learned"
   ]
  },
  {
   "cell_type": "markdown",
   "id": "5e84108b",
   "metadata": {},
   "source": [
    "In het begin had ik redelijk veel moeite met spark te installeren maar an het volgen van een goede youtube review is het me uiteindelijk toch gelukt. Het inladen en preprocessen ging nog redelijk goed met af en toe moeilijkere dingen. De grote grafieken correct en duidelijk te plotten en daarna met widgets te koppelen heb ik het meeste tijd aan besteed."
   ]
  }
 ],
 "metadata": {
  "kernelspec": {
   "display_name": "Python 3 (ipykernel)",
   "language": "python",
   "name": "python3"
  },
  "language_info": {
   "codemirror_mode": {
    "name": "ipython",
    "version": 3
   },
   "file_extension": ".py",
   "mimetype": "text/x-python",
   "name": "python",
   "nbconvert_exporter": "python",
   "pygments_lexer": "ipython3",
   "version": "3.9.12"
  }
 },
 "nbformat": 4,
 "nbformat_minor": 5
}
