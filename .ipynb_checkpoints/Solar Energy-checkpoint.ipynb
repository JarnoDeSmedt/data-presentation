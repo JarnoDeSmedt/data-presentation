{
 "cells": [
  {
   "cell_type": "markdown",
   "id": "b289e248",
   "metadata": {},
   "source": [
    "# TAAK Data Prasentation: Zonne-energie op basis van het weer\n",
    "In dit datavisualisatie project wordt de correlatie tussen de productie van elektrischiteit met zonnepanelen en het weer op dat moment onderzocht. Op het einde wordt er een conclusie getrokken waarin dit zal worden aangetoond of weerlegd. Er wordt met Spark (PySpark) gewerkt in een Jupyter Notebook om de data te preprocessen en te analyseren.\n",
    "\n",
    "De data is beperkt tot Canada gezien ik geen andere kwalitatieve data kon vinden waar ook kwalitatieve historische weerdata voor te vinden was.\n",
    "\n",
    "\n",
    "TODO dichtsbijzijnd typen@@@@@@@\n",
    "\n",
    "De datasets zijn terug te vinden op onderstaande links.\n",
    "- weer data: https://calgary.weatherstats.ca/download.html\n",
    "https://climatedata.ca/download/\n",
    "\n",
    "b optie data voor dit project: https://www.kaggle.com/datasets/anikannal/solar-power-generation-data/data\n",
    "- solar production: https://www.kaggle.com/datasets/ivnlee/solar-energy-production"
   ]
  },
  {
   "cell_type": "markdown",
   "id": "ea4639ac",
   "metadata": {},
   "source": [
    "## Imports en spark innitialiseren"
   ]
  },
  {
   "cell_type": "code",
   "execution_count": 107,
   "id": "7dc6808e",
   "metadata": {},
   "outputs": [],
   "source": [
    "from pyspark.sql import SparkSession, SQLContext\n",
    "from pyspark.sql.types import StructType, StructField, IntegerType, StringType\n",
    "from pyspark.sql.functions import col, unix_timestamp, from_unixtime, to_date, month, expr, when\n",
    "import matplotlib.pyplot as plt\n",
    "import seaborn as sns\n",
    "import ipywidgets as widgets\n",
    "import matplotlib.pyplot as plt\n",
    "from pyspark.sql.functions import year, month\n",
    "import ipywidgets as widgets\n",
    "from IPython.display import display, clear_output\n",
    "from IPython.display import Javascript, display\n",
    "from datetime import datetime\n",
    "\n"
   ]
  },
  {
   "cell_type": "code",
   "execution_count": 108,
   "id": "29735408",
   "metadata": {},
   "outputs": [],
   "source": [
    "spark = SparkSession.builder.master(\"local\").appName(\"DataPresentationTaak\").getOrCreate()"
   ]
  },
  {
   "cell_type": "code",
   "execution_count": 109,
   "id": "4a7c554b",
   "metadata": {},
   "outputs": [
    {
     "data": {
      "text/html": [
       "\n",
       "            <div>\n",
       "                <p><b>SparkSession - in-memory</b></p>\n",
       "                \n",
       "        <div>\n",
       "            <p><b>SparkContext</b></p>\n",
       "\n",
       "            <p><a href=\"http://localhost:4042\">Spark UI</a></p>\n",
       "\n",
       "            <dl>\n",
       "              <dt>Version</dt>\n",
       "                <dd><code>v3.5.0</code></dd>\n",
       "              <dt>Master</dt>\n",
       "                <dd><code>local</code></dd>\n",
       "              <dt>AppName</dt>\n",
       "                <dd><code>DataPresentationTaak</code></dd>\n",
       "            </dl>\n",
       "        </div>\n",
       "        \n",
       "            </div>\n",
       "        "
      ],
      "text/plain": [
       "<pyspark.sql.session.SparkSession at 0x24256084ca0>"
      ]
     },
     "execution_count": 109,
     "metadata": {},
     "output_type": "execute_result"
    }
   ],
   "source": [
    "spark"
   ]
  },
  {
   "cell_type": "markdown",
   "id": "95d52f9a",
   "metadata": {},
   "source": [
    "## 1 Data inladen"
   ]
  },
  {
   "cell_type": "code",
   "execution_count": 110,
   "id": "e70a7907",
   "metadata": {},
   "outputs": [],
   "source": [
    "data_energy = \"../SolarEnergyData/Solar_Energy_Production.csv\"\n",
    "data_weather = \"../SolarEnergyData/weatherstats_calgary_dailySince2015.csv\"\n",
    "\n",
    "df_energy = spark.read.format(\"csv\").option(\"header\",\"true\").option(\"inferSchema\",\"true\").option(\"mode\",\"failfast\").load(data_energy)\n",
    "df_weather = spark.read.format(\"csv\").option(\"header\",\"true\").option(\"inferSchema\",\"true\").option(\"mode\",\"failfast\").load(data_weather)"
   ]
  },
  {
   "cell_type": "markdown",
   "id": "ad98625c",
   "metadata": {},
   "source": [
    "## 2 Data exploratory "
   ]
  },
  {
   "cell_type": "code",
   "execution_count": 111,
   "id": "c0bcbf5f",
   "metadata": {},
   "outputs": [
    {
     "name": "stdout",
     "output_type": "stream",
     "text": [
      "root\n",
      " |-- name: string (nullable = true)\n",
      " |-- id: integer (nullable = true)\n",
      " |-- address: string (nullable = true)\n",
      " |-- date: string (nullable = true)\n",
      " |-- kWh: double (nullable = true)\n",
      " |-- public_url: string (nullable = true)\n",
      " |-- installationDate: string (nullable = true)\n",
      " |-- uid: string (nullable = true)\n",
      "\n"
     ]
    }
   ],
   "source": [
    "#df_energy.show()\n",
    "df_energy.printSchema()"
   ]
  },
  {
   "cell_type": "code",
   "execution_count": 112,
   "id": "f83f99d8",
   "metadata": {},
   "outputs": [
    {
     "name": "stdout",
     "output_type": "stream",
     "text": [
      "root\n",
      " |-- date: date (nullable = true)\n",
      " |-- max_temperature: double (nullable = true)\n",
      " |-- avg_hourly_temperature: double (nullable = true)\n",
      " |-- avg_temperature: double (nullable = true)\n",
      " |-- min_temperature: double (nullable = true)\n",
      " |-- max_humidex: integer (nullable = true)\n",
      " |-- min_windchill: integer (nullable = true)\n",
      " |-- max_relative_humidity: integer (nullable = true)\n",
      " |-- avg_hourly_relative_humidity: double (nullable = true)\n",
      " |-- avg_relative_humidity: double (nullable = true)\n",
      " |-- min_relative_humidity: integer (nullable = true)\n",
      " |-- max_dew_point: double (nullable = true)\n",
      " |-- avg_hourly_dew_point: double (nullable = true)\n",
      " |-- avg_dew_point: double (nullable = true)\n",
      " |-- min_dew_point: double (nullable = true)\n",
      " |-- max_wind_speed: integer (nullable = true)\n",
      " |-- avg_hourly_wind_speed: double (nullable = true)\n",
      " |-- avg_wind_speed: double (nullable = true)\n",
      " |-- min_wind_speed: integer (nullable = true)\n",
      " |-- max_wind_gust: integer (nullable = true)\n",
      " |-- wind_gust_dir_10s: integer (nullable = true)\n",
      " |-- max_pressure_sea: double (nullable = true)\n",
      " |-- avg_hourly_pressure_sea: double (nullable = true)\n",
      " |-- avg_pressure_sea: double (nullable = true)\n",
      " |-- min_pressure_sea: double (nullable = true)\n",
      " |-- max_pressure_station: double (nullable = true)\n",
      " |-- avg_hourly_pressure_station: double (nullable = true)\n",
      " |-- avg_pressure_station: double (nullable = true)\n",
      " |-- min_pressure_station: double (nullable = true)\n",
      " |-- max_visibility: integer (nullable = true)\n",
      " |-- avg_hourly_visibility: double (nullable = true)\n",
      " |-- avg_visibility: integer (nullable = true)\n",
      " |-- min_visibility: integer (nullable = true)\n",
      " |-- max_health_index: double (nullable = true)\n",
      " |-- avg_hourly_health_index: double (nullable = true)\n",
      " |-- avg_health_index: double (nullable = true)\n",
      " |-- min_health_index: double (nullable = true)\n",
      " |-- heatdegdays: double (nullable = true)\n",
      " |-- cooldegdays: double (nullable = true)\n",
      " |-- growdegdays_5: double (nullable = true)\n",
      " |-- growdegdays_7: double (nullable = true)\n",
      " |-- growdegdays_10: double (nullable = true)\n",
      " |-- precipitation: double (nullable = true)\n",
      " |-- rain: double (nullable = true)\n",
      " |-- snow: double (nullable = true)\n",
      " |-- snow_on_ground: integer (nullable = true)\n",
      " |-- sunrise_hhmm: timestamp (nullable = true)\n",
      " |-- sunrise_unixtime: integer (nullable = true)\n",
      " |-- sunrise_f: double (nullable = true)\n",
      " |-- sunset_hhmm: timestamp (nullable = true)\n",
      " |-- sunset_unixtime: integer (nullable = true)\n",
      " |-- sunset_f: double (nullable = true)\n",
      " |-- daylight: double (nullable = true)\n",
      " |-- min_uv_forecast: integer (nullable = true)\n",
      " |-- max_uv_forecast: integer (nullable = true)\n",
      " |-- min_high_temperature_forecast: integer (nullable = true)\n",
      " |-- max_high_temperature_forecast: integer (nullable = true)\n",
      " |-- min_low_temperature_forecast: integer (nullable = true)\n",
      " |-- max_low_temperature_forecast: integer (nullable = true)\n",
      " |-- solar_radiation: integer (nullable = true)\n",
      " |-- max_cloud_cover_4: string (nullable = true)\n",
      " |-- avg_hourly_cloud_cover_4: string (nullable = true)\n",
      " |-- avg_cloud_cover_4: string (nullable = true)\n",
      " |-- min_cloud_cover_4: string (nullable = true)\n",
      " |-- max_cloud_cover_8: integer (nullable = true)\n",
      " |-- avg_hourly_cloud_cover_8: double (nullable = true)\n",
      " |-- avg_cloud_cover_8: double (nullable = true)\n",
      " |-- min_cloud_cover_8: integer (nullable = true)\n",
      " |-- max_cloud_cover_10: string (nullable = true)\n",
      " |-- avg_hourly_cloud_cover_10: string (nullable = true)\n",
      " |-- avg_cloud_cover_10: string (nullable = true)\n",
      " |-- min_cloud_cover_10: string (nullable = true)\n",
      "\n"
     ]
    }
   ],
   "source": [
    "#df_weather.show()\n",
    "df_weather.printSchema()"
   ]
  },
  {
   "cell_type": "code",
   "execution_count": 113,
   "id": "8174adce",
   "metadata": {},
   "outputs": [
    {
     "data": {
      "text/plain": [
       "258423"
      ]
     },
     "execution_count": 113,
     "metadata": {},
     "output_type": "execute_result"
    }
   ],
   "source": [
    "df_energy.count()"
   ]
  },
  {
   "cell_type": "code",
   "execution_count": 114,
   "id": "b52d8ffc",
   "metadata": {},
   "outputs": [
    {
     "data": {
      "text/plain": [
       "10000"
      ]
     },
     "execution_count": 114,
     "metadata": {},
     "output_type": "execute_result"
    }
   ],
   "source": [
    "df_weather.count()"
   ]
  },
  {
   "cell_type": "markdown",
   "id": "06df050f",
   "metadata": {},
   "source": [
    "De energie-productie (df_energy_df) dataset bevat 258423 records en de weer-dataset (df_weather) bevat er 10000. Bij 'df_energy' gaan we algemener kijken en groeperen per dag, omdat er helaas geen data per uur terug te vinden was over deze periode. Bij 'df_weather' vallen er nog een heel deel records af die buiten het bereik van 'df_energy' liggen. Zie Cleaning stap 3"
   ]
  },
  {
   "cell_type": "markdown",
   "id": "dad174ea",
   "metadata": {},
   "source": [
    "### checken op nullwaardes (missing data)"
   ]
  },
  {
   "cell_type": "code",
   "execution_count": 115,
   "id": "bd6c5458",
   "metadata": {},
   "outputs": [
    {
     "name": "stdout",
     "output_type": "stream",
     "text": [
      "dataset bevat geen kolommen met nullwaardes!\n"
     ]
    }
   ],
   "source": [
    "null_columns_e = []\n",
    "\n",
    "for column in df_energy.columns:\n",
    "    if df_energy.filter(col(column).isNull()).count() > 0:\n",
    "        null_columns_e.append(column)\n",
    "\n",
    "if len(null_columns_e) == 0:\n",
    "    print(\"Energy dataset bevat geen kolommen met nullwaardes!\")\n",
    "else:\n",
    "    print(\"Energy dataset bevat kolommen met nullwaardes, namelijk de kolommen:\\n\")\n",
    "    for column_name in null_columns:\n",
    "        print(column_name)"
   ]
  },
  {
   "cell_type": "code",
   "execution_count": 116,
   "id": "bd34c758",
   "metadata": {},
   "outputs": [
    {
     "name": "stdout",
     "output_type": "stream",
     "text": [
      "dataset bevat kolommen met nullwaardes, namelijk de kolommen:\n",
      "\n",
      "max_humidex\n",
      "min_windchill\n",
      "max_wind_gust\n",
      "wind_gust_dir_10s\n",
      "max_health_index\n",
      "avg_hourly_health_index\n",
      "avg_health_index\n",
      "min_health_index\n",
      "precipitation\n",
      "rain\n",
      "snow\n",
      "snow_on_ground\n",
      "sunrise_hhmm\n",
      "sunrise_unixtime\n",
      "sunrise_f\n",
      "sunset_hhmm\n",
      "sunset_unixtime\n",
      "sunset_f\n",
      "daylight\n",
      "min_uv_forecast\n",
      "max_uv_forecast\n",
      "min_high_temperature_forecast\n",
      "max_high_temperature_forecast\n",
      "min_low_temperature_forecast\n",
      "max_low_temperature_forecast\n",
      "solar_radiation\n",
      "max_cloud_cover_4\n",
      "avg_hourly_cloud_cover_4\n",
      "avg_cloud_cover_4\n",
      "min_cloud_cover_4\n",
      "max_cloud_cover_8\n",
      "avg_hourly_cloud_cover_8\n",
      "avg_cloud_cover_8\n",
      "min_cloud_cover_8\n",
      "max_cloud_cover_10\n",
      "avg_hourly_cloud_cover_10\n",
      "avg_cloud_cover_10\n",
      "min_cloud_cover_10\n"
     ]
    }
   ],
   "source": [
    "null_columns_w = []\n",
    "\n",
    "for column in df_weather.columns:\n",
    "    if df_weather.filter(col(column).isNull()).count() > 0:\n",
    "        null_columns_w.append(column)\n",
    "        \n",
    "if len(null_columns_w) == 0:\n",
    "    print(\"Weather dataset bevat geen kolommen met nullwaardes!\")\n",
    "else:\n",
    "    print(\"Weather dataset bevat kolommen met nullwaardes, namelijk de kolommen:\\n\")\n",
    "    for column_name in null_columns_w:\n",
    "          print(column_name)"
   ]
  },
  {
   "cell_type": "markdown",
   "id": "37fb6146",
   "metadata": {},
   "source": [
    "Gelukkig zijn dit geen kolommen die we later nodig hebben dus vormt het niet meteen een probleem. Er moet dus niet aan `imputation` gedaan worden, d.w.z nullwaardes opvullen met:\n",
    "\n",
    "1. Voor numerieke data:\n",
    "- Mean imputation: het gemiddelde van de kolom\n",
    "- Median imputation: de mediaan van de kolom \n",
    "- Mode imputation: de mode van de kolom\n",
    "\n",
    "2. Voor categorische data:\n",
    "- Frequent category imputation: de waarde die het meest voorkomt in de kolom"
   ]
  },
  {
   "cell_type": "markdown",
   "id": "3d68a7ae",
   "metadata": {},
   "source": [
    "### checken op outliers"
   ]
  },
  {
   "cell_type": "code",
   "execution_count": 117,
   "id": "14efc8f3",
   "metadata": {},
   "outputs": [],
   "source": [
    "# TODO\n",
    "#max vergelijken met min en avg, boxplot? "
   ]
  },
  {
   "cell_type": "markdown",
   "id": "d64acd3d",
   "metadata": {},
   "source": [
    "### verdeling temperatuur"
   ]
  },
  {
   "cell_type": "code",
   "execution_count": 118,
   "id": "fa3d3e21",
   "metadata": {},
   "outputs": [
    {
     "data": {
      "text/plain": [
       "\"\\ncolumn_data = df_weather.select('avg_temperature').rdd.flatMap(lambda x: x).collect()\\n\\n# Plotting the histogram\\nplt.figure(figsize=(10, 6))\\nplt.hist(column_data, bins=20, color='blue', edgecolor='black', alpha=0.7)\\n\\n# Formatting\\nplt.title('Histogram of Column Name')\\nplt.xlabel('Values')\\nplt.ylabel('Frequency')\\nplt.grid(True)\\nplt.show()\\n\\n\\n#----\\n\\n\\nfrom pyspark_dist_explore import hist\\nimport matplotlib.pyplot as plt\\n\\nfig, ax = plt.subplots()\\nhist(ax, df_weather.select('avg_temperature'), bins = 20, color=['red'])\\n\""
      ]
     },
     "execution_count": 118,
     "metadata": {},
     "output_type": "execute_result"
    }
   ],
   "source": [
    "# ik heb het uiteindelijkj met .ToPandas() gedaan om te plotten want ik kreeg een \"python mismatching 3.9 3.11\" error \n",
    "# bij df_weather.select('avg_temperature').rdd.flatMap(lambda x: x).collect() \n",
    "\n",
    "\"\"\"\n",
    "column_data = df_weather.select('avg_temperature').rdd.flatMap(lambda x: x).collect()\n",
    "\n",
    "# Plotting the histogram\n",
    "plt.figure(figsize=(10, 6))\n",
    "plt.hist(column_data, bins=20, color='blue', edgecolor='black', alpha=0.7)\n",
    "\n",
    "# Formatting\n",
    "plt.title('Histogram of Column Name')\n",
    "plt.xlabel('Values')\n",
    "plt.ylabel('Frequency')\n",
    "plt.grid(True)\n",
    "plt.show()\n",
    "\n",
    "\n",
    "#----\n",
    "\n",
    "\n",
    "from pyspark_dist_explore import hist\n",
    "import matplotlib.pyplot as plt\n",
    "\n",
    "fig, ax = plt.subplots()\n",
    "hist(ax, df_weather.select('avg_temperature'), bins = 20, color=['red'])\n",
    "\"\"\"\n",
    "\n",
    "# error Python in worker has different version (3, 11) than that in driver 3.9, PySpark cannot run with different minor versions.\n",
    "# Please check environment variables PYSPARK_PYTHON and PYSPARK_DRIVER_PYTHON are correctly set."
   ]
  },
  {
   "cell_type": "code",
   "execution_count": 119,
   "id": "1965dd7d",
   "metadata": {},
   "outputs": [
    {
     "data": {
      "image/png": "[encoded data removed]",
      "text/plain": [
       "<Figure size 720x432 with 1 Axes>"
      ]
     },
     "metadata": {
      "needs_background": "light"
     },
     "output_type": "display_data"
    }
   ],
   "source": [
    "column_data = df_weather.select('avg_temperature').toPandas()\n",
    "\n",
    "plt.figure(figsize=(10, 6))\n",
    "plt.hist(column_data['avg_temperature'], bins=20, color='blue', edgecolor='black', alpha=0.7)\n",
    "\n",
    "plt.title('Histogram of avg_temperature')\n",
    "plt.xlabel('Values')\n",
    "plt.ylabel('Frequency')\n",
    "plt.grid(True)\n",
    "plt.show()"
   ]
  },
  {
   "cell_type": "markdown",
   "id": "f12e108c",
   "metadata": {},
   "source": [
    "TODO # uitleg histogram..."
   ]
  },
  {
   "cell_type": "markdown",
   "id": "b6deb69b",
   "metadata": {},
   "source": [
    "### verdeling opwekking zonne-energie"
   ]
  },
  {
   "cell_type": "code",
   "execution_count": 120,
   "id": "dfae0865",
   "metadata": {},
   "outputs": [
    {
     "data": {
      "image/png": "[encoded data removed]",
      "text/plain": [
       "<Figure size 720x432 with 1 Axes>"
      ]
     },
     "metadata": {
      "needs_background": "light"
     },
     "output_type": "display_data"
    }
   ],
   "source": [
    "column_data = df_energy.select('kWh').toPandas()\n",
    "\n",
    "plt.figure(figsize=(10, 6))\n",
    "plt.hist(column_data['kWh'], bins=20, color='blue', edgecolor='black', alpha=0.7)\n",
    "\n",
    "plt.title('Histogram of kWh')\n",
    "plt.xlabel('Values')\n",
    "plt.ylabel('Frequency')\n",
    "plt.grid(True)\n",
    "plt.show()"
   ]
  },
  {
   "cell_type": "markdown",
   "id": "563749f4",
   "metadata": {},
   "source": [
    "TODO # uitleg histogram..."
   ]
  },
  {
   "cell_type": "markdown",
   "id": "17afdd3f",
   "metadata": {},
   "source": [
    "## 3 cleaning & preprocessing"
   ]
  },
  {
   "cell_type": "markdown",
   "id": "749ae122",
   "metadata": {},
   "source": [
    "### date kolom aanpassen"
   ]
  },
  {
   "cell_type": "code",
   "execution_count": 124,
   "id": "c16a79ca",
   "metadata": {},
   "outputs": [
    {
     "name": "stdout",
     "output_type": "stream",
     "text": [
      "+--------------------+\n",
      "|                date|\n",
      "+--------------------+\n",
      "|2015/09/01 02:30:...|\n",
      "|2015/09/01 03:30:...|\n",
      "|2015/09/01 04:30:...|\n",
      "|2015/09/01 05:30:...|\n",
      "|2015/09/01 06:30:...|\n",
      "|2015/09/01 07:30:...|\n",
      "|2015/09/01 08:30:...|\n",
      "|2015/09/01 09:30:...|\n",
      "|2015/09/01 10:30:...|\n",
      "|2015/09/01 11:30:...|\n",
      "|2015/09/02 01:30:...|\n",
      "|2015/09/02 01:30:...|\n",
      "|2015/09/02 02:30:...|\n",
      "|2015/09/02 02:30:...|\n",
      "|2015/09/02 03:30:...|\n",
      "|2015/09/02 04:30:...|\n",
      "|2015/09/02 05:30:...|\n",
      "|2015/09/02 06:30:...|\n",
      "|2015/09/02 06:30:...|\n",
      "|2015/09/02 07:30:...|\n",
      "+--------------------+\n",
      "only showing top 20 rows\n",
      "\n"
     ]
    }
   ],
   "source": [
    "df_energy.select(\"date\").orderBy(\"date\").show()"
   ]
  },
  {
   "cell_type": "markdown",
   "id": "8e0dc2d9",
   "metadata": {},
   "source": [
    "df_energy datums nog omzetten (casten) naar een date want staat oorspronkelijk in het unixtime formaat met `yyyy/MM/dd hh:mm:ss a`en er moet iets van het type date `yyyy/MM/dd` bekomen worden zoals we in de df_weather hebben. Zo kan de data later worden samengevoegd op basis van gelijke datums."
   ]
  },
  {
   "cell_type": "code",
   "execution_count": 125,
   "id": "8356b775",
   "metadata": {},
   "outputs": [
    {
     "name": "stdout",
     "output_type": "stream",
     "text": [
      "+----------+\n",
      "|     date2|\n",
      "+----------+\n",
      "|2017-09-11|\n",
      "|2017-09-11|\n",
      "|2017-09-11|\n",
      "|2017-09-11|\n",
      "|2017-09-11|\n",
      "|2017-09-11|\n",
      "|2017-09-11|\n",
      "|2017-09-11|\n",
      "|2017-09-11|\n",
      "|2017-09-11|\n",
      "|2017-09-11|\n",
      "|2017-09-11|\n",
      "|2017-09-12|\n",
      "|2017-09-12|\n",
      "|2017-09-12|\n",
      "|2017-09-12|\n",
      "|2017-09-12|\n",
      "|2017-09-12|\n",
      "|2017-09-12|\n",
      "|2017-09-12|\n",
      "+----------+\n",
      "only showing top 20 rows\n",
      "\n"
     ]
    }
   ],
   "source": [
    "df_energy = df_energy.withColumn(\"date2\", from_unixtime(unix_timestamp(col(\"date\"), 'yyyy/MM/dd hh:mm:ss a')).cast(\"date\"))\n",
    "\n",
    "df_energy.select(\"date2\").show()"
   ]
  },
  {
   "cell_type": "markdown",
   "id": "adf180a0",
   "metadata": {},
   "source": [
    "### data uit df_energy groeperen per dag\n",
    "Er wordt verder gerekend met de gemiddelde kWh per dag in df_energy, gezien we niet van elk uur weerdata ter beschikking hebben.\n",
    "Zoals we ook al bij het inladen konden zien bevat df_energy 258423 rijen (omdat er meerdere metingen zijn per dag) en df_weather 10000 rijen, per dag 1 record."
   ]
  },
  {
   "cell_type": "code",
   "execution_count": 126,
   "id": "b392902c",
   "metadata": {},
   "outputs": [
    {
     "name": "stdout",
     "output_type": "stream",
     "text": [
      "+----------+------------------+\n",
      "|     date2|          avg(kWh)|\n",
      "+----------+------------------+\n",
      "|2015-09-01|28.601300000000002|\n",
      "|2015-09-02| 32.45933333333333|\n",
      "|2015-09-03|30.852666666666657|\n",
      "|2015-09-04|            5.1224|\n",
      "|2015-09-05|4.9174736842105276|\n",
      "|2015-09-06|           18.3813|\n",
      "|2015-09-07|30.262947368421052|\n",
      "|2015-09-08|           24.4907|\n",
      "|2015-09-09|           36.6001|\n",
      "|2015-09-10|  33.0881052631579|\n",
      "|2015-09-11| 45.54736842105263|\n",
      "|2015-09-12| 44.59063157894737|\n",
      "|2015-09-13|13.285210526315788|\n",
      "|2015-09-14|  5.36278947368421|\n",
      "|2015-09-15| 32.56542105263158|\n",
      "|2015-09-16| 35.77613333333333|\n",
      "|2015-09-17| 50.94357142857143|\n",
      "|2015-09-18| 50.00066666666666|\n",
      "|2015-09-21| 45.08325000000001|\n",
      "|2015-09-22|60.640538461538455|\n",
      "+----------+------------------+\n",
      "only showing top 20 rows\n",
      "\n"
     ]
    }
   ],
   "source": [
    "df_energy = df_energy.withColumn(\"date2\", from_unixtime(unix_timestamp(col(\"date\"), 'yyyy/MM/dd hh:mm:ss a')).cast(\"date\"))\n",
    "# groepeer per dag en bereken average temperature per dag\n",
    "df_energy_day = df_energy.groupBy(\"date2\").agg({\"kWh\": \"avg\"}).orderBy(\"date2\")#.show() returnt een NoneType, hierdoor kan er later nioet mee gewerkt worden! \n",
    "\n",
    "df_energy_day.show()"
   ]
  },
  {
   "cell_type": "code",
   "execution_count": 139,
   "id": "ed7fad1b",
   "metadata": {},
   "outputs": [
    {
     "data": {
      "text/plain": [
       "2716"
      ]
     },
     "execution_count": 139,
     "metadata": {},
     "output_type": "execute_result"
    }
   ],
   "source": [
    "df_energy_day.count()"
   ]
  },
  {
   "cell_type": "markdown",
   "id": "c371129c",
   "metadata": {},
   "source": [
    "### data buiten bereik filteren\n",
    "Dagen uit df_weather verwijderen die buiten het bereik van df_energy vallen.\n"
   ]
  },
  {
   "cell_type": "code",
   "execution_count": 128,
   "id": "72b955ef",
   "metadata": {},
   "outputs": [
    {
     "name": "stdout",
     "output_type": "stream",
     "text": [
      "Minimum datum uit df_weather is: 1996-07-13\n",
      "Maximum datum uit df_weather is: 2023-11-28\n",
      "Minimum datum uit df_energy_day is: 2015-09-01\n",
      "Maximum datum uit df_energy_day is: 2023-03-16\n",
      "\n",
      "Aantal overgebleven records uit df_energy na groepering per dag is: 2716\n",
      "Aantal records uit df_weather is: 10000\n"
     ]
    }
   ],
   "source": [
    "# temp table\n",
    "df_weather.createOrReplaceTempView(\"weather_table\")\n",
    "df_energy_day.createOrReplaceTempView(\"energy_table\")\n",
    "\n",
    "#SQL queries\n",
    "query_w = \"\"\"\n",
    "    SELECT\n",
    "        MIN(CAST(date AS DATE)) AS min_date,\n",
    "        MAX(CAST(date AS DATE)) AS max_date\n",
    "    FROM\n",
    "        weather_table\n",
    "\"\"\"\n",
    "\n",
    "query_e = \"\"\"\n",
    "    SELECT\n",
    "        MIN(CAST(date2 AS DATE)) AS min_date,\n",
    "        MAX(CAST(date2 AS DATE)) AS max_date\n",
    "    FROM\n",
    "        energy_table\n",
    "\"\"\"\n",
    "\n",
    "# Execute SQL\n",
    "date_min_max_w = spark.sql(query_w).first()\n",
    "date_min_max_e = spark.sql(query_e).first()\n",
    "\n",
    "min_date_w = date_min_max_w.min_date\n",
    "max_date_w = date_min_max_w.max_date\n",
    "min_date_e = date_min_max_e.min_date\n",
    "max_date_e = date_min_max_e.max_date\n",
    "\n",
    "records_df_energy = df_energy_day.count()\n",
    "records_df_weather = df_weather.count()\n",
    "\n",
    "print(f\"Minimum datum uit df_weather is: {min_date_w}\")\n",
    "print(f\"Maximum datum uit df_weather is: {max_date_w}\")\n",
    "print(f\"Minimum datum uit df_energy_day is: {min_date_e}\")\n",
    "print(f\"Maximum datum uit df_energy_day is: {max_date_e}\")\n",
    "print(f\"\\nAantal overgebleven records uit df_energy na groepering per dag is: {records_df_energy}\")\n",
    "print(f\"Aantal records uit df_weather is: {records_df_weather}\")"
   ]
  },
  {
   "cell_type": "markdown",
   "id": "96dd7b3a",
   "metadata": {},
   "source": [
    "Nu zijn er meer 'weather' records dan 'energy' records en moet de data buiten het bereik van van de dagen waarvoor er energie-data is, uitgefilterd worden.\n",
    "\n",
    "Er hoeft niet speciaal nog een drop operatie gedaan worden om de data te verwijderen die niet matcht aangezien er later nog gejoind zal worden en de data die overeenkomt automatisch overgehouden wordt"
   ]
  },
  {
   "cell_type": "markdown",
   "id": "0cc893d6",
   "metadata": {},
   "source": [
    "### niet-relevante kolommen uitfilteren"
   ]
  },
  {
   "cell_type": "markdown",
   "id": "68988c60",
   "metadata": {},
   "source": [
    "Voor dit project zijn we enkel geinteresseerd in de `avg_temperature` kolom uit `df_weather`. Natuurlijk zijn er heel wat andere kolommen die ook invloed hebben op de energieproductie van zonnepanelen maar we willen juist de correlatie bespreken tussen een warme dag of een koude dag en de daarbij horende energie opwekking.\n",
    "\n",
    "er zijn een paar kolommen kandidaat: TODO nog uitzoeken welke!!!! ####\n",
    "- avg_cloud_cover_4\n",
    "- avg_cloud_cover_8\n",
    "- avg_cloud_cover_10"
   ]
  },
  {
   "cell_type": "code",
   "execution_count": 129,
   "id": "a416a312",
   "metadata": {},
   "outputs": [
    {
     "data": {
      "text/plain": [
       "DataFrame[summary: string, max_temperature: string, avg_hourly_temperature: string, avg_temperature: string, min_temperature: string, max_humidex: string, min_windchill: string, max_relative_humidity: string, avg_hourly_relative_humidity: string, avg_relative_humidity: string, min_relative_humidity: string, max_dew_point: string, avg_hourly_dew_point: string, avg_dew_point: string, min_dew_point: string, max_wind_speed: string, avg_hourly_wind_speed: string, avg_wind_speed: string, min_wind_speed: string, max_wind_gust: string, wind_gust_dir_10s: string, max_pressure_sea: string, avg_hourly_pressure_sea: string, avg_pressure_sea: string, min_pressure_sea: string, max_pressure_station: string, avg_hourly_pressure_station: string, avg_pressure_station: string, min_pressure_station: string, max_visibility: string, avg_hourly_visibility: string, avg_visibility: string, min_visibility: string, max_health_index: string, avg_hourly_health_index: string, avg_health_index: string, min_health_index: string, heatdegdays: string, cooldegdays: string, growdegdays_5: string, growdegdays_7: string, growdegdays_10: string, precipitation: string, rain: string, snow: string, snow_on_ground: string, sunrise_unixtime: string, sunrise_f: string, sunset_unixtime: string, sunset_f: string, daylight: string, min_uv_forecast: string, max_uv_forecast: string, min_high_temperature_forecast: string, max_high_temperature_forecast: string, min_low_temperature_forecast: string, max_low_temperature_forecast: string, solar_radiation: string, max_cloud_cover_4: string, avg_hourly_cloud_cover_4: string, avg_cloud_cover_4: string, min_cloud_cover_4: string, max_cloud_cover_8: string, avg_hourly_cloud_cover_8: string, avg_cloud_cover_8: string, min_cloud_cover_8: string, max_cloud_cover_10: string, avg_hourly_cloud_cover_10: string, avg_cloud_cover_10: string, min_cloud_cover_10: string]"
      ]
     },
     "execution_count": 129,
     "metadata": {},
     "output_type": "execute_result"
    }
   ],
   "source": [
    "df_weather.describe()"
   ]
  },
  {
   "cell_type": "code",
   "execution_count": 131,
   "id": "02df118b",
   "metadata": {},
   "outputs": [],
   "source": [
    "#kolommen die we niet nodig hebben uitfilteren\n",
    "df_weather_selected_col = df_weather.select(\"date\", \"avg_temperature\")"
   ]
  },
  {
   "cell_type": "markdown",
   "id": "ef4b351d",
   "metadata": {},
   "source": [
    "### joinen op basis van datum"
   ]
  },
  {
   "cell_type": "code",
   "execution_count": 132,
   "id": "3443c06d",
   "metadata": {},
   "outputs": [
    {
     "name": "stdout",
     "output_type": "stream",
     "text": [
      "+----------+------------------+---------------+\n",
      "|     date2|          avg(kWh)|avg_temperature|\n",
      "+----------+------------------+---------------+\n",
      "|2015-09-01|28.601300000000002|          14.64|\n",
      "|2015-09-02| 32.45933333333333|          15.45|\n",
      "|2015-09-03|30.852666666666657|           9.19|\n",
      "|2015-09-04|            5.1224|           5.69|\n",
      "|2015-09-05|4.9174736842105276|            3.7|\n",
      "|2015-09-06|           18.3813|            5.0|\n",
      "|2015-09-07|30.262947368421052|           9.94|\n",
      "|2015-09-08|           24.4907|           10.8|\n",
      "|2015-09-09|           36.6001|           13.3|\n",
      "|2015-09-10|  33.0881052631579|           12.1|\n",
      "|2015-09-11| 45.54736842105263|           16.8|\n",
      "|2015-09-12| 44.59063157894737|          19.14|\n",
      "|2015-09-13|13.285210526315788|          10.15|\n",
      "|2015-09-14|  5.36278947368421|            5.9|\n",
      "|2015-09-15| 32.56542105263158|           8.55|\n",
      "|2015-09-16| 35.77613333333333|            7.0|\n",
      "|2015-09-17| 50.94357142857143|           8.15|\n",
      "|2015-09-18| 50.00066666666666|          11.35|\n",
      "|2015-09-21| 45.08325000000001|            5.3|\n",
      "|2015-09-22|60.640538461538455|          11.05|\n",
      "+----------+------------------+---------------+\n",
      "only showing top 20 rows\n",
      "\n"
     ]
    }
   ],
   "source": [
    "energy = df_energy_day.alias(\"df_energy_day\")\n",
    "weer = df_weather_selected_col.alias(\"df_weather\")\n",
    "\n",
    "# inner join on 'date' kolom\n",
    "joined_df = energy.join(weer, energy['date2'] == weer['Date'], 'left')\n",
    "\n",
    "joined_df.select(energy['date2'], energy['avg(kWh)'], weer['avg_temperature']).orderBy(\"date2\").show()"
   ]
  },
  {
   "cell_type": "code",
   "execution_count": 133,
   "id": "1fd546ab",
   "metadata": {},
   "outputs": [],
   "source": [
    "# we hebben nu 2 datum kolommen dus 1tje mag verwijderd worden\n",
    "joined_df = joined_df.drop(col(\"date2\"))"
   ]
  },
  {
   "cell_type": "code",
   "execution_count": 134,
   "id": "be96605f",
   "metadata": {},
   "outputs": [
    {
     "name": "stdout",
     "output_type": "stream",
     "text": [
      "+-------+------------------+-----------------+\n",
      "|summary|          avg(kWh)|  avg_temperature|\n",
      "+-------+------------------+-----------------+\n",
      "|  count|              2716|             2716|\n",
      "|   mean| 32.60636546059805|4.664900589101617|\n",
      "| stddev|21.998459233839053|11.01423654777967|\n",
      "|    min|               0.0|           -30.45|\n",
      "|    max|  84.8148034188034|            27.29|\n",
      "+-------+------------------+-----------------+\n",
      "\n"
     ]
    }
   ],
   "source": [
    "#joined_df.show()\n",
    "joined_df.describe().show()"
   ]
  },
  {
   "cell_type": "markdown",
   "id": "0b1a92da",
   "metadata": {},
   "source": [
    "### datatypes toekennen"
   ]
  },
  {
   "cell_type": "code",
   "execution_count": 135,
   "id": "4c59e5df",
   "metadata": {},
   "outputs": [
    {
     "name": "stdout",
     "output_type": "stream",
     "text": [
      "Column: avg(kWh), Data Type: double\n",
      "Column: date, Data Type: date\n",
      "Column: avg_temperature, Data Type: double\n"
     ]
    }
   ],
   "source": [
    "column_data_types = joined_df.dtypes\n",
    "\n",
    "for column, data_type in column_data_types:\n",
    "    print(f\"Kolom: {column}, Data Type: {data_type}\")"
   ]
  },
  {
   "cell_type": "markdown",
   "id": "2e2dc133",
   "metadata": {},
   "source": [
    "Zo te zien bevat deze dataframe al automatisch de juiste datatypes om mee aan de slag te gaan. "
   ]
  },
  {
   "cell_type": "markdown",
   "id": "06cdd14c",
   "metadata": {},
   "source": [
    "### kolommen toevoegen"
   ]
  },
  {
   "cell_type": "code",
   "execution_count": 136,
   "id": "8b21ac9d",
   "metadata": {},
   "outputs": [
    {
     "name": "stdout",
     "output_type": "stream",
     "text": [
      "+------------------+----------+---------------+-----+-------+\n",
      "|          avg(kWh)|      date|avg_temperature|month|seizoen|\n",
      "+------------------+----------+---------------+-----+-------+\n",
      "|34.126020833333335|2017-09-11|          18.64|    9| herfst|\n",
      "| 61.16932075471698|2017-08-11|           18.7|    8|  zomer|\n",
      "| 42.58591666666667|2016-03-01|          -0.59|    3|  lente|\n",
      "|61.045993464052316|2019-06-04|           16.0|    6|  zomer|\n",
      "|           66.2803|2018-05-28|           20.0|    5|  lente|\n",
      "| 54.34225641025642|2018-08-10|          26.15|    8|  zomer|\n",
      "| 53.71429411764706|2021-06-22|           21.6|    6|  zomer|\n",
      "| 48.74009210526314|2019-05-08|           7.25|    5|  lente|\n",
      "|37.910468468468466|2021-10-11|           0.95|   10| herfst|\n",
      "|62.834886666666655|2020-08-24|          20.25|    8|  zomer|\n",
      "|1.8028571428571432|2021-12-18|          -9.19|   12| winter|\n",
      "| 23.22218681318681|2021-11-13|           3.45|   11| herfst|\n",
      "| 3.548602564102563|2021-01-27|          -13.2|    1| winter|\n",
      "|  32.0981971830986|2021-08-27|          15.45|    8|  zomer|\n",
      "| 34.12024615384616|2022-03-28|           0.59|    3|  lente|\n",
      "|53.465215277777766|2022-07-31|          21.65|    7|  zomer|\n",
      "|14.803142857142856|2016-04-25|            3.8|    4|  lente|\n",
      "|27.433728260869565|2019-11-18|           5.15|   11| herfst|\n",
      "| 52.27623148148149|2019-11-01|           0.75|   11| herfst|\n",
      "|20.049341666666667|2018-03-17|           -1.1|    3|  lente|\n",
      "+------------------+----------+---------------+-----+-------+\n",
      "only showing top 20 rows\n",
      "\n"
     ]
    }
   ],
   "source": [
    "df_with_season = joined_df.withColumn(\"month\", expr(\"month(date)\"))\n",
    "\n",
    "spring_condition = (col(\"month\") >= 3) & (col(\"month\") <= 5)\n",
    "summer_condition = (col(\"month\") >= 6) & (col(\"month\") <= 8)\n",
    "autumn_condition = (col(\"month\") >= 9) & (col(\"month\") <= 11)\n",
    "\n",
    "joined_df = df_with_season.withColumn(\"seizoen\", \n",
    "    when(spring_condition, \"lente\")\n",
    "    .when(summer_condition, \"zomer\")\n",
    "    .when(autumn_condition, \"herfst\")\n",
    "    .otherwise(\"winter\")\n",
    ")\n",
    "\n",
    "joined_df.show()      "
   ]
  },
  {
   "cell_type": "markdown",
   "id": "85c646d9",
   "metadata": {},
   "source": [
    "## 4 Visualisatie"
   ]
  },
  {
   "cell_type": "code",
   "execution_count": 137,
   "id": "912c9589",
   "metadata": {},
   "outputs": [
    {
     "name": "stdout",
     "output_type": "stream",
     "text": [
      "Alle waarden in kolom 'date' zijn uniek.\n"
     ]
    }
   ],
   "source": [
    "# checken of dagen uniek zijn (controle voor de plot)\n",
    "column_name = \"date\"\n",
    "\n",
    "unique_count = joined_df.select(column_name).distinct().count()\n",
    "total_count = joined_df.select(column_name).count()\n",
    "\n",
    "if unique_count == total_count:\n",
    "    print(f\"Alle waarden in kolom '{column_name}' zijn uniek.\")\n",
    "else:\n",
    "    print(f\"Niet alle waarden in kolom '{column_name}' zijn uniek.\")"
   ]
  },
  {
   "cell_type": "code",
   "execution_count": 141,
   "id": "e53a93ec",
   "metadata": {},
   "outputs": [
    {
     "data": {
      "image/png": "[encoded data removed]",
      "text/plain": [
       "<Figure size 432x288 with 1 Axes>"
      ]
     },
     "metadata": {},
     "output_type": "display_data"
    }
   ],
   "source": [
    "avg_kwh_per_season = joined_df.groupBy(\"seizoen\").agg({\"avg(kWh)\": \"avg\"}).toPandas()\n",
    "\n",
    "# pie chart\n",
    "plt.pie(avg_kwh_per_season[\"avg(avg(kWh))\"], labels=avg_kwh_per_season[\"seizoen\"], autopct='%1.1f%%')\n",
    "plt.title('Gemiddelde kWh per Seizoen')\n",
    "plt.show()"
   ]
  },
  {
   "cell_type": "markdown",
   "id": "223c60ed",
   "metadata": {},
   "source": [
    "Je ziet duidelijk dat er meer stroom opgewekt wordt tijdens de zomer en lente dan in de winter en herfst periode."
   ]
  },
  {
   "cell_type": "code",
   "execution_count": 142,
   "id": "4e7d8f3f",
   "metadata": {},
   "outputs": [
    {
     "data": {
      "image/png": "[encoded data removed]",
      "text/plain": [
       "<Figure size 1440x432 with 1 Axes>"
      ]
     },
     "metadata": {
      "needs_background": "light"
     },
     "output_type": "display_data"
    }
   ],
   "source": [
    "# Groepeer data per jaar en maand om gemiddelde te berekenen\n",
    "df_plot = joined_df.groupBy(year('date').alias('year'), month('date').alias('month')).agg({'avg(kWh)': 'avg', 'avg_temperature': 'avg'})\n",
    "\n",
    "# Extract data\n",
    "dates = [datetime(row.year, row.month, 1) for row in df_plot.collect()]  \n",
    "avg_kWh_values = [row['avg(avg(kWh))'] for row in df_plot.collect()]\n",
    "avg_temperature_values = [row['avg(avg_temperature)'] for row in df_plot.collect()]\n",
    "\n",
    "# Sorteren\n",
    "sorted_dates, sorted_avg_kWh, sorted_avg_temperature = zip(*sorted(zip(dates, avg_kWh_values, avg_temperature_values)))\n",
    "\n",
    "plt.figure(figsize=(20, 6))\n",
    "plt.plot(sorted_dates, sorted_avg_kWh, label='Gemiddelde kWh', marker='o')\n",
    "plt.plot(sorted_dates, sorted_avg_temperature, label='Gemiddelde Temperatuur', marker='o')\n",
    "\n",
    "plt.title('Gemiddelde kWh en Temperatuur per tijd')\n",
    "plt.xlabel('Datum')\n",
    "plt.ylabel('Waarde')\n",
    "plt.legend()\n",
    "plt.grid(True)\n",
    "plt.show()\n"
   ]
  },
  {
   "cell_type": "markdown",
   "id": "42079f85",
   "metadata": {},
   "source": [
    "opm: Je ziet hier duidelijk een steeds terugkomend patroon in de data. Zowel voor de gemiddelde opwekking van zonne-energie als uiteraard ook de temperatuur (denk aan zomer- en wintertemperaturen). We kunnen dus zeggen dat er dus zeer waarschijnlijk onrechtstreeks ook een correlatie zal bestaan tussen de tijd (de seizoenen) en de hoeveelheid zonne-energie die wordt opgewekt. natuurlijk is dit omwille van de temperatuur (en andere zaken zoals lichtsterkte, bewolking, uren zonlicht,...) in deze seizoenen. \n",
    "\n",
    "@@@@TODO !!!!! nog wat uithalen en bij conclusie zetten"
   ]
  },
  {
   "cell_type": "code",
   "execution_count": 143,
   "id": "7f978024",
   "metadata": {},
   "outputs": [
    {
     "data": {
      "application/vnd.jupyter.widget-view+json": {
       "model_id": "3732bdd922974218ae729d972b1810e3",
       "version_major": 2,
       "version_minor": 0
      },
      "text/plain": [
       "IntRangeSlider(value=(2015, 2023), continuous_update=False, description='Selecteer interval:', max=2023, min=2…"
      ]
     },
     "metadata": {},
     "output_type": "display_data"
    },
    {
     "data": {
      "application/vnd.jupyter.widget-view+json": {
       "model_id": "c103d9c22a134121aed77e96b2a497b2",
       "version_major": 2,
       "version_minor": 0
      },
      "text/plain": [
       "Output()"
      ]
     },
     "metadata": {},
     "output_type": "display_data"
    }
   ],
   "source": [
    "# min en max jaar voor widget\n",
    "distinct_years = joined_df.select(year('date').alias('year')).distinct().toPandas()['year'].tolist()\n",
    "min_year, max_year = min(distinct_years), max(distinct_years)\n",
    "\n",
    "year_range_slider = widgets.IntRangeSlider(\n",
    "    min=min_year,\n",
    "    max=max_year,\n",
    "    value=[min_year, max_year],\n",
    "    step=1,\n",
    "    description='Selecteer interval:',\n",
    "    continuous_update=False\n",
    ")\n",
    "\n",
    "# Output widget voor de plot weer te geven\n",
    "output = widgets.Output()\n",
    "\n",
    "# update functie wanneer year_range_slider wordt aangepast\n",
    "def update_plot(year_range):\n",
    "    with output:\n",
    "        clear_output(wait=True)\n",
    "        \n",
    "        filtered_df = joined_df.filter((year(joined_df['date']) >= year_range[0]) & (year(joined_df['date']) <= year_range[1]))\n",
    "\n",
    "        # Groepeer data per jaar en maand om gemiddelde te berekenen\n",
    "        df_plot = filtered_df.groupBy(year('date').alias('year'), month('date').alias('month')).agg({'avg(kWh)': 'avg', 'avg_temperature': 'avg'})\n",
    "\n",
    "        # Sorteren\n",
    "        df_plot = df_plot.orderBy('year', 'month')\n",
    "\n",
    "        # Extract data\n",
    "        dates = [f\"{row.year}-{row.month:02d}\" for row in df_plot.collect()]\n",
    "        avg_kWh_values = [row['avg(avg(kWh))'] for row in df_plot.collect()]\n",
    "        avg_temperature_values = [row['avg(avg_temperature)'] for row in df_plot.collect()]\n",
    "\n",
    "        \n",
    "        plt.figure(figsize=(20, 6))\n",
    "        plt.plot(dates, avg_kWh_values, label='Gemiddelde kWh', marker='o')\n",
    "        plt.plot(dates, avg_temperature_values, label='Gemiddelde Temperatuur', marker='o')\n",
    "\n",
    "        \n",
    "        plt.title('Gemiddelde kWh en Temperatuur per tijd')\n",
    "        plt.xlabel('Datum')\n",
    "        plt.ylabel('Waardes')\n",
    "        plt.legend()\n",
    "        plt.xticks(rotation=45)\n",
    "        plt.grid(True)\n",
    "        plt.show()\n",
    "\n",
    "# Connect the function to the widget's value\n",
    "widgets.interactive(update_plot, year_range=year_range_slider)\n",
    "\n",
    "# Display widget en output\n",
    "display(year_range_slider, output)\n"
   ]
  },
  {
   "cell_type": "code",
   "execution_count": 145,
   "id": "0c4dc5e0",
   "metadata": {},
   "outputs": [
    {
     "data": {
      "application/vnd.jupyter.widget-view+json": {
       "model_id": "40867347047141598a2f8c123bba68e7",
       "version_major": 2,
       "version_minor": 0
      },
      "text/plain": [
       "interactive(children=(IntRangeSlider(value=(2015, 2023), continuous_update=False, description='Select Year Ran…"
      ]
     },
     "metadata": {},
     "output_type": "display_data"
    },
    {
     "data": {
      "application/vnd.jupyter.widget-view+json": {
       "model_id": "4de2d9b5722548acb29e63abf717d396",
       "version_major": 2,
       "version_minor": 0
      },
      "text/plain": [
       "Output()"
      ]
     },
     "metadata": {},
     "output_type": "display_data"
    }
   ],
   "source": [
    "# min en max jaar voor widget\n",
    "distinct_years = joined_df.select(year('date').alias('year')).distinct().toPandas()['year'].tolist()\n",
    "min_year, max_year = min(distinct_years), max(distinct_years)\n",
    "\n",
    "year_range_slider = widgets.IntRangeSlider(\n",
    "    min=min_year,\n",
    "    max=max_year,\n",
    "    value=[min_year, max_year],\n",
    "    step=1,\n",
    "    description='Selecteer interval: ',\n",
    "    continuous_update=False\n",
    ")\n",
    "\n",
    "# Output widget voor de plot weer te geven\n",
    "output = widgets.Output()\n",
    "\n",
    "progress_bar = widgets.IntProgress(\n",
    "    value=0,\n",
    "    min=0,\n",
    "    max=9,\n",
    "    step=1,\n",
    "    description='Loading: ',\n",
    "    bar_style='info',\n",
    "    orientation='horizontal'\n",
    ")\n",
    "\n",
    "# update functie wanneer year_range_slider wordt aangepast\n",
    "def update_plot(year_range):\n",
    "    with output:\n",
    "        clear_output(wait=True)\n",
    "        \n",
    "        filtered_df = joined_df.filter((year(joined_df['date']) >= year_range[0]) & (year(joined_df['date']) <= year_range[1]))\n",
    "\n",
    "        # Groepeer data per jaar en maand om gemiddelde te berekenen\n",
    "        df_plot = filtered_df.groupBy(year('date').alias('year'), month('date').alias('month')).agg({'avg(kWh)': 'avg', 'avg_temperature': 'avg'})\n",
    "\n",
    "        # Sorteren\n",
    "        df_plot = df_plot.orderBy('year', 'month')\n",
    "\n",
    "        # Extract data\n",
    "        dates = [f\"{row.year}-{row.month:02d}\" for row in df_plot.collect()]\n",
    "        avg_kWh_values = [row['avg(avg(kWh))'] for row in df_plot.collect()]\n",
    "        avg_temperature_values = [row['avg(avg_temperature)'] for row in df_plot.collect()]\n",
    "        \n",
    "        display(progress_bar)\n",
    "        \n",
    "        # Automatisch naar 9\n",
    "        for i in range(10):\n",
    "            progress_bar.value = i\n",
    "            time.sleep(0.5)  # An te passen\n",
    "\n",
    "        plt.figure(figsize=(20, 6))\n",
    "        plt.plot(dates, avg_kWh_values, label='Gemiddelde kWh', marker='o')\n",
    "        plt.plot(dates, avg_temperature_values, label='Gemiddelde temperatuur', marker='o')\n",
    "\n",
    "        plt.title('Gemiddelde kWh en Temperatuur per tijd')\n",
    "        plt.xlabel('Datum')\n",
    "        plt.ylabel('Waardes')\n",
    "        plt.legend()\n",
    "        plt.xticks(rotation=45)\n",
    "        plt.grid(True)\n",
    "        plt.show()\n",
    "        \n",
    "        progress_bar.value = 9\n",
    "\n",
    "# Connect the function to the widget's value\n",
    "widgets.interact(update_plot, year_range=year_range_slider)\n",
    "\n",
    "# Display widget en output\n",
    "display(output)\n"
   ]
  },
  {
   "cell_type": "code",
   "execution_count": null,
   "id": "ae100537",
   "metadata": {},
   "outputs": [],
   "source": [
    "\n"
   ]
  },
  {
   "cell_type": "code",
   "execution_count": null,
   "id": "76453e53",
   "metadata": {},
   "outputs": [],
   "source": [
    "#widget per jaar/month vanaf wanner,..\n",
    "#https://ipywidgets.readthedocs.io/en/stable/"
   ]
  },
  {
   "cell_type": "code",
   "execution_count": null,
   "id": "e1a6b9b5",
   "metadata": {},
   "outputs": [],
   "source": [
    "widgets.IntSlider(\n",
    "    value=7,\n",
    "    min=0,\n",
    "    max=10,\n",
    "    step=1,\n",
    "    description='Test:',\n",
    "    disabled=False,\n",
    "    continuous_update=False,\n",
    "    orientation='horizontal',\n",
    "    readout=True,\n",
    "    readout_format='d'\n",
    ")"
   ]
  },
  {
   "cell_type": "code",
   "execution_count": null,
   "id": "6d3d4edb",
   "metadata": {},
   "outputs": [],
   "source": [
    "widgets.FloatRangeSlider(\n",
    "    value=[5, 7.5],\n",
    "    min=0,\n",
    "    max=10.0,\n",
    "    step=0.1,\n",
    "    description='Test:',\n",
    "    disabled=False,\n",
    "    continuous_update=False,\n",
    "    orientation='horizontal',\n",
    "    readout=True,\n",
    "    readout_format='.1f',\n",
    ")"
   ]
  },
  {
   "cell_type": "code",
   "execution_count": null,
   "id": "b73fd8f0",
   "metadata": {},
   "outputs": [],
   "source": [
    "w = widgets.IntSlider()\n",
    "\n",
    "w.value = 100\n",
    "\n",
    "\n",
    "\n",
    "\n",
    "display(w)\n",
    "\n"
   ]
  },
  {
   "cell_type": "code",
   "execution_count": null,
   "id": "db5e2680",
   "metadata": {},
   "outputs": [],
   "source": [
    "widgets.Checkbox(\n",
    "    value=False,\n",
    "    description='Check me',\n",
    "    disabled=False,\n",
    "    indent=False\n",
    ")\n"
   ]
  },
  {
   "cell_type": "code",
   "execution_count": null,
   "id": "04140a70",
   "metadata": {},
   "outputs": [],
   "source": [
    "widgets.Dropdown(\n",
    "    options=['1', '2', '3'],\n",
    "    value='2',\n",
    "    description='Number:',\n",
    "    disabled=False,\n",
    ")"
   ]
  },
  {
   "cell_type": "code",
   "execution_count": null,
   "id": "079cf90a",
   "metadata": {},
   "outputs": [],
   "source": [
    "widgets.Dropdown(\n",
    "    options=[('One', 1), ('Two', 2), ('Three', 3)],\n",
    "    value=2,\n",
    "    description='Number:',\n",
    ")"
   ]
  },
  {
   "cell_type": "code",
   "execution_count": null,
   "id": "66f5e6bc",
   "metadata": {},
   "outputs": [],
   "source": [
    "widgets.RadioButtons(\n",
    "    options=['pepperoni', 'pineapple', 'anchovies'],\n",
    "#    value='pineapple', # Defaults to 'pineapple'\n",
    "#    layout={'width': 'max-content'}, # If the items' names are long\n",
    "    description='Pizza topping:',\n",
    "    disabled=False\n",
    ")"
   ]
  },
  {
   "cell_type": "code",
   "execution_count": null,
   "id": "b3333feb",
   "metadata": {},
   "outputs": [],
   "source": [
    "widgets.Select(\n",
    "    options=['Linux', 'Windows', 'macOS'],\n",
    "    value='macOS',\n",
    "    # rows=10,\n",
    "    description='OS:',\n",
    "    disabled=False\n",
    ")"
   ]
  },
  {
   "cell_type": "code",
   "execution_count": null,
   "id": "1020701c",
   "metadata": {},
   "outputs": [],
   "source": [
    "widgets.SelectMultiple(\n",
    "    options=['Apples', 'Oranges', 'Pears'],\n",
    "    value=['Oranges'],\n",
    "    #rows=10,\n",
    "    description='Fruits',\n",
    "    disabled=False\n",
    ")"
   ]
  },
  {
   "cell_type": "code",
   "execution_count": null,
   "id": "3b750300",
   "metadata": {},
   "outputs": [],
   "source": [
    "import datetime\n",
    "dates = [datetime.date(2015, i, 1) for i in range(1, 13)]\n",
    "options = [(i.strftime('%b'), i) for i in dates]\n",
    "widgets.SelectionRangeSlider(\n",
    "    options=options,\n",
    "    index=(0, 11),\n",
    "    description='Months (2015)',\n",
    "    disabled=False\n",
    ")"
   ]
  },
  {
   "cell_type": "code",
   "execution_count": null,
   "id": "4b6efcb6",
   "metadata": {},
   "outputs": [],
   "source": [
    "widgets.DatePicker(\n",
    "    description='Pick a Date',\n",
    "    disabled=False\n",
    ")"
   ]
  },
  {
   "cell_type": "code",
   "execution_count": null,
   "id": "46ce08ae",
   "metadata": {},
   "outputs": [],
   "source": [
    "items = [widgets.Label(str(i)) for i in range(8)]\n",
    "widgets.GridBox(items, layout=widgets.Layout(grid_template_columns=\"repeat(3, 100px)\"))"
   ]
  },
  {
   "cell_type": "code",
   "execution_count": 146,
   "id": "a42293f9",
   "metadata": {},
   "outputs": [
    {
     "name": "stdout",
     "output_type": "stream",
     "text": [
      "Correlatie tussen average Kwh en de temperatuur is: 0.6772647080391323\n"
     ]
    }
   ],
   "source": [
    "correlation_value = joined_df.stat.corr(\"avg(kWh)\", \"avg_temperature\")\n",
    "\n",
    "print(f\"Correlatie tussen average Kwh en de temperatuur is: {correlation_value}\")"
   ]
  },
  {
   "cell_type": "markdown",
   "id": "5b4c1e61",
   "metadata": {},
   "source": [
    "Men kan hier dus spreken van een redelijk sterke correlatie tussen de temperatuur en de hoeveelheid energie die opgewekt wordt. Als de temperatuur verhoogt verhoogt dus ook de hoeveelheid kWh die opgewekt wordt."
   ]
  },
  {
   "cell_type": "code",
   "execution_count": null,
   "id": "76bfb281",
   "metadata": {},
   "outputs": [],
   "source": [
    "### kan alleen matrix printen als er meerder kolommen zijn (dat je een dataframe terug krijgt, met 2 kolommen krijg je gwn een float terug)\n",
    "\"\"\"\n",
    "correlation_matrix = joined_df.stat.corr(\"avg(kWh)\", \"\",\"\",\"\", \"avg_temperature\")\n",
    "\n",
    "print(\"Correlation Matrix:\")\n",
    "correlation_matrix.show()\n",
    "\"\"\""
   ]
  },
  {
   "cell_type": "code",
   "execution_count": null,
   "id": "cf86150a",
   "metadata": {},
   "outputs": [],
   "source": [
    "# plot"
   ]
  },
  {
   "cell_type": "markdown",
   "id": "dda7f6cb",
   "metadata": {},
   "source": [
    "## ML"
   ]
  },
  {
   "cell_type": "code",
   "execution_count": 147,
   "id": "33e996c4",
   "metadata": {},
   "outputs": [
    {
     "name": "stdout",
     "output_type": "stream",
     "text": [
      "+--------+--------------------+-------------------+\n",
      "|features|            avg(kWh)|         prediction|\n",
      "+--------+--------------------+-------------------+\n",
      "|[-17.05]|                 0.0| 2.9624589339798817|\n",
      "| [-9.75]|               0.001| 12.948610541923271|\n",
      "|[-20.95]|0.004076923076923077|-2.3726083634145283|\n",
      "|  [-9.4]|0.004727272727272...| 13.427398632715077|\n",
      "| [-23.7]|               0.041| -6.134514791064433|\n",
      "| [-18.1]| 0.05960000000000001| 1.5260946616044642|\n",
      "|[-12.55]| 0.13933333333333334|  9.118305815588819|\n",
      "|  [-3.0]|              0.1434|  22.18238086433668|\n",
      "| [-9.69]|             0.17125| 13.030688500344723|\n",
      "|[-22.29]| 0.20020000000000002|-4.2056827681602975|\n",
      "|[-26.54]| 0.20020000000000002| -10.01953815634652|\n",
      "| [-6.05]| 0.22500000000000003| 18.010084644579507|\n",
      "| [-1.75]|  0.2348823529411765|  23.89233833145027|\n",
      "|[-22.79]| 0.30000000000000004| -4.889665755005737|\n",
      "| [-15.0]|  0.3338095238095239|  5.766789180046178|\n",
      "| [-2.15]|  0.4119318181818182|  23.34515194197392|\n",
      "| [-5.35]|            0.570875| 18.967660826163122|\n",
      "| [-9.65]|  0.6003999999999999| 13.085407139292357|\n",
      "| [-4.69]|  0.6543333333333332| 19.870518368799097|\n",
      "| [-12.8]|  0.7041923076923076|  8.776314322166101|\n",
      "+--------+--------------------+-------------------+\n",
      "only showing top 20 rows\n",
      "\n"
     ]
    }
   ],
   "source": [
    "from pyspark.ml.feature import VectorAssembler\n",
    "from pyspark.ml.regression import LinearRegression\n",
    "feature_columns = ['avg_temperature']\n",
    "label_column = 'avg(kWh)'\n",
    "\n",
    "# features naar vector omzetten\n",
    "assembler = VectorAssembler(inputCols=feature_columns, outputCol=\"features\")\n",
    "df_assembled = assembler.transform(joined_df)\n",
    "\n",
    "# Split\n",
    "train_data, test_data = df_assembled.randomSplit([0.8, 0.2], seed=123)\n",
    "\n",
    "# Creëer model\n",
    "lr = LinearRegression(maxIter=10, featuresCol=\"features\", labelCol=label_column)\n",
    "\n",
    "# model fitten\n",
    "lr_model = lr.fit(train_data)\n",
    "\n",
    "# voorspellingen op test data\n",
    "predictions = lr_model.transform(test_data)\n",
    "\n",
    "predictions.select(\"features\", label_column, \"prediction\").show()"
   ]
  },
  {
   "cell_type": "code",
   "execution_count": 148,
   "id": "f8eaabc9",
   "metadata": {},
   "outputs": [
    {
     "name": "stdout",
     "output_type": "stream",
     "text": [
      "R2: 0.44295704815138437\n"
     ]
    }
   ],
   "source": [
    "from pyspark.ml.evaluation import RegressionEvaluator\n",
    "evaluator = RegressionEvaluator(labelCol=label_column, predictionCol=\"prediction\", metricName=\"r2\")\n",
    "r2 = evaluator.evaluate(predictions)\n",
    "\n",
    "# R2 value\n",
    "print(f\"R2: {r2}\")"
   ]
  },
  {
   "cell_type": "markdown",
   "id": "9d6e7f3e",
   "metadata": {},
   "source": [
    "## Conclusie"
   ]
  },
  {
   "cell_type": "markdown",
   "id": "6c720b9d",
   "metadata": {},
   "source": [
    "Andere kolommen waarvan de productie zeker afhaneklijk is: \n",
    "\n",
    "----\n",
    "max visibility\n",
    "preciptation/rain/snow en vooral snow_on_ground\n",
    "solar_radiation\n",
    "sunrise-sunset\n",
    "daylight"
   ]
  }
 ],
 "metadata": {
  "kernelspec": {
   "display_name": "Python 3 (ipykernel)",
   "language": "python",
   "name": "python3"
  },
  "language_info": {
   "codemirror_mode": {
    "name": "ipython",
    "version": 3
   },
   "file_extension": ".py",
   "mimetype": "text/x-python",
   "name": "python",
   "nbconvert_exporter": "python",
   "pygments_lexer": "ipython3",
   "version": "3.9.12"
  }
 },
 "nbformat": 4,
 "nbformat_minor": 5
}
