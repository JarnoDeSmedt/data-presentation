{
 "cells": [
  {
   "cell_type": "markdown",
   "id": "b289e248",
   "metadata": {},
   "source": [
    "# TAAK Data Prasentation: Zonne-energie op basis van het weer\n",
    "In dit datavisualisatie project wordt de correlatie tussen de productie van elektrischiteit met zonnepanelen en het weer op dat moment onderzocht. Op het einde wordt er een conclusie getrokken waarin dit zal worden aangetoond of weerlegd. Er wordt met Spark (PySpark) gewerkt in een Jupyter Notebook om de data te preprocessen en te analyseren.\n",
    "\n",
    "De data is beperkt tot Canada gezien ik geen andere kwalitatieve data kon vinden waar ook kwalitatieve historische weerdata voor te vinden was.\n",
    "\n",
    "\n",
    "TODO dichtsbijzijnd typen@@@@@@@\n",
    "en eventueel visualiseren met folium waar data vandaan komt!!!@@@@\n",
    "\n",
    "De datasets zijn terug te vinden op onderstaande links.\n",
    "- weer data: https://calgary.weatherstats.ca/download.html\n",
    "https://climatedata.ca/download/\n",
    "\n",
    "b optie data voor dit project: https://www.kaggle.com/datasets/anikannal/solar-power-generation-data/data\n",
    "- solar production: https://www.kaggle.com/datasets/ivnlee/solar-energy-production"
   ]
  },
  {
   "cell_type": "code",
   "execution_count": 40,
   "id": "a4c633b3",
   "metadata": {
    "scrolled": false
   },
   "outputs": [
    {
     "data": {
      "text/html": [
       "<div style=\"width:100%;\"><div style=\"position:relative;width:100%;height:0;padding-bottom:60%;\"><span style=\"color:#565656\">Make this Notebook Trusted to load map: File -> Trust Notebook</span><iframe srcdoc=\"&lt;!DOCTYPE html&gt;\n",
       "&lt;html&gt;\n",
       "&lt;head&gt;\n",
       "    \n",
       "    &lt;meta http-equiv=&quot;content-type&quot; content=&quot;text/html; charset=UTF-8&quot; /&gt;\n",
       "    \n",
       "        &lt;script&gt;\n",
       "            L_NO_TOUCH = false;\n",
       "            L_DISABLE_3D = false;\n",
       "        &lt;/script&gt;\n",
       "    \n",
       "    &lt;style&gt;html, body {width: 100%;height: 100%;margin: 0;padding: 0;}&lt;/style&gt;\n",
       "    &lt;style&gt;#map {position:absolute;top:0;bottom:0;right:0;left:0;}&lt;/style&gt;\n",
       "    &lt;script src=&quot;https://cdn.jsdelivr.net/npm/leaflet@1.9.3/dist/leaflet.js&quot;&gt;&lt;/script&gt;\n",
       "    &lt;script src=&quot;https://code.jquery.com/jquery-3.7.1.min.js&quot;&gt;&lt;/script&gt;\n",
       "    &lt;script src=&quot;https://cdn.jsdelivr.net/npm/bootstrap@5.2.2/dist/js/bootstrap.bundle.min.js&quot;&gt;&lt;/script&gt;\n",
       "    &lt;script src=&quot;https://cdnjs.cloudflare.com/ajax/libs/Leaflet.awesome-markers/2.0.2/leaflet.awesome-markers.js&quot;&gt;&lt;/script&gt;\n",
       "    &lt;link rel=&quot;stylesheet&quot; href=&quot;https://cdn.jsdelivr.net/npm/leaflet@1.9.3/dist/leaflet.css&quot;/&gt;\n",
       "    &lt;link rel=&quot;stylesheet&quot; href=&quot;https://cdn.jsdelivr.net/npm/bootstrap@5.2.2/dist/css/bootstrap.min.css&quot;/&gt;\n",
       "    &lt;link rel=&quot;stylesheet&quot; href=&quot;https://netdna.bootstrapcdn.com/bootstrap/3.0.0/css/bootstrap.min.css&quot;/&gt;\n",
       "    &lt;link rel=&quot;stylesheet&quot; href=&quot;https://cdn.jsdelivr.net/npm/@fortawesome/fontawesome-free@6.2.0/css/all.min.css&quot;/&gt;\n",
       "    &lt;link rel=&quot;stylesheet&quot; href=&quot;https://cdnjs.cloudflare.com/ajax/libs/Leaflet.awesome-markers/2.0.2/leaflet.awesome-markers.css&quot;/&gt;\n",
       "    &lt;link rel=&quot;stylesheet&quot; href=&quot;https://cdn.jsdelivr.net/gh/python-visualization/folium/folium/templates/leaflet.awesome.rotate.min.css&quot;/&gt;\n",
       "    \n",
       "            &lt;meta name=&quot;viewport&quot; content=&quot;width=device-width,\n",
       "                initial-scale=1.0, maximum-scale=1.0, user-scalable=no&quot; /&gt;\n",
       "            &lt;style&gt;\n",
       "                #map_50df957c1ffd002ec7302fc147409b35 {\n",
       "                    position: relative;\n",
       "                    width: 100.0%;\n",
       "                    height: 100.0%;\n",
       "                    left: 0.0%;\n",
       "                    top: 0.0%;\n",
       "                }\n",
       "                .leaflet-container { font-size: 1rem; }\n",
       "            &lt;/style&gt;\n",
       "        \n",
       "&lt;/head&gt;\n",
       "&lt;body&gt;\n",
       "    \n",
       "    \n",
       "            &lt;div class=&quot;folium-map&quot; id=&quot;map_50df957c1ffd002ec7302fc147409b35&quot; &gt;&lt;/div&gt;\n",
       "        \n",
       "&lt;/body&gt;\n",
       "&lt;script&gt;\n",
       "    \n",
       "    \n",
       "            var map_50df957c1ffd002ec7302fc147409b35 = L.map(\n",
       "                &quot;map_50df957c1ffd002ec7302fc147409b35&quot;,\n",
       "                {\n",
       "                    center: [51.1, -114.0],\n",
       "                    crs: L.CRS.EPSG3857,\n",
       "                    zoom: 10,\n",
       "                    zoomControl: true,\n",
       "                    preferCanvas: false,\n",
       "                }\n",
       "            );\n",
       "\n",
       "            \n",
       "\n",
       "        \n",
       "    \n",
       "            var tile_layer_a77165b117904e081c7f8adf78b7203b = L.tileLayer(\n",
       "                &quot;https://tile.openstreetmap.org/{z}/{x}/{y}.png&quot;,\n",
       "                {&quot;attribution&quot;: &quot;\\u0026copy; \\u003ca href=\\&quot;https://www.openstreetmap.org/copyright\\&quot;\\u003eOpenStreetMap\\u003c/a\\u003e contributors&quot;, &quot;detectRetina&quot;: false, &quot;maxNativeZoom&quot;: 19, &quot;maxZoom&quot;: 19, &quot;minZoom&quot;: 0, &quot;noWrap&quot;: false, &quot;opacity&quot;: 1, &quot;subdomains&quot;: &quot;abc&quot;, &quot;tms&quot;: false}\n",
       "            );\n",
       "        \n",
       "    \n",
       "            tile_layer_a77165b117904e081c7f8adf78b7203b.addTo(map_50df957c1ffd002ec7302fc147409b35);\n",
       "        \n",
       "    \n",
       "            var marker_04d85018fda01e4f7c4673fc938fd9ff = L.marker(\n",
       "                [51.157807, -114.213362],\n",
       "                {}\n",
       "            ).addTo(map_50df957c1ffd002ec7302fc147409b35);\n",
       "        \n",
       "    \n",
       "            var icon_074d7fd7ff609107b716a6d4d78ed701 = L.AwesomeMarkers.icon(\n",
       "                {&quot;extraClasses&quot;: &quot;fa-rotate-180&quot;, &quot;icon&quot;: &quot;bolt&quot;, &quot;iconColor&quot;: &quot;white&quot;, &quot;markerColor&quot;: &quot;green&quot;, &quot;prefix&quot;: &quot;fa&quot;}\n",
       "            );\n",
       "            marker_04d85018fda01e4f7c4673fc938fd9ff.setIcon(icon_074d7fd7ff609107b716a6d4d78ed701);\n",
       "        \n",
       "    \n",
       "        var popup_45f9015041bc8129afca67fdfcfff421 = L.popup({&quot;maxWidth&quot;: &quot;100%&quot;});\n",
       "\n",
       "        \n",
       "            \n",
       "                var html_0fa08288e6c279a39b1b75fcc5c3831b = $(`&lt;div id=&quot;html_0fa08288e6c279a39b1b75fcc5c3831b&quot; style=&quot;width: 100.0%; height: 100.0%;&quot;&gt;Mt. Hood Meadows&lt;/div&gt;`)[0];\n",
       "                popup_45f9015041bc8129afca67fdfcfff421.setContent(html_0fa08288e6c279a39b1b75fcc5c3831b);\n",
       "            \n",
       "        \n",
       "\n",
       "        marker_04d85018fda01e4f7c4673fc938fd9ff.bindPopup(popup_45f9015041bc8129afca67fdfcfff421)\n",
       "        ;\n",
       "\n",
       "        \n",
       "    \n",
       "    \n",
       "            marker_04d85018fda01e4f7c4673fc938fd9ff.bindTooltip(\n",
       "                `&lt;div&gt;\n",
       "                     Click me!\n",
       "                 &lt;/div&gt;`,\n",
       "                {&quot;sticky&quot;: true}\n",
       "            );\n",
       "        \n",
       "    \n",
       "            var marker_27d87eb066c04830fe7f49a45b174b80 = L.marker(\n",
       "                [50.95636, -113.983902],\n",
       "                {}\n",
       "            ).addTo(map_50df957c1ffd002ec7302fc147409b35);\n",
       "        \n",
       "    \n",
       "            var icon_447622df71ed5e5df32316e44e08d77e = L.AwesomeMarkers.icon(\n",
       "                {&quot;extraClasses&quot;: &quot;fa-rotate-180&quot;, &quot;icon&quot;: &quot;sun&quot;, &quot;iconColor&quot;: &quot;white&quot;, &quot;markerColor&quot;: &quot;orange&quot;, &quot;prefix&quot;: &quot;fa&quot;}\n",
       "            );\n",
       "            marker_27d87eb066c04830fe7f49a45b174b80.setIcon(icon_447622df71ed5e5df32316e44e08d77e);\n",
       "        \n",
       "    \n",
       "        var popup_1f7046902970f79de66ac84e51f2598d = L.popup({&quot;maxWidth&quot;: &quot;100%&quot;});\n",
       "\n",
       "        \n",
       "            \n",
       "                var html_592369a6b409c8bb467dd639b47be7b7 = $(`&lt;div id=&quot;html_592369a6b409c8bb467dd639b47be7b7&quot; style=&quot;width: 100.0%; height: 100.0%;&quot;&gt;Timberline Lodge&lt;/div&gt;`)[0];\n",
       "                popup_1f7046902970f79de66ac84e51f2598d.setContent(html_592369a6b409c8bb467dd639b47be7b7);\n",
       "            \n",
       "        \n",
       "\n",
       "        marker_27d87eb066c04830fe7f49a45b174b80.bindPopup(popup_1f7046902970f79de66ac84e51f2598d)\n",
       "        ;\n",
       "\n",
       "        \n",
       "    \n",
       "    \n",
       "            marker_27d87eb066c04830fe7f49a45b174b80.bindTooltip(\n",
       "                `&lt;div&gt;\n",
       "                     Click me!\n",
       "                 &lt;/div&gt;`,\n",
       "                {&quot;sticky&quot;: true}\n",
       "            );\n",
       "        \n",
       "    \n",
       "            var poly_line_2b2b9148f66ce984062c71e6ccf1183f = L.polyline(\n",
       "                [[50.95636, -113.983902], [51.157807, -114.213362]],\n",
       "                {&quot;bubblingMouseEvents&quot;: true, &quot;color&quot;: &quot;green&quot;, &quot;dashArray&quot;: null, &quot;dashOffset&quot;: null, &quot;fill&quot;: false, &quot;fillColor&quot;: &quot;green&quot;, &quot;fillOpacity&quot;: 0.2, &quot;fillRule&quot;: &quot;evenodd&quot;, &quot;lineCap&quot;: &quot;round&quot;, &quot;lineJoin&quot;: &quot;round&quot;, &quot;noClip&quot;: false, &quot;opacity&quot;: 1.0, &quot;smoothFactor&quot;: 1.0, &quot;stroke&quot;: true, &quot;weight&quot;: 5}\n",
       "            ).addTo(map_50df957c1ffd002ec7302fc147409b35);\n",
       "        \n",
       "    \n",
       "            poly_line_2b2b9148f66ce984062c71e6ccf1183f.bindTooltip(\n",
       "                `&lt;div&gt;\n",
       "                     27.59\n",
       "                 &lt;/div&gt;`,\n",
       "                {&quot;sticky&quot;: true}\n",
       "            );\n",
       "        \n",
       "&lt;/script&gt;\n",
       "&lt;/html&gt;\" style=\"position:absolute;width:100%;height:100%;left:0;top:0;border:none !important;\" allowfullscreen webkitallowfullscreen mozallowfullscreen></iframe></div></div>"
      ],
      "text/plain": [
       "<folium.folium.Map at 0x1ed013f7b50>"
      ]
     },
     "execution_count": 40,
     "metadata": {},
     "output_type": "execute_result"
    }
   ],
   "source": [
    "import folium \n",
    "import geopy.distance\n",
    "import numpy as np\n",
    "\n",
    "lat_calgary_station = 51.157807\n",
    "lon_calgary_station = -114.213362\n",
    "lat_solar_park = 50.956360\n",
    "lon_solar_park = -113.983902\n",
    "\n",
    "solar_loc = (lat_solar_park,lon_solar_park)\n",
    "weather_loc = (lat_calgary_station,lon_calgary_station)\n",
    "\n",
    "m = folium.Map([51.1, -114.0], zoom_start=10)\n",
    "\n",
    "solar = {\"prefix\": \"fa\", \"color\": \"green\", \"icon\": \"bolt\"}\n",
    "weather = {\"prefix\": \"fa\", \"color\": \"orange\", \"icon\": \"sun\"}\n",
    "\n",
    "angle = 180\n",
    "folium.Marker(\n",
    "    location=[lat_calgary_station, lon_calgary_station],\n",
    "    tooltip=\"Click me!\",\n",
    "    popup=\"Mt. Hood Meadows\",\n",
    "    icon=folium.Icon(angle=angle, **solar),\n",
    ").add_to(m)\n",
    "\n",
    "folium.Marker(\n",
    "    location=[lat_solar_park, lon_solar_park],\n",
    "    tooltip=\"Click me!\",\n",
    "    popup=\"Timberline Lodge\",\n",
    "    icon=folium.Icon(angle=angle, **weather),\n",
    ").add_to(m)\n",
    "\n",
    "# vogelvlucht\n",
    "folium.PolyLine(\n",
    "    locations=[solar_loc, weather_loc],\n",
    "    color='green',\n",
    "    weight=5,\n",
    "    tooltip=np.round(geopy.distance.geodesic(solar_loc, weather_loc).km, 2)\n",
    ").add_to(m)\n",
    "\n",
    "m\n"
   ]
  },
  {
   "cell_type": "markdown",
   "id": "7c71baf8",
   "metadata": {},
   "source": [
    "## Imports en Spark innitialiseren"
   ]
  },
  {
   "cell_type": "code",
   "execution_count": 41,
   "id": "7dc6808e",
   "metadata": {},
   "outputs": [],
   "source": [
    "from pyspark.sql import SparkSession, SQLContext\n",
    "from pyspark.sql.types import StructType, StructField, IntegerType, StringType\n",
    "from pyspark.sql.functions import col, unix_timestamp, from_unixtime, to_date, month, expr, when\n",
    "import matplotlib.pyplot as plt\n",
    "import seaborn as sns\n",
    "import ipywidgets as widgets\n",
    "import matplotlib.pyplot as plt\n",
    "from pyspark.sql.functions import year, month\n",
    "import ipywidgets as widgets\n",
    "from IPython.display import display, clear_output\n",
    "from IPython.display import Javascript, display\n",
    "from datetime import datetime\n",
    "import time"
   ]
  },
  {
   "cell_type": "code",
   "execution_count": 42,
   "id": "29735408",
   "metadata": {},
   "outputs": [],
   "source": [
    "spark = SparkSession.builder.master(\"local\").appName(\"DataPresentationTaak\").getOrCreate()"
   ]
  },
  {
   "cell_type": "code",
   "execution_count": 43,
   "id": "4a7c554b",
   "metadata": {},
   "outputs": [
    {
     "data": {
      "text/html": [
       "\n",
       "            <div>\n",
       "                <p><b>SparkSession - in-memory</b></p>\n",
       "                \n",
       "        <div>\n",
       "            <p><b>SparkContext</b></p>\n",
       "\n",
       "            <p><a href=\"http://localhost:4041\">Spark UI</a></p>\n",
       "\n",
       "            <dl>\n",
       "              <dt>Version</dt>\n",
       "                <dd><code>v3.5.0</code></dd>\n",
       "              <dt>Master</dt>\n",
       "                <dd><code>local</code></dd>\n",
       "              <dt>AppName</dt>\n",
       "                <dd><code>DataPresentationTaak</code></dd>\n",
       "            </dl>\n",
       "        </div>\n",
       "        \n",
       "            </div>\n",
       "        "
      ],
      "text/plain": [
       "<pyspark.sql.session.SparkSession at 0x1ed03a63fa0>"
      ]
     },
     "execution_count": 43,
     "metadata": {},
     "output_type": "execute_result"
    }
   ],
   "source": [
    "spark"
   ]
  },
  {
   "cell_type": "markdown",
   "id": "95d52f9a",
   "metadata": {},
   "source": [
    "## 1 Data inladen"
   ]
  },
  {
   "cell_type": "code",
   "execution_count": 44,
   "id": "e70a7907",
   "metadata": {},
   "outputs": [],
   "source": [
    "data_energy = \"../SolarEnergyData/Solar_Energy_Production.csv\"\n",
    "data_weather = \"../SolarEnergyData/weatherstats_calgary_dailySince2015.csv\"\n",
    "\n",
    "df_energy = spark.read.format(\"csv\").option(\"header\",\"true\").option(\"inferSchema\",\"true\").option(\"mode\",\"failfast\").load(data_energy)\n",
    "df_weather = spark.read.format(\"csv\").option(\"header\",\"true\").option(\"inferSchema\",\"true\").option(\"mode\",\"failfast\").load(data_weather)"
   ]
  },
  {
   "cell_type": "markdown",
   "id": "ad98625c",
   "metadata": {},
   "source": [
    "## 2 Data exploratory "
   ]
  },
  {
   "cell_type": "code",
   "execution_count": 45,
   "id": "c0bcbf5f",
   "metadata": {},
   "outputs": [
    {
     "name": "stdout",
     "output_type": "stream",
     "text": [
      "root\n",
      " |-- name: string (nullable = true)\n",
      " |-- id: integer (nullable = true)\n",
      " |-- address: string (nullable = true)\n",
      " |-- date: string (nullable = true)\n",
      " |-- kWh: double (nullable = true)\n",
      " |-- public_url: string (nullable = true)\n",
      " |-- installationDate: string (nullable = true)\n",
      " |-- uid: string (nullable = true)\n",
      "\n"
     ]
    }
   ],
   "source": [
    "#df_energy.show()\n",
    "df_energy.printSchema()"
   ]
  },
  {
   "cell_type": "code",
   "execution_count": 46,
   "id": "f83f99d8",
   "metadata": {},
   "outputs": [
    {
     "name": "stdout",
     "output_type": "stream",
     "text": [
      "root\n",
      " |-- date: date (nullable = true)\n",
      " |-- max_temperature: double (nullable = true)\n",
      " |-- avg_hourly_temperature: double (nullable = true)\n",
      " |-- avg_temperature: double (nullable = true)\n",
      " |-- min_temperature: double (nullable = true)\n",
      " |-- max_humidex: integer (nullable = true)\n",
      " |-- min_windchill: integer (nullable = true)\n",
      " |-- max_relative_humidity: integer (nullable = true)\n",
      " |-- avg_hourly_relative_humidity: double (nullable = true)\n",
      " |-- avg_relative_humidity: double (nullable = true)\n",
      " |-- min_relative_humidity: integer (nullable = true)\n",
      " |-- max_dew_point: double (nullable = true)\n",
      " |-- avg_hourly_dew_point: double (nullable = true)\n",
      " |-- avg_dew_point: double (nullable = true)\n",
      " |-- min_dew_point: double (nullable = true)\n",
      " |-- max_wind_speed: integer (nullable = true)\n",
      " |-- avg_hourly_wind_speed: double (nullable = true)\n",
      " |-- avg_wind_speed: double (nullable = true)\n",
      " |-- min_wind_speed: integer (nullable = true)\n",
      " |-- max_wind_gust: integer (nullable = true)\n",
      " |-- wind_gust_dir_10s: integer (nullable = true)\n",
      " |-- max_pressure_sea: double (nullable = true)\n",
      " |-- avg_hourly_pressure_sea: double (nullable = true)\n",
      " |-- avg_pressure_sea: double (nullable = true)\n",
      " |-- min_pressure_sea: double (nullable = true)\n",
      " |-- max_pressure_station: double (nullable = true)\n",
      " |-- avg_hourly_pressure_station: double (nullable = true)\n",
      " |-- avg_pressure_station: double (nullable = true)\n",
      " |-- min_pressure_station: double (nullable = true)\n",
      " |-- max_visibility: integer (nullable = true)\n",
      " |-- avg_hourly_visibility: double (nullable = true)\n",
      " |-- avg_visibility: integer (nullable = true)\n",
      " |-- min_visibility: integer (nullable = true)\n",
      " |-- max_health_index: double (nullable = true)\n",
      " |-- avg_hourly_health_index: double (nullable = true)\n",
      " |-- avg_health_index: double (nullable = true)\n",
      " |-- min_health_index: double (nullable = true)\n",
      " |-- heatdegdays: double (nullable = true)\n",
      " |-- cooldegdays: double (nullable = true)\n",
      " |-- growdegdays_5: double (nullable = true)\n",
      " |-- growdegdays_7: double (nullable = true)\n",
      " |-- growdegdays_10: double (nullable = true)\n",
      " |-- precipitation: double (nullable = true)\n",
      " |-- rain: double (nullable = true)\n",
      " |-- snow: double (nullable = true)\n",
      " |-- snow_on_ground: integer (nullable = true)\n",
      " |-- sunrise_hhmm: timestamp (nullable = true)\n",
      " |-- sunrise_unixtime: integer (nullable = true)\n",
      " |-- sunrise_f: double (nullable = true)\n",
      " |-- sunset_hhmm: timestamp (nullable = true)\n",
      " |-- sunset_unixtime: integer (nullable = true)\n",
      " |-- sunset_f: double (nullable = true)\n",
      " |-- daylight: double (nullable = true)\n",
      " |-- min_uv_forecast: integer (nullable = true)\n",
      " |-- max_uv_forecast: integer (nullable = true)\n",
      " |-- min_high_temperature_forecast: integer (nullable = true)\n",
      " |-- max_high_temperature_forecast: integer (nullable = true)\n",
      " |-- min_low_temperature_forecast: integer (nullable = true)\n",
      " |-- max_low_temperature_forecast: integer (nullable = true)\n",
      " |-- solar_radiation: integer (nullable = true)\n",
      " |-- max_cloud_cover_4: string (nullable = true)\n",
      " |-- avg_hourly_cloud_cover_4: string (nullable = true)\n",
      " |-- avg_cloud_cover_4: string (nullable = true)\n",
      " |-- min_cloud_cover_4: string (nullable = true)\n",
      " |-- max_cloud_cover_8: integer (nullable = true)\n",
      " |-- avg_hourly_cloud_cover_8: double (nullable = true)\n",
      " |-- avg_cloud_cover_8: double (nullable = true)\n",
      " |-- min_cloud_cover_8: integer (nullable = true)\n",
      " |-- max_cloud_cover_10: string (nullable = true)\n",
      " |-- avg_hourly_cloud_cover_10: string (nullable = true)\n",
      " |-- avg_cloud_cover_10: string (nullable = true)\n",
      " |-- min_cloud_cover_10: string (nullable = true)\n",
      "\n"
     ]
    }
   ],
   "source": [
    "#df_weather.show()\n",
    "df_weather.printSchema()"
   ]
  },
  {
   "cell_type": "code",
   "execution_count": 47,
   "id": "8174adce",
   "metadata": {},
   "outputs": [
    {
     "data": {
      "text/plain": [
       "258423"
      ]
     },
     "execution_count": 47,
     "metadata": {},
     "output_type": "execute_result"
    }
   ],
   "source": [
    "df_energy.count()"
   ]
  },
  {
   "cell_type": "code",
   "execution_count": 48,
   "id": "b52d8ffc",
   "metadata": {},
   "outputs": [
    {
     "data": {
      "text/plain": [
       "10000"
      ]
     },
     "execution_count": 48,
     "metadata": {},
     "output_type": "execute_result"
    }
   ],
   "source": [
    "df_weather.count()"
   ]
  },
  {
   "cell_type": "markdown",
   "id": "06df050f",
   "metadata": {},
   "source": [
    "De energie-productie (df_energy_df) dataset bevat 258423 records en de weer-dataset (df_weather) bevat er 10000. Bij 'df_energy' gaan we algemener kijken en groeperen per dag, omdat er helaas geen data per uur terug te vinden was over deze periode. Bij 'df_weather' vallen er nog een heel deel records af die buiten het bereik van 'df_energy' liggen. Zie Cleaning stap 3"
   ]
  },
  {
   "cell_type": "markdown",
   "id": "dad174ea",
   "metadata": {},
   "source": [
    "### checken op nullwaardes (missing data)"
   ]
  },
  {
   "cell_type": "code",
   "execution_count": 49,
   "id": "bd6c5458",
   "metadata": {},
   "outputs": [
    {
     "name": "stdout",
     "output_type": "stream",
     "text": [
      "Energy dataset bevat geen kolommen met nullwaardes!\n"
     ]
    }
   ],
   "source": [
    "null_columns_e = []\n",
    "\n",
    "for column in df_energy.columns:\n",
    "    if df_energy.filter(col(column).isNull()).count() > 0:\n",
    "        null_columns_e.append(column)\n",
    "\n",
    "if len(null_columns_e) == 0:\n",
    "    print(\"Energy dataset bevat geen kolommen met nullwaardes!\")\n",
    "else:\n",
    "    print(\"Energy dataset bevat kolommen met nullwaardes, namelijk de kolommen:\\n\")\n",
    "    for column_name in null_columns:\n",
    "        print(column_name)"
   ]
  },
  {
   "cell_type": "code",
   "execution_count": 50,
   "id": "bd34c758",
   "metadata": {},
   "outputs": [
    {
     "name": "stdout",
     "output_type": "stream",
     "text": [
      "Weather dataset bevat kolommen met nullwaardes, namelijk de kolommen:\n",
      "\n",
      "max_humidex\n",
      "min_windchill\n",
      "max_wind_gust\n",
      "wind_gust_dir_10s\n",
      "max_health_index\n",
      "avg_hourly_health_index\n",
      "avg_health_index\n",
      "min_health_index\n",
      "precipitation\n",
      "rain\n",
      "snow\n",
      "snow_on_ground\n",
      "sunrise_hhmm\n",
      "sunrise_unixtime\n",
      "sunrise_f\n",
      "sunset_hhmm\n",
      "sunset_unixtime\n",
      "sunset_f\n",
      "daylight\n",
      "min_uv_forecast\n",
      "max_uv_forecast\n",
      "min_high_temperature_forecast\n",
      "max_high_temperature_forecast\n",
      "min_low_temperature_forecast\n",
      "max_low_temperature_forecast\n",
      "solar_radiation\n",
      "max_cloud_cover_4\n",
      "avg_hourly_cloud_cover_4\n",
      "avg_cloud_cover_4\n",
      "min_cloud_cover_4\n",
      "max_cloud_cover_8\n",
      "avg_hourly_cloud_cover_8\n",
      "avg_cloud_cover_8\n",
      "min_cloud_cover_8\n",
      "max_cloud_cover_10\n",
      "avg_hourly_cloud_cover_10\n",
      "avg_cloud_cover_10\n",
      "min_cloud_cover_10\n"
     ]
    }
   ],
   "source": [
    "null_columns_w = []\n",
    "\n",
    "for column in df_weather.columns:\n",
    "    if df_weather.filter(col(column).isNull()).count() > 0:\n",
    "        null_columns_w.append(column)\n",
    "        \n",
    "if len(null_columns_w) == 0:\n",
    "    print(\"Weather dataset bevat geen kolommen met nullwaardes!\")\n",
    "else:\n",
    "    print(\"Weather dataset bevat kolommen met nullwaardes, namelijk de kolommen:\\n\")\n",
    "    for column_name in null_columns_w:\n",
    "          print(column_name)"
   ]
  },
  {
   "cell_type": "markdown",
   "id": "37fb6146",
   "metadata": {},
   "source": [
    "Gelukkig zijn dit geen kolommen die we later nodig hebben dus vormt het niet meteen een probleem. Er moet dus niet aan `imputation` gedaan worden, d.w.z nullwaardes opvullen met:\n",
    "\n",
    "1. Voor numerieke data:\n",
    "- Mean imputation: het gemiddelde van de kolom\n",
    "- Median imputation: de mediaan van de kolom \n",
    "- Mode imputation: de mode van de kolom\n",
    "\n",
    "2. Voor categorische data:\n",
    "- Frequent category imputation: de waarde die het meest voorkomt in de kolom"
   ]
  },
  {
   "cell_type": "markdown",
   "id": "3d68a7ae",
   "metadata": {},
   "source": [
    "### checken op outliers"
   ]
  },
  {
   "cell_type": "code",
   "execution_count": 67,
   "id": "14efc8f3",
   "metadata": {},
   "outputs": [
    {
     "data": {
      "image/png": "[encoded data removed]",
      "text/plain": [
       "<Figure size 864x576 with 2 Axes>"
      ]
     },
     "metadata": {
      "needs_background": "light"
     },
     "output_type": "display_data"
    }
   ],
   "source": [
    "# TODO\n",
    "# bespreken\n",
    "\n",
    "df_weather_bp = df_weather.select(\"avg_temperature\").toPandas()\n",
    "df_energy_bp = df_energy.select(\"kWh\").toPandas()\n",
    "\n",
    "plt.figure(figsize=(12, 8))\n",
    "\n",
    "plt.subplot(2, 1, 1)\n",
    "sns.boxplot(x=df_weather_bp[\"avg_temperature\"]).set_title(\"Box Plot voor avg_temperature uit de weather dataframe\")\n",
    "\n",
    "plt.subplot(3, 1, 3)\n",
    "sns.boxplot(x=df_energy_bp[\"kWh\"]).set_title(\"Box Plot voor kWh uit de energy dataframe\")\n",
    "\n",
    "plt.show()\n",
    "\n",
    "\n"
   ]
  },
  {
   "cell_type": "markdown",
   "id": "d64acd3d",
   "metadata": {},
   "source": [
    "### verdeling temperatuur"
   ]
  },
  {
   "cell_type": "code",
   "execution_count": 12,
   "id": "fa3d3e21",
   "metadata": {},
   "outputs": [
    {
     "data": {
      "text/plain": [
       "\"\\ncolumn_data = df_weather.select('avg_temperature').rdd.flatMap(lambda x: x).collect()\\n\\n# Plotting the histogram\\nplt.figure(figsize=(10, 6))\\nplt.hist(column_data, bins=20, color='blue', edgecolor='black', alpha=0.7)\\n\\n# Formatting\\nplt.title('Histogram of Column Name')\\nplt.xlabel('Values')\\nplt.ylabel('Frequency')\\nplt.grid(True)\\nplt.show()\\n\\n\\n#----\\n\\n\\nfrom pyspark_dist_explore import hist\\nimport matplotlib.pyplot as plt\\n\\nfig, ax = plt.subplots()\\nhist(ax, df_weather.select('avg_temperature'), bins = 20, color=['red'])\\n\""
      ]
     },
     "execution_count": 12,
     "metadata": {},
     "output_type": "execute_result"
    }
   ],
   "source": [
    "# ik heb het uiteindelijkj met .ToPandas() gedaan om te plotten want ik kreeg een \"python mismatching 3.9 3.11\" error \n",
    "# bij df_weather.select('avg_temperature').rdd.flatMap(lambda x: x).collect() \n",
    "\n",
    "\"\"\"\n",
    "column_data = df_weather.select('avg_temperature').rdd.flatMap(lambda x: x).collect()\n",
    "\n",
    "# Plotting the histogram\n",
    "plt.figure(figsize=(10, 6))\n",
    "plt.hist(column_data, bins=20, color='blue', edgecolor='black', alpha=0.7)\n",
    "\n",
    "# Formatting\n",
    "plt.title('Histogram of Column Name')\n",
    "plt.xlabel('Values')\n",
    "plt.ylabel('Frequency')\n",
    "plt.grid(True)\n",
    "plt.show()\n",
    "\n",
    "\n",
    "#----\n",
    "\n",
    "\n",
    "from pyspark_dist_explore import hist\n",
    "import matplotlib.pyplot as plt\n",
    "\n",
    "fig, ax = plt.subplots()\n",
    "hist(ax, df_weather.select('avg_temperature'), bins = 20, color=['red'])\n",
    "\"\"\"\n",
    "\n",
    "# error Python in worker has different version (3, 11) than that in driver 3.9, PySpark cannot run with different minor versions.\n",
    "# Please check environment variables PYSPARK_PYTHON and PYSPARK_DRIVER_PYTHON are correctly set."
   ]
  },
  {
   "cell_type": "code",
   "execution_count": 13,
   "id": "1965dd7d",
   "metadata": {},
   "outputs": [
    {
     "data": {
      "image/png": "[encoded data removed]",
      "text/plain": [
       "<Figure size 720x432 with 1 Axes>"
      ]
     },
     "metadata": {
      "needs_background": "light"
     },
     "output_type": "display_data"
    }
   ],
   "source": [
    "column_data = df_weather.select('avg_temperature').toPandas()\n",
    "\n",
    "plt.figure(figsize=(10, 6))\n",
    "plt.hist(column_data['avg_temperature'], bins=20, color='blue', edgecolor='black', alpha=0.7)\n",
    "\n",
    "plt.title('Histogram of avg_temperature')\n",
    "plt.xlabel('Values')\n",
    "plt.ylabel('Frequency')\n",
    "plt.grid(True)\n",
    "plt.show()"
   ]
  },
  {
   "cell_type": "markdown",
   "id": "f12e108c",
   "metadata": {},
   "source": [
    "TODO # uitleg histogram..."
   ]
  },
  {
   "cell_type": "markdown",
   "id": "b6deb69b",
   "metadata": {},
   "source": [
    "### verdeling opwekking zonne-energie"
   ]
  },
  {
   "cell_type": "code",
   "execution_count": 14,
   "id": "dfae0865",
   "metadata": {},
   "outputs": [
    {
     "data": {
      "image/png": "[encoded data removed]",
      "text/plain": [
       "<Figure size 720x432 with 1 Axes>"
      ]
     },
     "metadata": {
      "needs_background": "light"
     },
     "output_type": "display_data"
    }
   ],
   "source": [
    "column_data = df_energy.select('kWh').toPandas()\n",
    "\n",
    "plt.figure(figsize=(10, 6))\n",
    "plt.hist(column_data['kWh'], bins=20, color='blue', edgecolor='black', alpha=0.7)\n",
    "\n",
    "plt.title('Histogram of kWh')\n",
    "plt.xlabel('Values')\n",
    "plt.ylabel('Frequency')\n",
    "plt.grid(True)\n",
    "plt.show()"
   ]
  },
  {
   "cell_type": "markdown",
   "id": "563749f4",
   "metadata": {},
   "source": [
    "TODO # uitleg histogram..."
   ]
  },
  {
   "cell_type": "markdown",
   "id": "17afdd3f",
   "metadata": {},
   "source": [
    "## 3 cleaning & preprocessing"
   ]
  },
  {
   "cell_type": "markdown",
   "id": "749ae122",
   "metadata": {},
   "source": [
    "### date kolom aanpassen"
   ]
  },
  {
   "cell_type": "code",
   "execution_count": 15,
   "id": "c16a79ca",
   "metadata": {},
   "outputs": [
    {
     "name": "stdout",
     "output_type": "stream",
     "text": [
      "+--------------------+\n",
      "|                date|\n",
      "+--------------------+\n",
      "|2015/09/01 02:30:...|\n",
      "|2015/09/01 03:30:...|\n",
      "|2015/09/01 04:30:...|\n",
      "|2015/09/01 05:30:...|\n",
      "|2015/09/01 06:30:...|\n",
      "|2015/09/01 07:30:...|\n",
      "|2015/09/01 08:30:...|\n",
      "|2015/09/01 09:30:...|\n",
      "|2015/09/01 10:30:...|\n",
      "|2015/09/01 11:30:...|\n",
      "|2015/09/02 01:30:...|\n",
      "|2015/09/02 01:30:...|\n",
      "|2015/09/02 02:30:...|\n",
      "|2015/09/02 02:30:...|\n",
      "|2015/09/02 03:30:...|\n",
      "|2015/09/02 04:30:...|\n",
      "|2015/09/02 05:30:...|\n",
      "|2015/09/02 06:30:...|\n",
      "|2015/09/02 06:30:...|\n",
      "|2015/09/02 07:30:...|\n",
      "+--------------------+\n",
      "only showing top 20 rows\n",
      "\n"
     ]
    }
   ],
   "source": [
    "df_energy.select(\"date\").orderBy(\"date\").show()"
   ]
  },
  {
   "cell_type": "markdown",
   "id": "8e0dc2d9",
   "metadata": {},
   "source": [
    "df_energy datums nog omzetten (casten) naar een date want staat oorspronkelijk in het unixtime formaat met `yyyy/MM/dd hh:mm:ss a`en er moet iets van het type date `yyyy/MM/dd` bekomen worden zoals we in de df_weather hebben. Zo kan de data later worden samengevoegd op basis van gelijke datums."
   ]
  },
  {
   "cell_type": "code",
   "execution_count": 16,
   "id": "8356b775",
   "metadata": {},
   "outputs": [
    {
     "name": "stdout",
     "output_type": "stream",
     "text": [
      "+----------+\n",
      "|     date2|\n",
      "+----------+\n",
      "|2017-09-11|\n",
      "|2017-09-11|\n",
      "|2017-09-11|\n",
      "|2017-09-11|\n",
      "|2017-09-11|\n",
      "|2017-09-11|\n",
      "|2017-09-11|\n",
      "|2017-09-11|\n",
      "|2017-09-11|\n",
      "|2017-09-11|\n",
      "|2017-09-11|\n",
      "|2017-09-11|\n",
      "|2017-09-12|\n",
      "|2017-09-12|\n",
      "|2017-09-12|\n",
      "|2017-09-12|\n",
      "|2017-09-12|\n",
      "|2017-09-12|\n",
      "|2017-09-12|\n",
      "|2017-09-12|\n",
      "+----------+\n",
      "only showing top 20 rows\n",
      "\n"
     ]
    }
   ],
   "source": [
    "df_energy = df_energy.withColumn(\"date2\", from_unixtime(unix_timestamp(col(\"date\"), 'yyyy/MM/dd hh:mm:ss a')).cast(\"date\"))\n",
    "\n",
    "df_energy.select(\"date2\").show()"
   ]
  },
  {
   "cell_type": "markdown",
   "id": "adf180a0",
   "metadata": {},
   "source": [
    "### data uit df_energy groeperen per dag\n",
    "Er wordt verder gerekend met de gemiddelde kWh per dag in df_energy, gezien we niet van elk uur weerdata ter beschikking hebben.\n",
    "Zoals we ook al bij het inladen konden zien bevat df_energy 258423 rijen (omdat er meerdere metingen zijn per dag) en df_weather 10000 rijen, per dag 1 record."
   ]
  },
  {
   "cell_type": "code",
   "execution_count": 17,
   "id": "b392902c",
   "metadata": {},
   "outputs": [
    {
     "name": "stdout",
     "output_type": "stream",
     "text": [
      "+----------+------------------+\n",
      "|     date2|          avg(kWh)|\n",
      "+----------+------------------+\n",
      "|2015-09-01|28.601300000000002|\n",
      "|2015-09-02| 32.45933333333333|\n",
      "|2015-09-03|30.852666666666657|\n",
      "|2015-09-04|            5.1224|\n",
      "|2015-09-05|4.9174736842105276|\n",
      "|2015-09-06|           18.3813|\n",
      "|2015-09-07|30.262947368421052|\n",
      "|2015-09-08|           24.4907|\n",
      "|2015-09-09|           36.6001|\n",
      "|2015-09-10|  33.0881052631579|\n",
      "|2015-09-11| 45.54736842105263|\n",
      "|2015-09-12| 44.59063157894737|\n",
      "|2015-09-13|13.285210526315788|\n",
      "|2015-09-14|  5.36278947368421|\n",
      "|2015-09-15| 32.56542105263158|\n",
      "|2015-09-16| 35.77613333333333|\n",
      "|2015-09-17| 50.94357142857143|\n",
      "|2015-09-18| 50.00066666666666|\n",
      "|2015-09-21| 45.08325000000001|\n",
      "|2015-09-22|60.640538461538455|\n",
      "+----------+------------------+\n",
      "only showing top 20 rows\n",
      "\n"
     ]
    }
   ],
   "source": [
    "df_energy = df_energy.withColumn(\"date2\", from_unixtime(unix_timestamp(col(\"date\"), 'yyyy/MM/dd hh:mm:ss a')).cast(\"date\"))\n",
    "# groepeer per dag en bereken average temperature per dag\n",
    "df_energy_day = df_energy.groupBy(\"date2\").agg({\"kWh\": \"avg\"}).orderBy(\"date2\")#.show() returnt een NoneType, hierdoor kan er later nioet mee gewerkt worden! \n",
    "\n",
    "df_energy_day.show()"
   ]
  },
  {
   "cell_type": "code",
   "execution_count": 18,
   "id": "ed7fad1b",
   "metadata": {},
   "outputs": [
    {
     "data": {
      "text/plain": [
       "2716"
      ]
     },
     "execution_count": 18,
     "metadata": {},
     "output_type": "execute_result"
    }
   ],
   "source": [
    "df_energy_day.count()"
   ]
  },
  {
   "cell_type": "markdown",
   "id": "c371129c",
   "metadata": {},
   "source": [
    "### data buiten bereik filteren\n",
    "Dagen uit df_weather verwijderen die buiten het bereik van df_energy vallen.\n"
   ]
  },
  {
   "cell_type": "code",
   "execution_count": 19,
   "id": "72b955ef",
   "metadata": {},
   "outputs": [
    {
     "name": "stdout",
     "output_type": "stream",
     "text": [
      "Minimum datum uit df_weather is: 1996-07-13\n",
      "Maximum datum uit df_weather is: 2023-11-28\n",
      "Minimum datum uit df_energy_day is: 2015-09-01\n",
      "Maximum datum uit df_energy_day is: 2023-03-16\n",
      "\n",
      "Aantal overgebleven records uit df_energy na groepering per dag is: 2716\n",
      "Aantal records uit df_weather is: 10000\n"
     ]
    }
   ],
   "source": [
    "# temp table\n",
    "df_weather.createOrReplaceTempView(\"weather_table\")\n",
    "df_energy_day.createOrReplaceTempView(\"energy_table\")\n",
    "\n",
    "#SQL queries\n",
    "query_w = \"\"\"\n",
    "    SELECT\n",
    "        MIN(CAST(date AS DATE)) AS min_date,\n",
    "        MAX(CAST(date AS DATE)) AS max_date\n",
    "    FROM\n",
    "        weather_table\n",
    "\"\"\"\n",
    "\n",
    "query_e = \"\"\"\n",
    "    SELECT\n",
    "        MIN(CAST(date2 AS DATE)) AS min_date,\n",
    "        MAX(CAST(date2 AS DATE)) AS max_date\n",
    "    FROM\n",
    "        energy_table\n",
    "\"\"\"\n",
    "\n",
    "# Execute SQL\n",
    "date_min_max_w = spark.sql(query_w).first()\n",
    "date_min_max_e = spark.sql(query_e).first()\n",
    "\n",
    "min_date_w = date_min_max_w.min_date\n",
    "max_date_w = date_min_max_w.max_date\n",
    "min_date_e = date_min_max_e.min_date\n",
    "max_date_e = date_min_max_e.max_date\n",
    "\n",
    "records_df_energy = df_energy_day.count()\n",
    "records_df_weather = df_weather.count()\n",
    "\n",
    "print(f\"Minimum datum uit df_weather is: {min_date_w}\")\n",
    "print(f\"Maximum datum uit df_weather is: {max_date_w}\")\n",
    "print(f\"Minimum datum uit df_energy_day is: {min_date_e}\")\n",
    "print(f\"Maximum datum uit df_energy_day is: {max_date_e}\")\n",
    "print(f\"\\nAantal overgebleven records uit df_energy na groepering per dag is: {records_df_energy}\")\n",
    "print(f\"Aantal records uit df_weather is: {records_df_weather}\")"
   ]
  },
  {
   "cell_type": "markdown",
   "id": "96dd7b3a",
   "metadata": {},
   "source": [
    "Nu zijn er meer 'weather' records dan 'energy' records en moet de data buiten het bereik van van de dagen waarvoor er energie-data is, uitgefilterd worden.\n",
    "\n",
    "Er hoeft niet speciaal nog een drop operatie gedaan worden om de data te verwijderen die niet matcht aangezien er later nog gejoind zal worden en de data die overeenkomt automatisch overgehouden wordt"
   ]
  },
  {
   "cell_type": "markdown",
   "id": "0cc893d6",
   "metadata": {},
   "source": [
    "### niet-relevante kolommen uitfilteren"
   ]
  },
  {
   "cell_type": "markdown",
   "id": "68988c60",
   "metadata": {},
   "source": [
    "Voor dit project zijn we enkel geinteresseerd in de `avg_temperature` kolom uit `df_weather`. Natuurlijk zijn er heel wat andere kolommen die ook invloed hebben op de energieproductie van zonnepanelen maar we willen juist de correlatie bespreken tussen een warme dag of een koude dag en de daarbij horende energie opwekking.\n",
    "\n",
    "er zijn een paar kolommen kandidaat: TODO nog uitzoeken welke!!!! ####\n",
    "- avg_cloud_cover_4\n",
    "- avg_cloud_cover_8\n",
    "- avg_cloud_cover_10"
   ]
  },
  {
   "cell_type": "code",
   "execution_count": 20,
   "id": "a416a312",
   "metadata": {},
   "outputs": [
    {
     "data": {
      "text/plain": [
       "DataFrame[summary: string, max_temperature: string, avg_hourly_temperature: string, avg_temperature: string, min_temperature: string, max_humidex: string, min_windchill: string, max_relative_humidity: string, avg_hourly_relative_humidity: string, avg_relative_humidity: string, min_relative_humidity: string, max_dew_point: string, avg_hourly_dew_point: string, avg_dew_point: string, min_dew_point: string, max_wind_speed: string, avg_hourly_wind_speed: string, avg_wind_speed: string, min_wind_speed: string, max_wind_gust: string, wind_gust_dir_10s: string, max_pressure_sea: string, avg_hourly_pressure_sea: string, avg_pressure_sea: string, min_pressure_sea: string, max_pressure_station: string, avg_hourly_pressure_station: string, avg_pressure_station: string, min_pressure_station: string, max_visibility: string, avg_hourly_visibility: string, avg_visibility: string, min_visibility: string, max_health_index: string, avg_hourly_health_index: string, avg_health_index: string, min_health_index: string, heatdegdays: string, cooldegdays: string, growdegdays_5: string, growdegdays_7: string, growdegdays_10: string, precipitation: string, rain: string, snow: string, snow_on_ground: string, sunrise_unixtime: string, sunrise_f: string, sunset_unixtime: string, sunset_f: string, daylight: string, min_uv_forecast: string, max_uv_forecast: string, min_high_temperature_forecast: string, max_high_temperature_forecast: string, min_low_temperature_forecast: string, max_low_temperature_forecast: string, solar_radiation: string, max_cloud_cover_4: string, avg_hourly_cloud_cover_4: string, avg_cloud_cover_4: string, min_cloud_cover_4: string, max_cloud_cover_8: string, avg_hourly_cloud_cover_8: string, avg_cloud_cover_8: string, min_cloud_cover_8: string, max_cloud_cover_10: string, avg_hourly_cloud_cover_10: string, avg_cloud_cover_10: string, min_cloud_cover_10: string]"
      ]
     },
     "execution_count": 20,
     "metadata": {},
     "output_type": "execute_result"
    }
   ],
   "source": [
    "df_weather.describe()"
   ]
  },
  {
   "cell_type": "code",
   "execution_count": 21,
   "id": "02df118b",
   "metadata": {},
   "outputs": [],
   "source": [
    "#kolommen die we niet nodig hebben uitfilteren\n",
    "df_weather_selected_col = df_weather.select(\"date\", \"avg_temperature\")"
   ]
  },
  {
   "cell_type": "markdown",
   "id": "ef4b351d",
   "metadata": {},
   "source": [
    "### joinen op basis van datum"
   ]
  },
  {
   "cell_type": "code",
   "execution_count": 22,
   "id": "3443c06d",
   "metadata": {},
   "outputs": [
    {
     "name": "stdout",
     "output_type": "stream",
     "text": [
      "+----------+------------------+---------------+\n",
      "|     date2|          avg(kWh)|avg_temperature|\n",
      "+----------+------------------+---------------+\n",
      "|2015-09-01|28.601300000000002|          14.64|\n",
      "|2015-09-02| 32.45933333333333|          15.45|\n",
      "|2015-09-03|30.852666666666657|           9.19|\n",
      "|2015-09-04|            5.1224|           5.69|\n",
      "|2015-09-05|4.9174736842105276|            3.7|\n",
      "|2015-09-06|           18.3813|            5.0|\n",
      "|2015-09-07|30.262947368421052|           9.94|\n",
      "|2015-09-08|           24.4907|           10.8|\n",
      "|2015-09-09|           36.6001|           13.3|\n",
      "|2015-09-10|  33.0881052631579|           12.1|\n",
      "|2015-09-11| 45.54736842105263|           16.8|\n",
      "|2015-09-12| 44.59063157894737|          19.14|\n",
      "|2015-09-13|13.285210526315788|          10.15|\n",
      "|2015-09-14|  5.36278947368421|            5.9|\n",
      "|2015-09-15| 32.56542105263158|           8.55|\n",
      "|2015-09-16| 35.77613333333333|            7.0|\n",
      "|2015-09-17| 50.94357142857143|           8.15|\n",
      "|2015-09-18| 50.00066666666666|          11.35|\n",
      "|2015-09-21| 45.08325000000001|            5.3|\n",
      "|2015-09-22|60.640538461538455|          11.05|\n",
      "+----------+------------------+---------------+\n",
      "only showing top 20 rows\n",
      "\n"
     ]
    }
   ],
   "source": [
    "energy = df_energy_day.alias(\"df_energy_day\")\n",
    "weer = df_weather_selected_col.alias(\"df_weather\")\n",
    "\n",
    "# inner join on 'date' kolom\n",
    "joined_df = energy.join(weer, energy['date2'] == weer['Date'], 'left')\n",
    "\n",
    "joined_df.select(energy['date2'], energy['avg(kWh)'], weer['avg_temperature']).orderBy(\"date2\").show()"
   ]
  },
  {
   "cell_type": "code",
   "execution_count": 23,
   "id": "1fd546ab",
   "metadata": {},
   "outputs": [],
   "source": [
    "# we hebben nu 2 datum kolommen dus 1tje mag verwijderd worden\n",
    "joined_df = joined_df.drop(col(\"date2\"))"
   ]
  },
  {
   "cell_type": "code",
   "execution_count": 24,
   "id": "be96605f",
   "metadata": {},
   "outputs": [
    {
     "name": "stdout",
     "output_type": "stream",
     "text": [
      "+-------+------------------+-----------------+\n",
      "|summary|          avg(kWh)|  avg_temperature|\n",
      "+-------+------------------+-----------------+\n",
      "|  count|              2716|             2716|\n",
      "|   mean| 32.60636546059805|4.664900589101617|\n",
      "| stddev|21.998459233839053|11.01423654777967|\n",
      "|    min|               0.0|           -30.45|\n",
      "|    max|  84.8148034188034|            27.29|\n",
      "+-------+------------------+-----------------+\n",
      "\n"
     ]
    }
   ],
   "source": [
    "#joined_df.show()\n",
    "joined_df.describe().show()"
   ]
  },
  {
   "cell_type": "markdown",
   "id": "0b1a92da",
   "metadata": {},
   "source": [
    "### datatypes toekennen"
   ]
  },
  {
   "cell_type": "code",
   "execution_count": 25,
   "id": "4c59e5df",
   "metadata": {},
   "outputs": [
    {
     "name": "stdout",
     "output_type": "stream",
     "text": [
      "Kolom: avg(kWh), Data Type: double\n",
      "Kolom: date, Data Type: date\n",
      "Kolom: avg_temperature, Data Type: double\n"
     ]
    }
   ],
   "source": [
    "column_data_types = joined_df.dtypes\n",
    "\n",
    "for column, data_type in column_data_types:\n",
    "    print(f\"Kolom: {column}, Data Type: {data_type}\")"
   ]
  },
  {
   "cell_type": "markdown",
   "id": "2e2dc133",
   "metadata": {},
   "source": [
    "Zo te zien bevat deze dataframe al automatisch de juiste datatypes om mee aan de slag te gaan. "
   ]
  },
  {
   "cell_type": "markdown",
   "id": "06cdd14c",
   "metadata": {},
   "source": [
    "### kolommen toevoegen"
   ]
  },
  {
   "cell_type": "code",
   "execution_count": 26,
   "id": "8b21ac9d",
   "metadata": {},
   "outputs": [
    {
     "name": "stdout",
     "output_type": "stream",
     "text": [
      "+------------------+----------+---------------+-----+-------+\n",
      "|          avg(kWh)|      date|avg_temperature|month|seizoen|\n",
      "+------------------+----------+---------------+-----+-------+\n",
      "|34.126020833333335|2017-09-11|          18.64|    9| herfst|\n",
      "| 61.16932075471698|2017-08-11|           18.7|    8|  zomer|\n",
      "| 42.58591666666667|2016-03-01|          -0.59|    3|  lente|\n",
      "|61.045993464052316|2019-06-04|           16.0|    6|  zomer|\n",
      "|           66.2803|2018-05-28|           20.0|    5|  lente|\n",
      "| 54.34225641025642|2018-08-10|          26.15|    8|  zomer|\n",
      "| 53.71429411764706|2021-06-22|           21.6|    6|  zomer|\n",
      "| 48.74009210526314|2019-05-08|           7.25|    5|  lente|\n",
      "|37.910468468468466|2021-10-11|           0.95|   10| herfst|\n",
      "|62.834886666666655|2020-08-24|          20.25|    8|  zomer|\n",
      "|1.8028571428571432|2021-12-18|          -9.19|   12| winter|\n",
      "| 23.22218681318681|2021-11-13|           3.45|   11| herfst|\n",
      "| 3.548602564102563|2021-01-27|          -13.2|    1| winter|\n",
      "|  32.0981971830986|2021-08-27|          15.45|    8|  zomer|\n",
      "| 34.12024615384616|2022-03-28|           0.59|    3|  lente|\n",
      "|53.465215277777766|2022-07-31|          21.65|    7|  zomer|\n",
      "|14.803142857142856|2016-04-25|            3.8|    4|  lente|\n",
      "|27.433728260869565|2019-11-18|           5.15|   11| herfst|\n",
      "| 52.27623148148149|2019-11-01|           0.75|   11| herfst|\n",
      "|20.049341666666667|2018-03-17|           -1.1|    3|  lente|\n",
      "+------------------+----------+---------------+-----+-------+\n",
      "only showing top 20 rows\n",
      "\n"
     ]
    }
   ],
   "source": [
    "df_with_season = joined_df.withColumn(\"month\", expr(\"month(date)\"))\n",
    "\n",
    "spring_condition = (col(\"month\") >= 3) & (col(\"month\") <= 5)\n",
    "summer_condition = (col(\"month\") >= 6) & (col(\"month\") <= 8)\n",
    "autumn_condition = (col(\"month\") >= 9) & (col(\"month\") <= 11)\n",
    "\n",
    "joined_df = df_with_season.withColumn(\"seizoen\", \n",
    "    when(spring_condition, \"lente\")\n",
    "    .when(summer_condition, \"zomer\")\n",
    "    .when(autumn_condition, \"herfst\")\n",
    "    .otherwise(\"winter\")\n",
    ")\n",
    "\n",
    "joined_df.show()      "
   ]
  },
  {
   "cell_type": "markdown",
   "id": "85c646d9",
   "metadata": {},
   "source": [
    "## 4 Visualisatie"
   ]
  },
  {
   "cell_type": "code",
   "execution_count": 27,
   "id": "912c9589",
   "metadata": {},
   "outputs": [
    {
     "name": "stdout",
     "output_type": "stream",
     "text": [
      "Alle waarden in kolom 'date' zijn uniek.\n"
     ]
    }
   ],
   "source": [
    "# checken of dagen uniek zijn (controle voor de plot)\n",
    "column_name = \"date\"\n",
    "\n",
    "unique_count = joined_df.select(column_name).distinct().count()\n",
    "total_count = joined_df.select(column_name).count()\n",
    "\n",
    "if unique_count == total_count:\n",
    "    print(f\"Alle waarden in kolom '{column_name}' zijn uniek.\")\n",
    "else:\n",
    "    print(f\"Niet alle waarden in kolom '{column_name}' zijn uniek.\")"
   ]
  },
  {
   "cell_type": "code",
   "execution_count": 28,
   "id": "e53a93ec",
   "metadata": {},
   "outputs": [
    {
     "data": {
      "image/png": "[encoded data removed]",
      "text/plain": [
       "<Figure size 432x288 with 1 Axes>"
      ]
     },
     "metadata": {},
     "output_type": "display_data"
    }
   ],
   "source": [
    "avg_kwh_per_season = joined_df.groupBy(\"seizoen\").agg({\"avg(kWh)\": \"avg\"}).toPandas()\n",
    "\n",
    "# pie chart\n",
    "plt.pie(avg_kwh_per_season[\"avg(avg(kWh))\"], labels=avg_kwh_per_season[\"seizoen\"], autopct='%1.1f%%')\n",
    "plt.title('Gemiddelde kWh per Seizoen')\n",
    "plt.show()"
   ]
  },
  {
   "cell_type": "markdown",
   "id": "223c60ed",
   "metadata": {},
   "source": [
    "Je ziet duidelijk dat er meer stroom opgewekt wordt tijdens de zomer en lente dan in de winter en herfst periode."
   ]
  },
  {
   "cell_type": "code",
   "execution_count": 29,
   "id": "4e7d8f3f",
   "metadata": {},
   "outputs": [
    {
     "data": {
      "image/png": "[encoded data removed]",
      "text/plain": [
       "<Figure size 1440x432 with 1 Axes>"
      ]
     },
     "metadata": {
      "needs_background": "light"
     },
     "output_type": "display_data"
    }
   ],
   "source": [
    "# Groepeer data per jaar en maand om gemiddelde te berekenen\n",
    "df_plot = joined_df.groupBy(year('date').alias('year'), month('date').alias('month')).agg({'avg(kWh)': 'avg', 'avg_temperature': 'avg'})\n",
    "\n",
    "# Extract data\n",
    "dates = [datetime(row.year, row.month, 1) for row in df_plot.collect()]  \n",
    "avg_kWh_values = [row['avg(avg(kWh))'] for row in df_plot.collect()]\n",
    "avg_temperature_values = [row['avg(avg_temperature)'] for row in df_plot.collect()]\n",
    "\n",
    "# Sorteren\n",
    "sorted_dates, sorted_avg_kWh, sorted_avg_temperature = zip(*sorted(zip(dates, avg_kWh_values, avg_temperature_values)))\n",
    "\n",
    "plt.figure(figsize=(20, 6))\n",
    "plt.plot(sorted_dates, sorted_avg_kWh, label='Gemiddelde kWh', marker='o')\n",
    "plt.plot(sorted_dates, sorted_avg_temperature, label='Gemiddelde Temperatuur', marker='o')\n",
    "\n",
    "plt.title('Gemiddelde kWh en Temperatuur per tijd')\n",
    "plt.xlabel('Datum')\n",
    "plt.ylabel('Waarde')\n",
    "plt.legend()\n",
    "plt.grid(True)\n",
    "plt.show()\n"
   ]
  },
  {
   "cell_type": "markdown",
   "id": "42079f85",
   "metadata": {},
   "source": [
    "opm: Je ziet hier duidelijk een steeds terugkomend patroon in de data. Zowel voor de gemiddelde opwekking van zonne-energie als uiteraard ook de temperatuur (denk aan zomer- en wintertemperaturen). We kunnen dus zeggen dat er dus zeer waarschijnlijk onrechtstreeks ook een correlatie zal bestaan tussen de tijd (de seizoenen) en de hoeveelheid zonne-energie die wordt opgewekt. natuurlijk is dit omwille van de temperatuur (en andere zaken zoals lichtsterkte, bewolking, uren zonlicht,...) in deze seizoenen. \n",
    "\n",
    "@@@@TODO !!!!! nog wat uithalen en bij conclusie zetten"
   ]
  },
  {
   "cell_type": "code",
   "execution_count": 30,
   "id": "7f978024",
   "metadata": {},
   "outputs": [
    {
     "data": {
      "application/vnd.jupyter.widget-view+json": {
       "model_id": "4ea973df11874cabae0802630bc5aa93",
       "version_major": 2,
       "version_minor": 0
      },
      "text/plain": [
       "IntRangeSlider(value=(2015, 2023), continuous_update=False, description='Selecteer interval:', max=2023, min=2…"
      ]
     },
     "metadata": {},
     "output_type": "display_data"
    },
    {
     "data": {
      "application/vnd.jupyter.widget-view+json": {
       "model_id": "f135139a0a4646108a175a356a87c624",
       "version_major": 2,
       "version_minor": 0
      },
      "text/plain": [
       "Output()"
      ]
     },
     "metadata": {},
     "output_type": "display_data"
    }
   ],
   "source": [
    "# min en max jaar voor widget\n",
    "distinct_years = joined_df.select(year('date').alias('year')).distinct().toPandas()['year'].tolist()\n",
    "min_year, max_year = min(distinct_years), max(distinct_years)\n",
    "\n",
    "year_range_slider = widgets.IntRangeSlider(\n",
    "    min=min_year,\n",
    "    max=max_year,\n",
    "    value=[min_year, max_year],\n",
    "    step=1,\n",
    "    description='Selecteer interval:',\n",
    "    continuous_update=False\n",
    ")\n",
    "\n",
    "# Output widget voor de plot weer te geven\n",
    "output = widgets.Output()\n",
    "\n",
    "# update functie wanneer year_range_slider wordt aangepast\n",
    "def update_plot(year_range):\n",
    "    with output:\n",
    "        clear_output(wait=True)\n",
    "        \n",
    "        filtered_df = joined_df.filter((year(joined_df['date']) >= year_range[0]) & (year(joined_df['date']) <= year_range[1]))\n",
    "\n",
    "        # Groepeer data per jaar en maand om gemiddelde te berekenen\n",
    "        df_plot = filtered_df.groupBy(year('date').alias('year'), month('date').alias('month')).agg({'avg(kWh)': 'avg', 'avg_temperature': 'avg'})\n",
    "\n",
    "        # Sorteren\n",
    "        df_plot = df_plot.orderBy('year', 'month')\n",
    "\n",
    "        # Extract data\n",
    "        dates = [f\"{row.year}-{row.month:02d}\" for row in df_plot.collect()]\n",
    "        avg_kWh_values = [row['avg(avg(kWh))'] for row in df_plot.collect()]\n",
    "        avg_temperature_values = [row['avg(avg_temperature)'] for row in df_plot.collect()]\n",
    "\n",
    "        \n",
    "        plt.figure(figsize=(20, 6))\n",
    "        plt.plot(dates, avg_kWh_values, label='Gemiddelde kWh', marker='o')\n",
    "        plt.plot(dates, avg_temperature_values, label='Gemiddelde Temperatuur', marker='o')\n",
    "\n",
    "        \n",
    "        plt.title('Gemiddelde kWh en Temperatuur per tijd')\n",
    "        plt.xlabel('Datum')\n",
    "        plt.ylabel('Waardes')\n",
    "        plt.legend()\n",
    "        plt.xticks(rotation=45)\n",
    "        plt.grid(True)\n",
    "        plt.show()\n",
    "\n",
    "# Connect the function to the widget's value\n",
    "widgets.interactive(update_plot, year_range=year_range_slider)\n",
    "\n",
    "# Display widget en output\n",
    "display(year_range_slider, output)\n"
   ]
  },
  {
   "cell_type": "code",
   "execution_count": 31,
   "id": "0c4dc5e0",
   "metadata": {},
   "outputs": [
    {
     "data": {
      "application/vnd.jupyter.widget-view+json": {
       "model_id": "a10facfe31a4470c87583a9464fa032a",
       "version_major": 2,
       "version_minor": 0
      },
      "text/plain": [
       "interactive(children=(IntRangeSlider(value=(2015, 2023), continuous_update=False, description='Selecteer inter…"
      ]
     },
     "metadata": {},
     "output_type": "display_data"
    },
    {
     "data": {
      "application/vnd.jupyter.widget-view+json": {
       "model_id": "ec4c4966b25147ac8e48c38fcb8579ac",
       "version_major": 2,
       "version_minor": 0
      },
      "text/plain": [
       "Output()"
      ]
     },
     "metadata": {},
     "output_type": "display_data"
    }
   ],
   "source": [
    "# min en max jaar voor widget\n",
    "distinct_years = joined_df.select(year('date').alias('year')).distinct().toPandas()['year'].tolist()\n",
    "min_year, max_year = min(distinct_years), max(distinct_years)\n",
    "\n",
    "year_range_slider = widgets.IntRangeSlider(\n",
    "    min=min_year,\n",
    "    max=max_year,\n",
    "    value=[min_year, max_year],\n",
    "    step=1,\n",
    "    description='Selecteer interval: ',\n",
    "    continuous_update=False\n",
    ")\n",
    "\n",
    "# Output widget voor de plot weer te geven\n",
    "output = widgets.Output()\n",
    "\n",
    "progress_bar = widgets.IntProgress(\n",
    "    value=0,\n",
    "    min=0,\n",
    "    max=9,\n",
    "    step=1,\n",
    "    description='Loading: ',\n",
    "    bar_style='info',\n",
    "    orientation='horizontal'\n",
    ")\n",
    "\n",
    "# update functie wanneer year_range_slider wordt aangepast\n",
    "def update_plot(year_range):\n",
    "    with output:\n",
    "        clear_output(wait=True)\n",
    "        \n",
    "        filtered_df = joined_df.filter((year(joined_df['date']) >= year_range[0]) & (year(joined_df['date']) <= year_range[1]))\n",
    "\n",
    "        # Groepeer data per jaar en maand om gemiddelde te berekenen\n",
    "        df_plot = filtered_df.groupBy(year('date').alias('year'), month('date').alias('month')).agg({'avg(kWh)': 'avg', 'avg_temperature': 'avg'})\n",
    "\n",
    "        # Sorteren\n",
    "        df_plot = df_plot.orderBy('year', 'month')\n",
    "\n",
    "        # Extract data\n",
    "        dates = [f\"{row.year}-{row.month:02d}\" for row in df_plot.collect()]\n",
    "        avg_kWh_values = [row['avg(avg(kWh))'] for row in df_plot.collect()]\n",
    "        avg_temperature_values = [row['avg(avg_temperature)'] for row in df_plot.collect()]\n",
    "        \n",
    "        display(progress_bar)\n",
    "        \n",
    "        # Automatisch naar 9\n",
    "        for i in range(10):\n",
    "            progress_bar.value = i\n",
    "            time.sleep(0.5)  # An te passen\n",
    "\n",
    "        plt.figure(figsize=(20, 6))\n",
    "        plt.plot(dates, avg_kWh_values, label='Gemiddelde kWh', marker='o')\n",
    "        plt.plot(dates, avg_temperature_values, label='Gemiddelde temperatuur', marker='o')\n",
    "\n",
    "        plt.title('Gemiddelde kWh en Temperatuur per tijd')\n",
    "        plt.xlabel('Datum')\n",
    "        plt.ylabel('Waardes')\n",
    "        plt.legend()\n",
    "        plt.xticks(rotation=45)\n",
    "        plt.grid(True)\n",
    "        plt.show()\n",
    "        \n",
    "        progress_bar.value = 9\n",
    "\n",
    "# Connect the function to the widget's value\n",
    "widgets.interact(update_plot, year_range=year_range_slider)\n",
    "\n",
    "# Display widget en output\n",
    "display(output)\n"
   ]
  },
  {
   "cell_type": "code",
   "execution_count": null,
   "id": "ae100537",
   "metadata": {},
   "outputs": [],
   "source": [
    "\n"
   ]
  },
  {
   "cell_type": "code",
   "execution_count": 32,
   "id": "76453e53",
   "metadata": {},
   "outputs": [],
   "source": [
    "#widget per jaar/month vanaf wanner,..\n",
    "#https://ipywidgets.readthedocs.io/en/stable/"
   ]
  },
  {
   "cell_type": "code",
   "execution_count": 33,
   "id": "e1a6b9b5",
   "metadata": {},
   "outputs": [
    {
     "data": {
      "application/vnd.jupyter.widget-view+json": {
       "model_id": "78fbeb336e8141a8851a1044ee2c0121",
       "version_major": 2,
       "version_minor": 0
      },
      "text/plain": [
       "IntSlider(value=7, continuous_update=False, description='Test:', max=10)"
      ]
     },
     "metadata": {},
     "output_type": "display_data"
    }
   ],
   "source": [
    "widgets.IntSlider(\n",
    "    value=7,\n",
    "    min=0,\n",
    "    max=10,\n",
    "    step=1,\n",
    "    description='Test:',\n",
    "    disabled=False,\n",
    "    continuous_update=False,\n",
    "    orientation='horizontal',\n",
    "    readout=True,\n",
    "    readout_format='d'\n",
    ")"
   ]
  },
  {
   "cell_type": "code",
   "execution_count": 34,
   "id": "6d3d4edb",
   "metadata": {},
   "outputs": [
    {
     "data": {
      "application/vnd.jupyter.widget-view+json": {
       "model_id": "924b5a8810f94ab9aceb308cdeb0171f",
       "version_major": 2,
       "version_minor": 0
      },
      "text/plain": [
       "FloatRangeSlider(value=(5.0, 7.5), continuous_update=False, description='Test:', max=10.0, readout_format='.1f…"
      ]
     },
     "metadata": {},
     "output_type": "display_data"
    }
   ],
   "source": [
    "widgets.FloatRangeSlider(\n",
    "    value=[5, 7.5],\n",
    "    min=0,\n",
    "    max=10.0,\n",
    "    step=0.1,\n",
    "    description='Test:',\n",
    "    disabled=False,\n",
    "    continuous_update=False,\n",
    "    orientation='horizontal',\n",
    "    readout=True,\n",
    "    readout_format='.1f',\n",
    ")"
   ]
  },
  {
   "cell_type": "code",
   "execution_count": 35,
   "id": "b73fd8f0",
   "metadata": {},
   "outputs": [
    {
     "data": {
      "application/vnd.jupyter.widget-view+json": {
       "model_id": "4da47ab328ff46fa96e80c8d5cf9d14b",
       "version_major": 2,
       "version_minor": 0
      },
      "text/plain": [
       "IntSlider(value=100)"
      ]
     },
     "metadata": {},
     "output_type": "display_data"
    }
   ],
   "source": [
    "w = widgets.IntSlider()\n",
    "\n",
    "w.value = 100\n",
    "\n",
    "\n",
    "\n",
    "\n",
    "display(w)\n",
    "\n"
   ]
  },
  {
   "cell_type": "code",
   "execution_count": 36,
   "id": "db5e2680",
   "metadata": {},
   "outputs": [
    {
     "data": {
      "application/vnd.jupyter.widget-view+json": {
       "model_id": "0d90d2fff3cb4768affce745dfd79e48",
       "version_major": 2,
       "version_minor": 0
      },
      "text/plain": [
       "Checkbox(value=False, description='Check me', indent=False)"
      ]
     },
     "metadata": {},
     "output_type": "display_data"
    }
   ],
   "source": [
    "widgets.Checkbox(\n",
    "    value=False,\n",
    "    description='Check me',\n",
    "    disabled=False,\n",
    "    indent=False\n",
    ")\n"
   ]
  },
  {
   "cell_type": "code",
   "execution_count": 37,
   "id": "04140a70",
   "metadata": {},
   "outputs": [
    {
     "data": {
      "application/vnd.jupyter.widget-view+json": {
       "model_id": "36ef4225fa54404abe4e72fce37c7263",
       "version_major": 2,
       "version_minor": 0
      },
      "text/plain": [
       "Dropdown(description='Number:', index=1, options=('1', '2', '3'), value='2')"
      ]
     },
     "metadata": {},
     "output_type": "display_data"
    }
   ],
   "source": [
    "widgets.Dropdown(\n",
    "    options=['1', '2', '3'],\n",
    "    value='2',\n",
    "    description='Number:',\n",
    "    disabled=False,\n",
    ")"
   ]
  },
  {
   "cell_type": "code",
   "execution_count": 38,
   "id": "079cf90a",
   "metadata": {},
   "outputs": [
    {
     "data": {
      "application/vnd.jupyter.widget-view+json": {
       "model_id": "b30c6ac25e0741c2936e0b6f88a58678",
       "version_major": 2,
       "version_minor": 0
      },
      "text/plain": [
       "Dropdown(description='Number:', index=1, options=(('One', 1), ('Two', 2), ('Three', 3)), value=2)"
      ]
     },
     "metadata": {},
     "output_type": "display_data"
    }
   ],
   "source": [
    "widgets.Dropdown(\n",
    "    options=[('One', 1), ('Two', 2), ('Three', 3)],\n",
    "    value=2,\n",
    "    description='Number:',\n",
    ")"
   ]
  },
  {
   "cell_type": "code",
   "execution_count": 39,
   "id": "66f5e6bc",
   "metadata": {},
   "outputs": [
    {
     "data": {
      "application/vnd.jupyter.widget-view+json": {
       "model_id": "3f2de21ca34040fa8c53509eb2e63a0e",
       "version_major": 2,
       "version_minor": 0
      },
      "text/plain": [
       "RadioButtons(description='Pizza topping:', options=('pepperoni', 'pineapple', 'anchovies'), value='pepperoni')"
      ]
     },
     "metadata": {},
     "output_type": "display_data"
    }
   ],
   "source": [
    "widgets.RadioButtons(\n",
    "    options=['pepperoni', 'pineapple', 'anchovies'],\n",
    "#    value='pineapple', # Defaults to 'pineapple'\n",
    "#    layout={'width': 'max-content'}, # If the items' names are long\n",
    "    description='Pizza topping:',\n",
    "    disabled=False\n",
    ")"
   ]
  },
  {
   "cell_type": "code",
   "execution_count": 40,
   "id": "b3333feb",
   "metadata": {},
   "outputs": [
    {
     "data": {
      "application/vnd.jupyter.widget-view+json": {
       "model_id": "1096722d0ae340f6aa35353e4d99127e",
       "version_major": 2,
       "version_minor": 0
      },
      "text/plain": [
       "Select(description='OS:', index=2, options=('Linux', 'Windows', 'macOS'), value='macOS')"
      ]
     },
     "metadata": {},
     "output_type": "display_data"
    }
   ],
   "source": [
    "widgets.Select(\n",
    "    options=['Linux', 'Windows', 'macOS'],\n",
    "    value='macOS',\n",
    "    # rows=10,\n",
    "    description='OS:',\n",
    "    disabled=False\n",
    ")"
   ]
  },
  {
   "cell_type": "code",
   "execution_count": 41,
   "id": "1020701c",
   "metadata": {},
   "outputs": [
    {
     "data": {
      "application/vnd.jupyter.widget-view+json": {
       "model_id": "1d91c6495d7c47cbbad70d19a9208388",
       "version_major": 2,
       "version_minor": 0
      },
      "text/plain": [
       "SelectMultiple(description='Fruits', index=(1,), options=('Apples', 'Oranges', 'Pears'), value=('Oranges',))"
      ]
     },
     "metadata": {},
     "output_type": "display_data"
    }
   ],
   "source": [
    "widgets.SelectMultiple(\n",
    "    options=['Apples', 'Oranges', 'Pears'],\n",
    "    value=['Oranges'],\n",
    "    #rows=10,\n",
    "    description='Fruits',\n",
    "    disabled=False\n",
    ")"
   ]
  },
  {
   "cell_type": "code",
   "execution_count": 42,
   "id": "3b750300",
   "metadata": {},
   "outputs": [
    {
     "data": {
      "application/vnd.jupyter.widget-view+json": {
       "model_id": "6653765bb85c41e49e78310c2983a6c7",
       "version_major": 2,
       "version_minor": 0
      },
      "text/plain": [
       "SelectionRangeSlider(description='Months (2015)', index=(0, 11), options=(('Jan', datetime.date(2015, 1, 1)), …"
      ]
     },
     "metadata": {},
     "output_type": "display_data"
    }
   ],
   "source": [
    "import datetime\n",
    "dates = [datetime.date(2015, i, 1) for i in range(1, 13)]\n",
    "options = [(i.strftime('%b'), i) for i in dates]\n",
    "widgets.SelectionRangeSlider(\n",
    "    options=options,\n",
    "    index=(0, 11),\n",
    "    description='Months (2015)',\n",
    "    disabled=False\n",
    ")"
   ]
  },
  {
   "cell_type": "code",
   "execution_count": 43,
   "id": "4b6efcb6",
   "metadata": {},
   "outputs": [
    {
     "data": {
      "application/vnd.jupyter.widget-view+json": {
       "model_id": "b6701935d3ec4e21ac74b6056392a898",
       "version_major": 2,
       "version_minor": 0
      },
      "text/plain": [
       "DatePicker(value=None, description='Pick a Date')"
      ]
     },
     "metadata": {},
     "output_type": "display_data"
    }
   ],
   "source": [
    "widgets.DatePicker(\n",
    "    description='Pick a Date',\n",
    "    disabled=False\n",
    ")"
   ]
  },
  {
   "cell_type": "code",
   "execution_count": 44,
   "id": "46ce08ae",
   "metadata": {},
   "outputs": [
    {
     "data": {
      "application/vnd.jupyter.widget-view+json": {
       "model_id": "90f913ec7a2a4a40a732c9d13b5901d5",
       "version_major": 2,
       "version_minor": 0
      },
      "text/plain": [
       "GridBox(children=(Label(value='0'), Label(value='1'), Label(value='2'), Label(value='3'), Label(value='4'), La…"
      ]
     },
     "metadata": {},
     "output_type": "display_data"
    }
   ],
   "source": [
    "items = [widgets.Label(str(i)) for i in range(8)]\n",
    "widgets.GridBox(items, layout=widgets.Layout(grid_template_columns=\"repeat(3, 100px)\"))"
   ]
  },
  {
   "cell_type": "code",
   "execution_count": 45,
   "id": "a42293f9",
   "metadata": {},
   "outputs": [
    {
     "name": "stdout",
     "output_type": "stream",
     "text": [
      "Correlatie tussen average Kwh en de temperatuur is: 0.6772647080391323\n"
     ]
    }
   ],
   "source": [
    "correlation_value = joined_df.stat.corr(\"avg(kWh)\", \"avg_temperature\")\n",
    "\n",
    "print(f\"Correlatie tussen average Kwh en de temperatuur is: {correlation_value}\")"
   ]
  },
  {
   "cell_type": "markdown",
   "id": "5b4c1e61",
   "metadata": {},
   "source": [
    "Men kan hier dus spreken van een redelijk sterke correlatie tussen de temperatuur en de hoeveelheid energie die opgewekt wordt. Als de temperatuur verhoogt verhoogt dus ook de hoeveelheid kWh die opgewekt wordt."
   ]
  },
  {
   "cell_type": "code",
   "execution_count": 46,
   "id": "76bfb281",
   "metadata": {},
   "outputs": [
    {
     "data": {
      "text/plain": [
       "'\\ncorrelation_matrix = joined_df.stat.corr(\"avg(kWh)\", \"\",\"\",\"\", \"avg_temperature\")\\n\\nprint(\"Correlation Matrix:\")\\ncorrelation_matrix.show()\\n'"
      ]
     },
     "execution_count": 46,
     "metadata": {},
     "output_type": "execute_result"
    }
   ],
   "source": [
    "### kan alleen matrix printen als er meerder kolommen zijn (dat je een dataframe terug krijgt, met 2 kolommen krijg je gwn een float terug)\n",
    "\"\"\"\n",
    "correlation_matrix = joined_df.stat.corr(\"avg(kWh)\", \"\",\"\",\"\", \"avg_temperature\")\n",
    "\n",
    "print(\"Correlation Matrix:\")\n",
    "correlation_matrix.show()\n",
    "\"\"\""
   ]
  },
  {
   "cell_type": "code",
   "execution_count": 47,
   "id": "cf86150a",
   "metadata": {},
   "outputs": [],
   "source": [
    "# plot"
   ]
  },
  {
   "cell_type": "markdown",
   "id": "dda7f6cb",
   "metadata": {},
   "source": [
    "## ML"
   ]
  },
  {
   "cell_type": "code",
   "execution_count": 48,
   "id": "376ed118",
   "metadata": {},
   "outputs": [],
   "source": [
    "pd_test = joined_df.toPandas()"
   ]
  },
  {
   "cell_type": "code",
   "execution_count": 49,
   "id": "633288f1",
   "metadata": {},
   "outputs": [
    {
     "name": "stdout",
     "output_type": "stream",
     "text": [
      "ADF statistiek: -52.292720\n",
      "p-waarde: 0.000000\n"
     ]
    }
   ],
   "source": [
    "from statsmodels.tsa.stattools import adfuller\n",
    "\n",
    "import numpy as np, pandas as pd\n",
    "from statsmodels.graphics.tsaplots import plot_acf, plot_pacf\n",
    "from numpy import log\n",
    "\n",
    "result = adfuller(pd_test['avg(kWh)'].dropna()) #The null hypothese van deof the ADF test is dat de time series niet-stationair is.\n",
    "print('ADF statistiek: %f' % result[0])\n",
    "print('p-waarde: %f' % result[1]) # als p groter is dan 0.05, dan mag je ervan uitgaan dat de reeks niet-stationair is"
   ]
  },
  {
   "cell_type": "code",
   "execution_count": 50,
   "id": "6c7b6c91",
   "metadata": {},
   "outputs": [
    {
     "name": "stderr",
     "output_type": "stream",
     "text": [
      "C:\\Users\\jarno\\anaconda3\\lib\\site-packages\\statsmodels\\graphics\\tsaplots.py:348: FutureWarning: The default method 'yw' can produce PACF values outside of the [-1,1] interval. After 0.13, the default will change tounadjusted Yule-Walker ('ywm'). You can use this method now by setting method='ywm'.\n",
      "  warnings.warn(\n"
     ]
    },
    {
     "data": {
      "image/png": "[encoded data removed]",
      "text/plain": [
       "<Figure size 1080x360 with 2 Axes>"
      ]
     },
     "metadata": {
      "needs_background": "light"
     },
     "output_type": "display_data"
    }
   ],
   "source": [
    "# PACF plot van 1st difference reeks\n",
    "plt.rcParams.update({'figure.figsize':(9,3), 'figure.dpi':120})\n",
    "\n",
    "fig, axes = plt.subplots(1, 2, sharex=True)\n",
    "axes[0].plot(pd_test[\"avg(kWh)\"].diff()); axes[0].set_title('1st Differencing')\n",
    "axes[1].set(ylim=(0,5))\n",
    "plot_pacf(pd_test[\"avg(kWh)\"].diff().dropna(), ax=axes[1])\n",
    "\n",
    "plt.show()"
   ]
  },
  {
   "cell_type": "code",
   "execution_count": 51,
   "id": "8c9b7acc",
   "metadata": {},
   "outputs": [
    {
     "data": {
      "image/png": "[encoded data removed]",
      "text/plain": [
       "<Figure size 1080x360 with 2 Axes>"
      ]
     },
     "metadata": {
      "needs_background": "light"
     },
     "output_type": "display_data"
    }
   ],
   "source": [
    "import pandas as pd\n",
    "from statsmodels.graphics.tsaplots import plot_acf, plot_pacf\n",
    "import matplotlib.pyplot as plt\n",
    "plt.rcParams.update({'figure.figsize':(9,3), 'figure.dpi':120})\n",
    "\n",
    "fig, axes = plt.subplots(1, 2, sharex=True)\n",
    "axes[0].plot(pd_test[\"avg(kWh)\"].diff()); axes[0].set_title('1st Differencing')\n",
    "axes[1].set(ylim=(0,1.2))\n",
    "plot_acf(pd_test[\"avg(kWh)\"].diff().dropna(), ax=axes[1])\n",
    "\n",
    "plt.show()"
   ]
  },
  {
   "cell_type": "code",
   "execution_count": 52,
   "id": "4c5f58eb",
   "metadata": {},
   "outputs": [
    {
     "name": "stdout",
     "output_type": "stream",
     "text": [
      "                               SARIMAX Results                                \n",
      "==============================================================================\n",
      "Dep. Variable:               avg(kWh)   No. Observations:                 2716\n",
      "Model:                 ARIMA(1, 1, 0)   Log Likelihood              -12792.569\n",
      "Date:                Sun, 03 Dec 2023   AIC                          25589.138\n",
      "Time:                        21:00:05   BIC                          25600.951\n",
      "Sample:                             0   HQIC                         25593.408\n",
      "                               - 2716                                         \n",
      "Covariance Type:                  opg                                         \n",
      "==============================================================================\n",
      "                 coef    std err          z      P>|z|      [0.025      0.975]\n",
      "------------------------------------------------------------------------------\n",
      "ar.L1         -0.5042      0.019    -26.879      0.000      -0.541      -0.467\n",
      "sigma2       724.6791     23.986     30.213      0.000     677.668     771.690\n",
      "===================================================================================\n",
      "Ljung-Box (L1) (Q):                  68.34   Jarque-Bera (JB):                52.17\n",
      "Prob(Q):                              0.00   Prob(JB):                         0.00\n",
      "Heteroskedasticity (H):               1.01   Skew:                             0.09\n",
      "Prob(H) (two-sided):                  0.88   Kurtosis:                         2.35\n",
      "===================================================================================\n",
      "\n",
      "Warnings:\n",
      "[1] Covariance matrix calculated using the outer product of gradients (complex-step).\n"
     ]
    }
   ],
   "source": [
    "from statsmodels.tsa.arima.model import ARIMA\n",
    "\n",
    "# 1,1,1 ARIMA Model\n",
    "model = ARIMA(pd_test[\"avg(kWh)\"], order=(1,1,0))\n",
    "model_fit = model.fit()\n",
    "print(model_fit.summary())"
   ]
  },
  {
   "cell_type": "code",
   "execution_count": 53,
   "id": "283ee7af",
   "metadata": {},
   "outputs": [
    {
     "data": {
      "image/png": "[encoded data removed]",
      "text/plain": [
       "<Figure size 1080x360 with 2 Axes>"
      ]
     },
     "metadata": {
      "needs_background": "light"
     },
     "output_type": "display_data"
    }
   ],
   "source": [
    "residuals = pd.DataFrame(model_fit.resid)\n",
    "fig, ax = plt.subplots(1,2)\n",
    "residuals.plot(title=\"Residuals\", ax=ax[0])\n",
    "residuals.plot(kind='kde', title='Density', ax=ax[1])\n",
    "plt.show()"
   ]
  },
  {
   "cell_type": "code",
   "execution_count": 54,
   "id": "b3965acc",
   "metadata": {},
   "outputs": [],
   "source": [
    "forecast_steps = 25\n",
    "forecast = model_fit.forecast(steps=forecast_steps)"
   ]
  },
  {
   "cell_type": "code",
   "execution_count": 55,
   "id": "04d69c56",
   "metadata": {},
   "outputs": [
    {
     "data": {
      "image/png": "[encoded data removed]",
      "text/plain": [
       "<Figure size 1440x720 with 1 Axes>"
      ]
     },
     "metadata": {
      "needs_background": "light"
     },
     "output_type": "display_data"
    }
   ],
   "source": [
    "#plot om goed te kunnen kijken hoe dat eruitziet\n",
    "\n",
    "plt.figure(figsize=(12, 6))\n",
    "plt.plot(np.arange(len(pd_test)), pd_test[\"avg(kWh)\"], label='Gegeven data')\n",
    "plt.plot(np.arange(len(pd_test), len(pd_test) + forecast_steps), forecast, label='Forecast', color='red')\n",
    "\n",
    "plt.title('ARIMA Forecast')\n",
    "plt.xlabel('Tijd')\n",
    "plt.ylabel('Waarde')\n",
    "plt.legend()\n",
    "plt.show()"
   ]
  },
  {
   "cell_type": "code",
   "execution_count": 56,
   "id": "759c48d7",
   "metadata": {},
   "outputs": [
    {
     "data": {
      "text/plain": [
       "2716    40.301457\n",
       "2717    36.094599\n",
       "2718    38.215657\n",
       "2719    37.146240\n",
       "2720    37.685430\n",
       "2721    37.413575\n",
       "2722    37.550642\n",
       "2723    37.481534\n",
       "2724    37.516377\n",
       "2725    37.498810\n",
       "2726    37.507667\n",
       "2727    37.503201\n",
       "2728    37.505453\n",
       "2729    37.504318\n",
       "2730    37.504890\n",
       "2731    37.504602\n",
       "2732    37.504747\n",
       "2733    37.504674\n",
       "2734    37.504711\n",
       "2735    37.504692\n",
       "2736    37.504701\n",
       "2737    37.504697\n",
       "2738    37.504699\n",
       "2739    37.504698\n",
       "2740    37.504698\n",
       "Name: predicted_mean, dtype: float64"
      ]
     },
     "execution_count": 56,
     "metadata": {},
     "output_type": "execute_result"
    }
   ],
   "source": [
    "model_fit.forecast(steps=forecast_steps)"
   ]
  },
  {
   "cell_type": "code",
   "execution_count": 57,
   "id": "6cbc61b6",
   "metadata": {},
   "outputs": [
    {
     "data": {
      "image/png": "[encoded data removed]",
      "text/plain": [
       "<Figure size 1440x720 with 1 Axes>"
      ]
     },
     "metadata": {
      "needs_background": "light"
     },
     "output_type": "display_data"
    }
   ],
   "source": [
    "# Assuming births['value'] is a pandas Series\n",
    "last_months_data = pd_test[\"avg(kWh)\"].iloc[-12:]  # Display the last 12 months, adjust as needed\n",
    "\n",
    "forecast_steps = 12  # Adjust the number of forecast steps as needed\n",
    "\n",
    "plt.figure(figsize=(12, 6))\n",
    "\n",
    "# Plot given data\n",
    "plt.plot(np.arange(len(pd_test) - len(last_months_data), len(pd_test)), last_months_data, label='Gegeven data')\n",
    "\n",
    "# Plot forecast\n",
    "forecast_range = np.arange(len(pd_test), len(pd_test) + forecast_steps)\n",
    "plt.plot(forecast_range[:len(last_months_data)], forecast[:len(last_months_data)], label='Forecast', color='red')\n",
    "\n",
    "plt.title('ARIMA Forecast')\n",
    "plt.xlabel('Tijd')\n",
    "plt.ylabel('Waarde')\n",
    "plt.legend()\n",
    "plt.show()"
   ]
  },
  {
   "cell_type": "code",
   "execution_count": 60,
   "id": "10579829",
   "metadata": {},
   "outputs": [],
   "source": [
    "import pandas as pd\n",
    "from datetime import datetime\n",
    "from matplotlib import pyplot\n",
    "from statsmodels.tsa.arima.model import ARIMA\n",
    "from sklearn.metrics import mean_squared_error\n",
    "from math import sqrt\n",
    "import warnings"
   ]
  },
  {
   "cell_type": "code",
   "execution_count": 61,
   "id": "5b5b40be",
   "metadata": {},
   "outputs": [],
   "source": [
    "# evaluate an ARIMA model for a given order (p,d,q)\n",
    "def evaluate_arima_model(X, arima_order):\n",
    "    # prepare training dataset\n",
    "    train_size = int(len(X) * 0.66)\n",
    "    train, test = X[0:train_size], X[train_size:]\n",
    "    history = [x for x in train]\n",
    "    # make predictions\n",
    "    predictions = list()\n",
    "    for t in range(len(test)):\n",
    "        model = ARIMA(history, order=arima_order)\n",
    "        model_fit = model.fit()\n",
    "        yhat = model_fit.forecast()[0]\n",
    "        predictions.append(yhat)\n",
    "        history.append(test[t])\n",
    "    # calculate out of sample error\n",
    "    rmse = sqrt(mean_squared_error(test, predictions))\n",
    "    return rmse"
   ]
  },
  {
   "cell_type": "code",
   "execution_count": 62,
   "id": "4dbdabbc",
   "metadata": {},
   "outputs": [],
   "source": [
    "# evaluate combinations of p, d and q values for an ARIMA model\n",
    "def evaluate_models(dataset, p_values, d_values, q_values):\n",
    "    dataset = dataset.astype('float32')\n",
    "    best_score, best_cfg = float(\"inf\"), None\n",
    "    for p in p_values:\n",
    "        for d in d_values:\n",
    "            for q in q_values:\n",
    "                order = (p,d,q)\n",
    "                try:\n",
    "                    rmse = evaluate_arima_model(dataset, order)\n",
    "                    if rmse < best_score:\n",
    "                        best_score, best_cfg = rmse, order\n",
    "                    print('ARIMA%s RMSE=%.3f' % (order,rmse))\n",
    "                except:\n",
    "                    continue\n",
    "\n",
    "    print('Best ARIMA%s RMSE=%.3f' % (best_cfg, best_score))"
   ]
  },
  {
   "cell_type": "code",
   "execution_count": 65,
   "id": "de785206",
   "metadata": {},
   "outputs": [
    {
     "name": "stdout",
     "output_type": "stream",
     "text": [
      "Best ARIMANone RMSE=inf\n"
     ]
    }
   ],
   "source": [
    "p_values = [0, 1, 2, 4, 6, 8, 10]\n",
    "d_values = range(0, 3)\n",
    "q_values = range(0, 3)\n",
    "warnings.filterwarnings(\"ignore\") # de output is anders heel 'cluttered'. Enkel te gebruiken als je weet waar je mee bezig bent\n",
    "evaluate_models(pd_test[\"avg(kWh)\"], p_values, d_values, q_values)"
   ]
  },
  {
   "cell_type": "code",
   "execution_count": null,
   "id": "eb40a035",
   "metadata": {},
   "outputs": [],
   "source": []
  },
  {
   "cell_type": "code",
   "execution_count": null,
   "id": "090d6241",
   "metadata": {},
   "outputs": [],
   "source": []
  },
  {
   "cell_type": "code",
   "execution_count": null,
   "id": "79c668b8",
   "metadata": {},
   "outputs": [],
   "source": []
  },
  {
   "cell_type": "code",
   "execution_count": null,
   "id": "d3fd81c2",
   "metadata": {},
   "outputs": [],
   "source": []
  },
  {
   "cell_type": "code",
   "execution_count": null,
   "id": "4979558a",
   "metadata": {},
   "outputs": [],
   "source": []
  },
  {
   "cell_type": "code",
   "execution_count": 58,
   "id": "33e996c4",
   "metadata": {},
   "outputs": [
    {
     "name": "stdout",
     "output_type": "stream",
     "text": [
      "+--------+--------------------+-------------------+\n",
      "|features|            avg(kWh)|         prediction|\n",
      "+--------+--------------------+-------------------+\n",
      "|[-17.05]|                 0.0| 2.9624589339798817|\n",
      "| [-9.75]|               0.001| 12.948610541923271|\n",
      "|[-20.95]|0.004076923076923077|-2.3726083634145283|\n",
      "|  [-9.4]|0.004727272727272...| 13.427398632715077|\n",
      "| [-23.7]|               0.041| -6.134514791064433|\n",
      "| [-18.1]| 0.05960000000000001| 1.5260946616044642|\n",
      "|[-12.55]| 0.13933333333333334|  9.118305815588819|\n",
      "|  [-3.0]|              0.1434|  22.18238086433668|\n",
      "| [-9.69]|             0.17125| 13.030688500344723|\n",
      "|[-22.29]| 0.20020000000000002|-4.2056827681602975|\n",
      "|[-26.54]| 0.20020000000000002| -10.01953815634652|\n",
      "| [-6.05]| 0.22500000000000003| 18.010084644579507|\n",
      "| [-1.75]|  0.2348823529411765|  23.89233833145027|\n",
      "|[-22.79]| 0.30000000000000004| -4.889665755005737|\n",
      "| [-15.0]|  0.3338095238095239|  5.766789180046178|\n",
      "| [-2.15]|  0.4119318181818182|  23.34515194197392|\n",
      "| [-5.35]|            0.570875| 18.967660826163122|\n",
      "| [-9.65]|  0.6003999999999999| 13.085407139292357|\n",
      "| [-4.69]|  0.6543333333333332| 19.870518368799097|\n",
      "| [-12.8]|  0.7041923076923076|  8.776314322166101|\n",
      "+--------+--------------------+-------------------+\n",
      "only showing top 20 rows\n",
      "\n"
     ]
    }
   ],
   "source": [
    "from pyspark.ml.feature import VectorAssembler\n",
    "from pyspark.ml.regression import LinearRegression\n",
    "feature_columns = ['avg_temperature']\n",
    "label_column = 'avg(kWh)'\n",
    "\n",
    "# features naar vector omzetten\n",
    "assembler = VectorAssembler(inputCols=feature_columns, outputCol=\"features\")\n",
    "df_assembled = assembler.transform(joined_df)\n",
    "\n",
    "# Split\n",
    "train_data, test_data = df_assembled.randomSplit([0.8, 0.2], seed=123)\n",
    "\n",
    "# Creëer model\n",
    "lr = LinearRegression(maxIter=10, featuresCol=\"features\", labelCol=label_column)\n",
    "\n",
    "# model fitten\n",
    "lr_model = lr.fit(train_data)\n",
    "\n",
    "# voorspellingen op test data\n",
    "predictions = lr_model.transform(test_data)\n",
    "\n",
    "predictions.select(\"features\", label_column, \"prediction\").show()"
   ]
  },
  {
   "cell_type": "code",
   "execution_count": 59,
   "id": "f8eaabc9",
   "metadata": {},
   "outputs": [
    {
     "name": "stdout",
     "output_type": "stream",
     "text": [
      "R2: 0.44295704815138437\n"
     ]
    }
   ],
   "source": [
    "from pyspark.ml.evaluation import RegressionEvaluator\n",
    "evaluator = RegressionEvaluator(labelCol=label_column, predictionCol=\"prediction\", metricName=\"r2\")\n",
    "r2 = evaluator.evaluate(predictions)\n",
    "\n",
    "# R2 value\n",
    "print(f\"R2: {r2}\")"
   ]
  },
  {
   "cell_type": "code",
   "execution_count": null,
   "id": "045c6761",
   "metadata": {},
   "outputs": [],
   "source": []
  },
  {
   "cell_type": "markdown",
   "id": "9d6e7f3e",
   "metadata": {},
   "source": [
    "## Conclusie"
   ]
  },
  {
   "cell_type": "markdown",
   "id": "6c720b9d",
   "metadata": {},
   "source": [
    "Andere kolommen waarvan de productie zeker afhaneklijk is: \n",
    "\n",
    "----\n",
    "max visibility\n",
    "preciptation/rain/snow en vooral snow_on_ground\n",
    "solar_radiation\n",
    "sunrise-sunset\n",
    "daylight"
   ]
  }
 ],
 "metadata": {
  "kernelspec": {
   "display_name": "Python 3 (ipykernel)",
   "language": "python",
   "name": "python3"
  },
  "language_info": {
   "codemirror_mode": {
    "name": "ipython",
    "version": 3
   },
   "file_extension": ".py",
   "mimetype": "text/x-python",
   "name": "python",
   "nbconvert_exporter": "python",
   "pygments_lexer": "ipython3",
   "version": "3.9.12"
  }
 },
 "nbformat": 4,
 "nbformat_minor": 5
}
